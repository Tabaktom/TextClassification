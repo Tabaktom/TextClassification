{
 "cells": [
  {
   "cell_type": "markdown",
   "metadata": {
    "colab": {
     "base_uri": "https://localhost:8080/",
     "height": 97
    },
    "colab_type": "code",
    "id": "Z61ZRtODL249",
    "outputId": "6b6cc806-0622-4895-95f6-273f3ab1c34a"
   },
   "source": [
    "# import keras\n",
    "from keras.callbacks import EarlyStopping\n",
    "imdb = keras.datasets.imdb\n",
    "VOCAB_SIZE = 10000\n",
    "INDEX_FROM =2\n",
    "(train_data, train_labels), (test_data, test_labels)= imdb.load_data(num_words = VOCAB_SIZE, index_from=INDEX_FROM)"
   ]
  },
  {
   "cell_type": "code",
   "execution_count": 0,
   "metadata": {
    "colab": {
     "base_uri": "https://localhost:8080/",
     "height": 171
    },
    "colab_type": "code",
    "id": "1BoEyrjCMfTN",
    "outputId": "b314cb5c-d773-474b-ff73-df678dd70d52"
   },
   "outputs": [
    {
     "name": "stdout",
     "output_type": "stream",
     "text": [
      "Sample review: [1, 13, 21, 15, 42, 529, 972, 1621, 1384, 64, 457, 4467, 65, 3940, 3, 172, 35, 255, 4, 24, 99, 42, 837, 111, 49, 669, 2, 8, 34, 479, 283, 4, 149, 3, 171, 111, 166, 2, 335, 384, 38, 3, 171, 4535, 1110, 16, 545, 37, 12, 446, 3, 191, 49, 15, 5, 146, 2024, 18, 13, 21, 3, 1919, 4612, 468, 3, 21, 70, 86, 11, 15, 42, 529, 37, 75, 14, 12, 1246, 3, 21, 16, 514, 16, 11, 15, 625, 17, 2, 4, 61, 385, 11, 7, 315, 7, 105, 4, 3, 2222, 5243, 15, 479, 65, 3784, 32, 3, 129, 11, 15, 37, 618, 4, 24, 123, 50, 35, 134, 47, 24, 1414, 32, 5, 21, 11, 214, 27, 76, 51, 4, 13, 406, 15, 81, 2, 7, 3, 106, 116, 5951, 14, 255, 3, 2, 6, 3765, 4, 722, 35, 70, 42, 529, 475, 25, 399, 316, 45, 6, 3, 2, 1028, 12, 103, 87, 3, 380, 14, 296, 97, 31, 2070, 55, 25, 140, 5, 193, 7485, 17, 3, 225, 21, 20, 133, 475, 25, 479, 4, 143, 29, 5534, 17, 50, 35, 27, 223, 91, 24, 103, 3, 225, 64, 15, 37, 1333, 87, 11, 15, 282, 4, 15, 4471, 112, 102, 31, 14, 15, 5344, 18, 177, 31]\n",
      "Sample label: 1\n"
     ]
    }
   ],
   "source": [
    "'''SANITY'''\n",
    "print('Sample review: {}'.format(train_data[0]))\n",
    "print('Sample label: {}'.format(test_labels[1]))"
   ]
  },
  {
   "cell_type": "code",
   "execution_count": 0,
   "metadata": {
    "colab": {},
    "colab_type": "code",
    "id": "t2UE9eRNM0v5"
   },
   "outputs": [],
   "source": [
    "from keras.preprocessing.sequence import pad_sequences\n",
    "MAXIMUM_LENGTH = 500\n",
    "preprocessed_train_data = pad_sequences(train_data, maxlen=MAXIMUM_LENGTH)\n",
    "preprocessed_test_data = pad_sequences(test_data, maxlen=MAXIMUM_LENGTH)"
   ]
  },
  {
   "cell_type": "code",
   "execution_count": 0,
   "metadata": {
    "colab": {
     "base_uri": "https://localhost:8080/",
     "height": 51
    },
    "colab_type": "code",
    "id": "SQ_WPYKPNPOL",
    "outputId": "123b92a2-8295-4348-b500-63fbaf319c80"
   },
   "outputs": [
    {
     "name": "stdout",
     "output_type": "stream",
     "text": [
      "Length of sample train_data before preprocessing: 218\n",
      "Length of sample train_data after preprocessing: 500\n"
     ]
    }
   ],
   "source": [
    "'''SANITY'''\n",
    "print('Length of sample train_data before preprocessing:', len(train_data[0]))\n",
    "print('Length of sample train_data after preprocessing:', len(preprocessed_train_data[0]))"
   ]
  },
  {
   "cell_type": "code",
   "execution_count": 0,
   "metadata": {
    "colab": {
     "base_uri": "https://localhost:8080/",
     "height": 664
    },
    "colab_type": "code",
    "id": "Z6VEqFjiNn6R",
    "outputId": "c9884a42-592f-4708-d780-6af1a7843657"
   },
   "outputs": [
    {
     "name": "stdout",
     "output_type": "stream",
     "text": [
      "WARNING:tensorflow:From /usr/local/lib/python3.6/dist-packages/keras/backend/tensorflow_backend.py:541: The name tf.placeholder is deprecated. Please use tf.compat.v1.placeholder instead.\n",
      "\n",
      "WARNING:tensorflow:From /usr/local/lib/python3.6/dist-packages/keras/backend/tensorflow_backend.py:66: The name tf.get_default_graph is deprecated. Please use tf.compat.v1.get_default_graph instead.\n",
      "\n",
      "WARNING:tensorflow:From /usr/local/lib/python3.6/dist-packages/keras/backend/tensorflow_backend.py:4432: The name tf.random_uniform is deprecated. Please use tf.random.uniform instead.\n",
      "\n",
      "WARNING:tensorflow:From /usr/local/lib/python3.6/dist-packages/keras/optimizers.py:793: The name tf.train.Optimizer is deprecated. Please use tf.compat.v1.train.Optimizer instead.\n",
      "\n",
      "WARNING:tensorflow:From /usr/local/lib/python3.6/dist-packages/keras/backend/tensorflow_backend.py:3657: The name tf.log is deprecated. Please use tf.math.log instead.\n",
      "\n",
      "WARNING:tensorflow:From /usr/local/lib/python3.6/dist-packages/tensorflow_core/python/ops/nn_impl.py:183: where (from tensorflow.python.ops.array_ops) is deprecated and will be removed in a future version.\n",
      "Instructions for updating:\n",
      "Use tf.where in 2.0, which has the same broadcast rule as np.where\n",
      "Model: \"model_1\"\n",
      "_________________________________________________________________\n",
      "Layer (type)                 Output Shape              Param #   \n",
      "=================================================================\n",
      "InputLayer (InputLayer)      (None, 500)               0         \n",
      "_________________________________________________________________\n",
      "embedding_1 (Embedding)      (None, 500, 100)          1000000   \n",
      "_________________________________________________________________\n",
      "lstm_1 (LSTM)                (None, 100)               80400     \n",
      "_________________________________________________________________\n",
      "dense_1 (Dense)              (None, 1)                 101       \n",
      "=================================================================\n",
      "Total params: 1,080,501\n",
      "Trainable params: 1,080,501\n",
      "Non-trainable params: 0\n",
      "_________________________________________________________________\n"
     ]
    },
    {
     "name": "stderr",
     "output_type": "stream",
     "text": [
      "/usr/local/lib/python3.6/dist-packages/ipykernel_launcher.py:8: UserWarning: Update your `Model` call to the Keras 2 API: `Model(inputs=Tensor(\"In..., outputs=Tensor(\"de...)`\n",
      "  \n"
     ]
    }
   ],
   "source": [
    "from keras.layers import Input, Embedding, LSTM, Dense\n",
    "import keras\n",
    "EMBEDDING_SIZE=100\n",
    "input_1 = Input((500,), dtype='float', name = 'InputLayer')\n",
    "Embedding_Layer=Embedding(VOCAB_SIZE,EMBEDDING_SIZE)(input_1)\n",
    "LSTM_Layer = LSTM(100)(Embedding_Layer)\n",
    "Output_layer = Dense(1, activation= 'sigmoid')(LSTM_Layer)\n",
    "model = keras.Model(inputs=input_1, output=Output_layer)\n",
    "model.compile(loss = 'binary_crossentropy', metrics =['accuracy'], optimizer='adam' )\n",
    "model.summary()"
   ]
  },
  {
   "cell_type": "code",
   "execution_count": 0,
   "metadata": {
    "colab": {
     "base_uri": "https://localhost:8080/",
     "height": 358
    },
    "colab_type": "code",
    "id": "pc4eyo24SjDU",
    "outputId": "4108fe16-92ab-4278-eedd-7ffde9296f93"
   },
   "outputs": [
    {
     "data": {
      "image/svg+xml": [
       "<svg height=\"253pt\" viewBox=\"0.00 0.00 354.00 304.00\" width=\"295pt\" xmlns=\"http://www.w3.org/2000/svg\" xmlns:xlink=\"http://www.w3.org/1999/xlink\">\n",
       "<g class=\"graph\" id=\"graph0\" transform=\"scale(.8333 .8333) rotate(0) translate(4 300)\">\n",
       "<title>G</title>\n",
       "<polygon fill=\"#ffffff\" points=\"-4,4 -4,-300 350,-300 350,4 -4,4\" stroke=\"transparent\"/>\n",
       "<!-- 140357793840040 -->\n",
       "<g class=\"node\" id=\"node1\">\n",
       "<title>140357793840040</title>\n",
       "<polygon fill=\"none\" points=\"24.5,-249.5 24.5,-295.5 321.5,-295.5 321.5,-249.5 24.5,-249.5\" stroke=\"#000000\"/>\n",
       "<text fill=\"#000000\" font-family=\"Times,serif\" font-size=\"14.00\" text-anchor=\"middle\" x=\"100.5\" y=\"-268.8\">InputLayer: InputLayer</text>\n",
       "<polyline fill=\"none\" points=\"176.5,-249.5 176.5,-295.5 \" stroke=\"#000000\"/>\n",
       "<text fill=\"#000000\" font-family=\"Times,serif\" font-size=\"14.00\" text-anchor=\"middle\" x=\"205.5\" y=\"-280.3\">input:</text>\n",
       "<polyline fill=\"none\" points=\"176.5,-272.5 234.5,-272.5 \" stroke=\"#000000\"/>\n",
       "<text fill=\"#000000\" font-family=\"Times,serif\" font-size=\"14.00\" text-anchor=\"middle\" x=\"205.5\" y=\"-257.3\">output:</text>\n",
       "<polyline fill=\"none\" points=\"234.5,-249.5 234.5,-295.5 \" stroke=\"#000000\"/>\n",
       "<text fill=\"#000000\" font-family=\"Times,serif\" font-size=\"14.00\" text-anchor=\"middle\" x=\"278\" y=\"-280.3\">(None, 500)</text>\n",
       "<polyline fill=\"none\" points=\"234.5,-272.5 321.5,-272.5 \" stroke=\"#000000\"/>\n",
       "<text fill=\"#000000\" font-family=\"Times,serif\" font-size=\"14.00\" text-anchor=\"middle\" x=\"278\" y=\"-257.3\">(None, 500)</text>\n",
       "</g>\n",
       "<!-- 140357793840152 -->\n",
       "<g class=\"node\" id=\"node2\">\n",
       "<title>140357793840152</title>\n",
       "<polygon fill=\"none\" points=\"0,-166.5 0,-212.5 346,-212.5 346,-166.5 0,-166.5\" stroke=\"#000000\"/>\n",
       "<text fill=\"#000000\" font-family=\"Times,serif\" font-size=\"14.00\" text-anchor=\"middle\" x=\"85.5\" y=\"-185.8\">embedding_1: Embedding</text>\n",
       "<polyline fill=\"none\" points=\"171,-166.5 171,-212.5 \" stroke=\"#000000\"/>\n",
       "<text fill=\"#000000\" font-family=\"Times,serif\" font-size=\"14.00\" text-anchor=\"middle\" x=\"200\" y=\"-197.3\">input:</text>\n",
       "<polyline fill=\"none\" points=\"171,-189.5 229,-189.5 \" stroke=\"#000000\"/>\n",
       "<text fill=\"#000000\" font-family=\"Times,serif\" font-size=\"14.00\" text-anchor=\"middle\" x=\"200\" y=\"-174.3\">output:</text>\n",
       "<polyline fill=\"none\" points=\"229,-166.5 229,-212.5 \" stroke=\"#000000\"/>\n",
       "<text fill=\"#000000\" font-family=\"Times,serif\" font-size=\"14.00\" text-anchor=\"middle\" x=\"287.5\" y=\"-197.3\">(None, 500)</text>\n",
       "<polyline fill=\"none\" points=\"229,-189.5 346,-189.5 \" stroke=\"#000000\"/>\n",
       "<text fill=\"#000000\" font-family=\"Times,serif\" font-size=\"14.00\" text-anchor=\"middle\" x=\"287.5\" y=\"-174.3\">(None, 500, 100)</text>\n",
       "</g>\n",
       "<!-- 140357793840040&#45;&gt;140357793840152 -->\n",
       "<g class=\"edge\" id=\"edge1\">\n",
       "<title>140357793840040-&gt;140357793840152</title>\n",
       "<path d=\"M173,-249.3799C173,-241.1745 173,-231.7679 173,-222.8786\" fill=\"none\" stroke=\"#000000\"/>\n",
       "<polygon fill=\"#000000\" points=\"176.5001,-222.784 173,-212.784 169.5001,-222.784 176.5001,-222.784\" stroke=\"#000000\"/>\n",
       "</g>\n",
       "<!-- 140357793840712 -->\n",
       "<g class=\"node\" id=\"node3\">\n",
       "<title>140357793840712</title>\n",
       "<polygon fill=\"none\" points=\"34.5,-83.5 34.5,-129.5 311.5,-129.5 311.5,-83.5 34.5,-83.5\" stroke=\"#000000\"/>\n",
       "<text fill=\"#000000\" font-family=\"Times,serif\" font-size=\"14.00\" text-anchor=\"middle\" x=\"85.5\" y=\"-102.8\">lstm_1: LSTM</text>\n",
       "<polyline fill=\"none\" points=\"136.5,-83.5 136.5,-129.5 \" stroke=\"#000000\"/>\n",
       "<text fill=\"#000000\" font-family=\"Times,serif\" font-size=\"14.00\" text-anchor=\"middle\" x=\"165.5\" y=\"-114.3\">input:</text>\n",
       "<polyline fill=\"none\" points=\"136.5,-106.5 194.5,-106.5 \" stroke=\"#000000\"/>\n",
       "<text fill=\"#000000\" font-family=\"Times,serif\" font-size=\"14.00\" text-anchor=\"middle\" x=\"165.5\" y=\"-91.3\">output:</text>\n",
       "<polyline fill=\"none\" points=\"194.5,-83.5 194.5,-129.5 \" stroke=\"#000000\"/>\n",
       "<text fill=\"#000000\" font-family=\"Times,serif\" font-size=\"14.00\" text-anchor=\"middle\" x=\"253\" y=\"-114.3\">(None, 500, 100)</text>\n",
       "<polyline fill=\"none\" points=\"194.5,-106.5 311.5,-106.5 \" stroke=\"#000000\"/>\n",
       "<text fill=\"#000000\" font-family=\"Times,serif\" font-size=\"14.00\" text-anchor=\"middle\" x=\"253\" y=\"-91.3\">(None, 100)</text>\n",
       "</g>\n",
       "<!-- 140357793840152&#45;&gt;140357793840712 -->\n",
       "<g class=\"edge\" id=\"edge2\">\n",
       "<title>140357793840152-&gt;140357793840712</title>\n",
       "<path d=\"M173,-166.3799C173,-158.1745 173,-148.7679 173,-139.8786\" fill=\"none\" stroke=\"#000000\"/>\n",
       "<polygon fill=\"#000000\" points=\"176.5001,-139.784 173,-129.784 169.5001,-139.784 176.5001,-139.784\" stroke=\"#000000\"/>\n",
       "</g>\n",
       "<!-- 140357793840936 -->\n",
       "<g class=\"node\" id=\"node4\">\n",
       "<title>140357793840936</title>\n",
       "<polygon fill=\"none\" points=\"47,-.5 47,-46.5 299,-46.5 299,-.5 47,-.5\" stroke=\"#000000\"/>\n",
       "<text fill=\"#000000\" font-family=\"Times,serif\" font-size=\"14.00\" text-anchor=\"middle\" x=\"100.5\" y=\"-19.8\">dense_1: Dense</text>\n",
       "<polyline fill=\"none\" points=\"154,-.5 154,-46.5 \" stroke=\"#000000\"/>\n",
       "<text fill=\"#000000\" font-family=\"Times,serif\" font-size=\"14.00\" text-anchor=\"middle\" x=\"183\" y=\"-31.3\">input:</text>\n",
       "<polyline fill=\"none\" points=\"154,-23.5 212,-23.5 \" stroke=\"#000000\"/>\n",
       "<text fill=\"#000000\" font-family=\"Times,serif\" font-size=\"14.00\" text-anchor=\"middle\" x=\"183\" y=\"-8.3\">output:</text>\n",
       "<polyline fill=\"none\" points=\"212,-.5 212,-46.5 \" stroke=\"#000000\"/>\n",
       "<text fill=\"#000000\" font-family=\"Times,serif\" font-size=\"14.00\" text-anchor=\"middle\" x=\"255.5\" y=\"-31.3\">(None, 100)</text>\n",
       "<polyline fill=\"none\" points=\"212,-23.5 299,-23.5 \" stroke=\"#000000\"/>\n",
       "<text fill=\"#000000\" font-family=\"Times,serif\" font-size=\"14.00\" text-anchor=\"middle\" x=\"255.5\" y=\"-8.3\">(None, 1)</text>\n",
       "</g>\n",
       "<!-- 140357793840712&#45;&gt;140357793840936 -->\n",
       "<g class=\"edge\" id=\"edge3\">\n",
       "<title>140357793840712-&gt;140357793840936</title>\n",
       "<path d=\"M173,-83.3799C173,-75.1745 173,-65.7679 173,-56.8786\" fill=\"none\" stroke=\"#000000\"/>\n",
       "<polygon fill=\"#000000\" points=\"176.5001,-56.784 173,-46.784 169.5001,-56.784 176.5001,-56.784\" stroke=\"#000000\"/>\n",
       "</g>\n",
       "</g>\n",
       "</svg>"
      ],
      "text/plain": [
       "<IPython.core.display.SVG object>"
      ]
     },
     "execution_count": 6,
     "metadata": {
      "tags": []
     },
     "output_type": "execute_result"
    }
   ],
   "source": [
    "from keras.utils import plot_model \n",
    "from IPython.display import SVG\n",
    "from keras.utils import vis_utils\n",
    "SVG(vis_utils.model_to_dot(model, show_shapes=True, show_layer_names=True, dpi=60).create(prog='dot', format='svg'))"
   ]
  },
  {
   "cell_type": "code",
   "execution_count": 0,
   "metadata": {
    "colab": {
     "base_uri": "https://localhost:8080/",
     "height": 1000
    },
    "colab_type": "code",
    "id": "uQB76K8kRF79",
    "outputId": "b32c8cca-db68-4c97-c4ca-2f8e31f8b42c"
   },
   "outputs": [
    {
     "name": "stdout",
     "output_type": "stream",
     "text": [
      "WARNING:tensorflow:From /usr/local/lib/python3.6/dist-packages/keras/backend/tensorflow_backend.py:1033: The name tf.assign_add is deprecated. Please use tf.compat.v1.assign_add instead.\n",
      "\n",
      "WARNING:tensorflow:From /usr/local/lib/python3.6/dist-packages/keras/backend/tensorflow_backend.py:1020: The name tf.assign is deprecated. Please use tf.compat.v1.assign instead.\n",
      "\n",
      "WARNING:tensorflow:From /usr/local/lib/python3.6/dist-packages/keras/backend/tensorflow_backend.py:3005: The name tf.Session is deprecated. Please use tf.compat.v1.Session instead.\n",
      "\n",
      "Train on 23000 samples, validate on 2000 samples\n",
      "Epoch 1/3\n",
      "WARNING:tensorflow:From /usr/local/lib/python3.6/dist-packages/keras/backend/tensorflow_backend.py:190: The name tf.get_default_session is deprecated. Please use tf.compat.v1.get_default_session instead.\n",
      "\n",
      "WARNING:tensorflow:From /usr/local/lib/python3.6/dist-packages/keras/backend/tensorflow_backend.py:197: The name tf.ConfigProto is deprecated. Please use tf.compat.v1.ConfigProto instead.\n",
      "\n",
      "WARNING:tensorflow:From /usr/local/lib/python3.6/dist-packages/keras/backend/tensorflow_backend.py:207: The name tf.global_variables is deprecated. Please use tf.compat.v1.global_variables instead.\n",
      "\n",
      "WARNING:tensorflow:From /usr/local/lib/python3.6/dist-packages/keras/backend/tensorflow_backend.py:216: The name tf.is_variable_initialized is deprecated. Please use tf.compat.v1.is_variable_initialized instead.\n",
      "\n",
      "WARNING:tensorflow:From /usr/local/lib/python3.6/dist-packages/keras/backend/tensorflow_backend.py:223: The name tf.variables_initializer is deprecated. Please use tf.compat.v1.variables_initializer instead.\n",
      "\n",
      "23000/23000 [==============================] - 221s 10ms/step - loss: 0.5205 - acc: 0.7399 - val_loss: 0.5369 - val_acc: 0.7195\n",
      "Epoch 2/3\n",
      "23000/23000 [==============================] - 219s 10ms/step - loss: 0.3425 - acc: 0.8534 - val_loss: 0.4793 - val_acc: 0.7615\n",
      "Epoch 3/3\n",
      "23000/23000 [==============================] - 219s 10ms/step - loss: 0.2308 - acc: 0.9121 - val_loss: 0.3242 - val_acc: 0.8660\n"
     ]
    }
   ],
   "source": [
    "x_train = preprocessed_train_data[:23000]\n",
    "x_train_val = preprocessed_train_data[23000:]\n",
    "y_train = train_labels[:23000]\n",
    "y_train_val = train_labels[23000:]\n",
    "#cb = EarlyStopping(monitor='val_acc', mode='auto', patience=5)\n",
    "history = model.fit(x_train, y_train, batch_size = 100, epochs=3, validation_data = (x_train_val, y_train_val))"
   ]
  },
  {
   "cell_type": "code",
   "execution_count": 0,
   "metadata": {
    "colab": {
     "base_uri": "https://localhost:8080/",
     "height": 51
    },
    "colab_type": "code",
    "id": "ZJhbpJLDWNkD",
    "outputId": "0bd172af-5208-4512-9e1f-51842f3c0a47"
   },
   "outputs": [
    {
     "name": "stdout",
     "output_type": "stream",
     "text": [
      "25000/25000 [==============================] - 278s 11ms/step\n",
      "Test Loss: 0.3228259552764893, Test Accuracy: 0.86784\n"
     ]
    }
   ],
   "source": [
    "preprocessed_test_data = pad_sequences(test_data, MAXIMUM_LENGTH)\n",
    "results = model.evaluate(preprocessed_test_data, test_labels)\n",
    "print('Test Loss: {}, Test Accuracy: {}'.format(results[0], results[1]))"
   ]
  },
  {
   "cell_type": "code",
   "execution_count": 0,
   "metadata": {
    "colab": {
     "base_uri": "https://localhost:8080/",
     "height": 295
    },
    "colab_type": "code",
    "id": "VjINsvFjaXOH",
    "outputId": "a3773c66-394c-4155-b8cc-f35079a63e3b"
   },
   "outputs": [
    {
     "data": {
      "image/png": "[encoded data removed]",
      "text/plain": [
       "<Figure size 432x288 with 1 Axes>"
      ]
     },
     "metadata": {
      "tags": []
     },
     "output_type": "display_data"
    }
   ],
   "source": [
    "import matplotlib.pyplot as plt\n",
    "history_dict=history.history\n",
    "acc =history_dict['acc']\n",
    "val_acc =history_dict['val_acc']\n",
    "loss = history_dict['loss']\n",
    "val_loss =history_dict['val_loss']\n",
    "\n",
    "epochs = range(1, len(acc)+1)\n",
    "plt.plot(epochs, acc, 'bo', label='Training acc')\n",
    "plt.plot(epochs, val_acc, 'b', label = 'Validation acc')\n",
    "plt.title('Training and validation accuracy')\n",
    "plt.xlabel('Epochs')\n",
    "plt.ylabel('Accuracy')\n",
    "plt.show()"
   ]
  },
  {
   "cell_type": "code",
   "execution_count": 0,
   "metadata": {
    "colab": {
     "base_uri": "https://localhost:8080/",
     "height": 34
    },
    "colab_type": "code",
    "id": "v_R1T2cedDGg",
    "outputId": "c1cdd888-47c2-46c0-90cc-b1ad265c6c3c"
   },
   "outputs": [
    {
     "name": "stdout",
     "output_type": "stream",
     "text": [
      "Shape of word_embeddings (10000, 100)\n"
     ]
    }
   ],
   "source": [
    "'''sanity check'''\n",
    "embedding = model.get_layer('embedding_1').get_weights()[0]\n",
    "print('Shape of word_embeddings', embedding.shape)"
   ]
  },
  {
   "cell_type": "code",
   "execution_count": 0,
   "metadata": {
    "colab": {
     "base_uri": "https://localhost:8080/",
     "height": 168
    },
    "colab_type": "code",
    "id": "kNjAzww9d2Y1",
    "outputId": "24aec94f-6bd0-46cf-e96f-04ab337790da"
   },
   "outputs": [
    {
     "name": "stdout",
     "output_type": "stream",
     "text": [
      "Downloading data from https://s3.amazonaws.com/text-datasets/imdb_word_index.json\n",
      "1646592/1641221 [==============================] - 1s 0us/step\n",
      "<START> this film was just brilliant casting location scenery story direction everyone's really suited the part they played and you could just imagine being there robert <UNK> is an amazing actor and now the same being director <UNK> father came from the same scottish island as myself so i loved the fact there was a real connection with this film the witty remarks throughout the film were great it was just brilliant so much that i bought the film as soon as it was released for <UNK> and would recommend it to everyone to watch and the fly fishing was amazing really cried at the end it was so sad and you know what they say if you cry at a film it must have been good and this definitely was also <UNK> to the two little boy's that played the <UNK> of norman and paul they were just brilliant children are often left out of the <UNK> list i think because the stars that play them all grown up are such a big profile for the whole film but these children are amazing and should be praised for what they have done don't you think the whole story was so lovely because it was true and was someone's life after all that was shared with us all\n"
     ]
    }
   ],
   "source": [
    "word2idx = imdb.get_word_index()\n",
    "word2idx = {k:(v+INDEX_FROM) for k,v in word2idx.items() if v < 10000}\n",
    "word2idx[\"<PAD>\"] = 0\n",
    "word2idx[\"<START>\"] = 1\n",
    "word2idx[\"<UNK>\"] = 2\n",
    "idx2word = dict([(value, key) for (key, value) in word2idx.items()])\n",
    "print(' '.join(idx2word[idx] for idx in train_data[0]))"
   ]
  },
  {
   "cell_type": "code",
   "execution_count": 0,
   "metadata": {
    "colab": {
     "base_uri": "https://localhost:8080/",
     "height": 134
    },
    "colab_type": "code",
    "id": "QZ07XINFeZNB",
    "outputId": "00286626-f906-4e8c-ebb7-dc6b923780e9"
   },
   "outputs": [
    {
     "name": "stdout",
     "output_type": "stream",
     "text": [
      "[1, 13, 21, 15, 42, 529, 972, 1621, 1384, 64, 457, 4467, 65, 3940, 3, 172, 35, 255, 4, 24, 99, 42, 837, 111, 49, 669, 2, 8, 34, 479, 283, 4, 149, 3, 171, 111, 166, 2, 335, 384, 38, 3, 171, 4535, 1110, 16, 545, 37, 12, 446, 3, 191, 49, 15, 5, 146, 2024, 18, 13, 21, 3, 1919, 4612, 468, 3, 21, 70, 86, 11, 15, 42, 529, 37, 75, 14, 12, 1246, 3, 21, 16, 514, 16, 11, 15, 625, 17, 2, 4, 61, 385, 11, 7, 315, 7, 105, 4, 3, 2222, 5243, 15, 479, 65, 3784, 32, 3, 129, 11, 15, 37, 618, 4, 24, 123, 50, 35, 134, 47, 24, 1414, 32, 5, 21, 11, 214, 27, 76, 51, 4, 13, 406, 15, 81, 2, 7, 3, 106, 116, 5951, 14, 255, 3, 2, 6, 3765, 4, 722, 35, 70, 42, 529, 475, 25, 399, 316, 45, 6, 3, 2, 1028, 12, 103, 87, 3, 380, 14, 296, 97, 31, 2070, 55, 25, 140, 5, 193, 7485, 17, 3, 225, 21, 20, 133, 475, 25, 479, 4, 143, 29, 5534, 17, 50, 35, 27, 223, 91, 24, 103, 3, 225, 64, 15, 37, 1333, 87, 11, 15, 282, 4, 15, 4471, 112, 102, 31, 14, 15, 5344, 18, 177, 31]\n"
     ]
    }
   ],
   "source": [
    "print(train_data[0])"
   ]
  },
  {
   "cell_type": "code",
   "execution_count": 0,
   "metadata": {
    "colab": {
     "base_uri": "https://localhost:8080/",
     "height": 255
    },
    "colab_type": "code",
    "id": "5HD4uRZDfbLm",
    "outputId": "0b9ab645-3fa5-4e58-c584-c91630a80018"
   },
   "outputs": [
    {
     "name": "stdout",
     "output_type": "stream",
     "text": [
      "                   0         1         2   ...        97        98        99\n",
      "woody        0.035299 -0.042817  0.043403  ...  0.065055  0.032356 -0.048318\n",
      "arranged     0.015308 -0.055294  0.064290  ...  0.039551  0.035570 -0.053082\n",
      "bringing    -0.000801  0.023394 -0.003262  ...  0.011711  0.017733  0.015213\n",
      "wooden      -0.041316  0.002127 -0.039710  ... -0.036735  0.006695  0.009491\n",
      "errors      -0.011394 -0.033568 -0.011731  ... -0.024710  0.042593 -0.022483\n",
      "dialogs     -0.019464  0.022224  0.013989  ...  0.022640  0.011196  0.022390\n",
      "kids        -0.014701  0.048014  0.006929  ... -0.040194  0.038370  0.000238\n",
      "uplifting   -0.020246  0.004425  0.023220  ... -0.038134  0.020601 -0.011510\n",
      "controversy -0.039826 -0.040335 -0.021308  ... -0.036421  0.004315 -0.000991\n",
      "projection   0.062749  0.015095  0.011629  ...  0.031551  0.042367  0.058897\n",
      "\n",
      "[10 rows x 100 columns]\n",
      "Shape of embedding: (10000, 100)\n"
     ]
    }
   ],
   "source": [
    "from pandas import DataFrame\n",
    "\n",
    "print(DataFrame(embedding, index=list(idx2word.values())[2:]).head(10))\n",
    "print('Shape of embedding:', embedding.shape)"
   ]
  },
  {
   "cell_type": "code",
   "execution_count": 0,
   "metadata": {
    "colab": {
     "base_uri": "https://localhost:8080/",
     "height": 523
    },
    "colab_type": "code",
    "id": "-PzdEm18e-Kk",
    "outputId": "f83a5995-5415-4dc4-a9d3-8994fa31c016"
   },
   "outputs": [
    {
     "data": {
      "image/png": "[encoded data removed]",
      "text/plain": [
       "<Figure size 1008x576 with 1 Axes>"
      ]
     },
     "metadata": {
      "tags": []
     },
     "output_type": "display_data"
    }
   ],
   "source": [
    "from sklearn.manifold import TSNE \n",
    "import matplotlib.pyplot as plt\n",
    "import numpy as np\n",
    "\n",
    "tsne = TSNE(perplexity=3, n_components=2, init='pca', n_iter=15000, method='exact') \n",
    "np.set_printoptions(suppress=True)\n",
    "start = 3\n",
    "plot_only = 54\n",
    "T = tsne.fit_transform(embedding[start:plot_only, :]) \n",
    "labels = [idx2word[i] for i in range(start, plot_only)]\n",
    "plt.figure(figsize=(14, 8))\n",
    "plt.scatter(T[:, 0], T[:, 1])\n",
    "for label, x, y in zip(labels, T[:, 0], T[:, 1]):\n",
    "  plt.annotate(label, xy=(x+1, y+1), xytext=(0, 0), textcoords='offset points', ha='right',va='bottom')\n"
   ]
  },
  {
   "cell_type": "markdown",
   "metadata": {
    "colab_type": "text",
    "id": "5iQ3WlgEChud"
   },
   "source": [
    "### Adding Dropout layers"
   ]
  },
  {
   "cell_type": "code",
   "execution_count": 0,
   "metadata": {
    "colab": {
     "base_uri": "https://localhost:8080/",
     "height": 576
    },
    "colab_type": "code",
    "id": "u-oC9fhoCgJg",
    "outputId": "74ba80ae-81c8-45da-9510-646ea589a84f"
   },
   "outputs": [
    {
     "name": "stdout",
     "output_type": "stream",
     "text": [
      "WARNING:tensorflow:From /usr/local/lib/python3.6/dist-packages/keras/backend/tensorflow_backend.py:148: The name tf.placeholder_with_default is deprecated. Please use tf.compat.v1.placeholder_with_default instead.\n",
      "\n",
      "WARNING:tensorflow:From /usr/local/lib/python3.6/dist-packages/keras/backend/tensorflow_backend.py:3733: calling dropout (from tensorflow.python.ops.nn_ops) with keep_prob is deprecated and will be removed in a future version.\n",
      "Instructions for updating:\n",
      "Please use `rate` instead of `keep_prob`. Rate should be set to `rate = 1 - keep_prob`.\n",
      "Model: \"model_2\"\n",
      "_________________________________________________________________\n",
      "Layer (type)                 Output Shape              Param #   \n",
      "=================================================================\n",
      "InputLayer (InputLayer)      (None, 500)               0         \n",
      "_________________________________________________________________\n",
      "embedding_2 (Embedding)      (None, 500, 100)          1000000   \n",
      "_________________________________________________________________\n",
      "dropout_1 (Dropout)          (None, 500, 100)          0         \n",
      "_________________________________________________________________\n",
      "lstm_2 (LSTM)                (None, 100)               80400     \n",
      "_________________________________________________________________\n",
      "dropout_2 (Dropout)          (None, 100)               0         \n",
      "_________________________________________________________________\n",
      "dense_2 (Dense)              (None, 1)                 101       \n",
      "=================================================================\n",
      "Total params: 1,080,501\n",
      "Trainable params: 1,080,501\n",
      "Non-trainable params: 0\n",
      "_________________________________________________________________\n"
     ]
    },
    {
     "name": "stderr",
     "output_type": "stream",
     "text": [
      "/usr/local/lib/python3.6/dist-packages/ipykernel_launcher.py:9: UserWarning: Update your `Model` call to the Keras 2 API: `Model(inputs=Tensor(\"In..., outputs=Tensor(\"de...)`\n",
      "  if __name__ == '__main__':\n"
     ]
    }
   ],
   "source": [
    "from keras.layers import Dropout\n",
    "EMBEDDING_SIZE=100\n",
    "input_1 = Input((500,), dtype='float', name = 'InputLayer')\n",
    "Embedding_Layer=Embedding(VOCAB_SIZE,EMBEDDING_SIZE)(input_1)\n",
    "Dropout_1 = Dropout(0.5)(Embedding_Layer)\n",
    "LSTM_Layer = LSTM(100)(Dropout_1)\n",
    "Dropout_2 = Dropout(0.5)(LSTM_Layer)\n",
    "Output_layer = Dense(1, activation= 'sigmoid')(Dropout_2)\n",
    "model_dropout = keras.Model(inputs=input_1, output=Output_layer)\n",
    "model_dropout.compile(loss = 'binary_crossentropy', metrics =['accuracy'], optimizer='adam' )\n",
    "model_dropout.summary()"
   ]
  },
  {
   "cell_type": "code",
   "execution_count": 0,
   "metadata": {
    "colab": {
     "base_uri": "https://localhost:8080/",
     "height": 1000
    },
    "colab_type": "code",
    "id": "Gzg3fNK6DQeG",
    "outputId": "1d5b6344-2de8-48c4-c345-9189639142df"
   },
   "outputs": [
    {
     "name": "stdout",
     "output_type": "stream",
     "text": [
      "Train on 23000 samples, validate on 2000 samples\n",
      "Epoch 1/6\n",
      "23000/23000 [==============================] - 228s 10ms/step - loss: 0.4985 - acc: 0.7543 - val_loss: 0.3771 - val_acc: 0.8480\n",
      "Epoch 2/6\n",
      "23000/23000 [==============================] - 225s 10ms/step - loss: 0.2941 - acc: 0.8821 - val_loss: 0.3061 - val_acc: 0.8780\n",
      "Epoch 3/6\n",
      "23000/23000 [==============================] - 229s 10ms/step - loss: 0.2150 - acc: 0.9193 - val_loss: 0.3207 - val_acc: 0.8595\n",
      "Epoch 4/6\n",
      "23000/23000 [==============================] - 230s 10ms/step - loss: 0.1872 - acc: 0.9322 - val_loss: 0.3186 - val_acc: 0.8765\n",
      "Epoch 5/6\n",
      "23000/23000 [==============================] - 231s 10ms/step - loss: 0.1592 - acc: 0.9430 - val_loss: 0.3636 - val_acc: 0.8730\n",
      "Epoch 6/6\n",
      "23000/23000 [==============================] - 229s 10ms/step - loss: 0.1414 - acc: 0.9483 - val_loss: 0.4163 - val_acc: 0.8110\n"
     ]
    }
   ],
   "source": [
    "history_dropout =model_dropout.fit(x_train, y_train, batch_size = 100, epochs=6, validation_data = (x_train_val, y_train_val))"
   ]
  },
  {
   "cell_type": "code",
   "execution_count": 0,
   "metadata": {
    "colab": {
     "base_uri": "https://localhost:8080/",
     "height": 51
    },
    "colab_type": "code",
    "id": "D5u418VlZ1R-",
    "outputId": "0a3d00ef-aeee-4adc-9342-77d478f8aeed"
   },
   "outputs": [
    {
     "name": "stdout",
     "output_type": "stream",
     "text": [
      "25000/25000 [==============================] - 292s 12ms/step\n",
      "Test Loss: 0.41235715335845946, Test Accuracy: 0.81672\n"
     ]
    }
   ],
   "source": [
    "results_d = model_dropout.evaluate(preprocessed_test_data, test_labels)\n",
    "print('Test Loss: {}, Test Accuracy: {}'.format(results_d[0], results_d[1]))"
   ]
  },
  {
   "cell_type": "code",
   "execution_count": 0,
   "metadata": {
    "colab": {
     "base_uri": "https://localhost:8080/",
     "height": 295
    },
    "colab_type": "code",
    "id": "tZM_FF-yZ-wX",
    "outputId": "f10c5182-ccee-4cc3-87bf-e5325c766361"
   },
   "outputs": [
    {
     "data": {
      "image/png": "[encoded data removed]",
      "text/plain": [
       "<Figure size 432x288 with 1 Axes>"
      ]
     },
     "metadata": {
      "tags": []
     },
     "output_type": "display_data"
    }
   ],
   "source": [
    "history_dict=history_dropout.history\n",
    "acc =history_dict['acc']\n",
    "val_acc =history_dict['val_acc']\n",
    "loss = history_dict['loss']\n",
    "val_loss =history_dict['val_loss']\n",
    "\n",
    "epochs = range(1, len(acc)+1)\n",
    "plt.plot(epochs, acc, 'bo', label='Training acc')\n",
    "plt.plot(epochs, val_acc, 'b', label = 'Validation acc')\n",
    "plt.title('Training and validation accuracy')\n",
    "plt.xlabel('Epochs')\n",
    "plt.ylabel('Accuracy')\n",
    "plt.show()"
   ]
  },
  {
   "cell_type": "code",
   "execution_count": 0,
   "metadata": {
    "colab": {
     "base_uri": "https://localhost:8080/",
     "height": 383
    },
    "colab_type": "code",
    "id": "f8mU9BexfY5B",
    "outputId": "e119064b-c290-4430-83fa-bb6d0b245b53"
   },
   "outputs": [
    {
     "name": "stdout",
     "output_type": "stream",
     "text": [
      "Model: \"model_3\"\n",
      "_________________________________________________________________\n",
      "Layer (type)                 Output Shape              Param #   \n",
      "=================================================================\n",
      "InputLayer (InputLayer)      (None, 500)               0         \n",
      "_________________________________________________________________\n",
      "embedding_3 (Embedding)      (None, 500, 100)          1000000   \n",
      "_________________________________________________________________\n",
      "bidirectional_1 (Bidirection (None, 200)               160800    \n",
      "_________________________________________________________________\n",
      "dense_3 (Dense)              (None, 1)                 201       \n",
      "=================================================================\n",
      "Total params: 1,161,001\n",
      "Trainable params: 1,161,001\n",
      "Non-trainable params: 0\n",
      "_________________________________________________________________\n"
     ]
    },
    {
     "name": "stderr",
     "output_type": "stream",
     "text": [
      "/usr/local/lib/python3.6/dist-packages/ipykernel_launcher.py:6: UserWarning: Update your `Model` call to the Keras 2 API: `Model(inputs=Tensor(\"In..., outputs=Tensor(\"de...)`\n",
      "  \n"
     ]
    }
   ],
   "source": [
    "from keras.layers import Bidirectional\n",
    "input_2 = Input((500,), dtype='float', name = 'InputLayer')\n",
    "Embedding_Layer2=Embedding(VOCAB_SIZE,EMBEDDING_SIZE)(input_2)\n",
    "LSTM_Layer2 = Bidirectional(LSTM(100))(Embedding_Layer2)\n",
    "Output_layer2 = Dense(1, activation= 'sigmoid')(LSTM_Layer2)\n",
    "model2 = keras.Model(inputs=input_2, output=Output_layer2)\n",
    "model2.compile(loss = 'binary_crossentropy', metrics =['accuracy'], optimizer='adam' )\n",
    "model2.summary()"
   ]
  },
  {
   "cell_type": "code",
   "execution_count": 0,
   "metadata": {
    "colab": {
     "base_uri": "https://localhost:8080/",
     "height": 1000
    },
    "colab_type": "code",
    "id": "dsDvUOc4fV3m",
    "outputId": "e1b301ba-26c9-40f3-a7f0-760b35b9ca01"
   },
   "outputs": [
    {
     "name": "stdout",
     "output_type": "stream",
     "text": [
      "Train on 23000 samples, validate on 2000 samples\n",
      "Epoch 1/6\n",
      "23000/23000 [==============================] - 493s 21ms/step - loss: 0.1465 - acc: 0.9470 - val_loss: 0.3783 - val_acc: 0.8620\n",
      "Epoch 2/6\n",
      "23000/23000 [==============================] - 496s 22ms/step - loss: 0.1451 - acc: 0.9466 - val_loss: 0.3740 - val_acc: 0.8720\n",
      "Epoch 3/6\n",
      "23000/23000 [==============================] - 493s 21ms/step - loss: 0.1246 - acc: 0.9549 - val_loss: 0.4640 - val_acc: 0.8595\n",
      "Epoch 4/6\n",
      "23000/23000 [==============================] - 494s 21ms/step - loss: 0.1580 - acc: 0.9377 - val_loss: 0.4690 - val_acc: 0.8705\n",
      "Epoch 5/6\n",
      "23000/23000 [==============================] - 495s 22ms/step - loss: 0.0809 - acc: 0.9730 - val_loss: 0.4733 - val_acc: 0.8660\n",
      "Epoch 6/6\n",
      "23000/23000 [==============================] - 500s 22ms/step - loss: 0.2114 - acc: 0.9206 - val_loss: 0.4176 - val_acc: 0.8485\n"
     ]
    }
   ],
   "source": [
    "history2 =model2.fit(x_train, y_train, batch_size = 100, epochs=6, validation_data = (x_train_val, y_train_val))"
   ]
  },
  {
   "cell_type": "code",
   "execution_count": 0,
   "metadata": {
    "colab": {
     "base_uri": "https://localhost:8080/",
     "height": 51
    },
    "colab_type": "code",
    "id": "zrLYJPR5dpRG",
    "outputId": "3c482615-5fcd-49d5-ba67-ea168af7fbc5"
   },
   "outputs": [
    {
     "name": "stdout",
     "output_type": "stream",
     "text": [
      "25000/25000 [==============================] - 293s 12ms/step\n",
      "Test Loss: 0.41235715335845946, Test Accuracy: 0.81672\n"
     ]
    }
   ],
   "source": [
    "results_b = model_dropout.evaluate(preprocessed_test_data, test_labels)\n",
    "print('Test Loss: {}, Test Accuracy: {}'.format(results_b[0], results_d[1]))"
   ]
  },
  {
   "cell_type": "code",
   "execution_count": 0,
   "metadata": {
    "colab": {
     "base_uri": "https://localhost:8080/",
     "height": 295
    },
    "colab_type": "code",
    "id": "SVvmqRQtlk0w",
    "outputId": "86d2d577-905b-45a2-df00-76defe56871d"
   },
   "outputs": [
    {
     "data": {
      "image/png": "[encoded data removed]",
      "text/plain": [
       "<Figure size 432x288 with 1 Axes>"
      ]
     },
     "metadata": {
      "tags": []
     },
     "output_type": "display_data"
    }
   ],
   "source": [
    "import matplotlib.pyplot as plt\n",
    "history_dict=history2.history\n",
    "acc =history_dict['acc']\n",
    "val_acc =history_dict['val_acc']\n",
    "loss = history_dict['loss']\n",
    "val_loss =history_dict['val_loss']\n",
    "\n",
    "epochs = range(1, len(acc)+1)\n",
    "plt.plot(epochs, acc, 'bo', label='Training acc')\n",
    "plt.plot(epochs, val_acc, 'b', label = 'Validation acc')\n",
    "plt.title('Training and validation accuracy')\n",
    "plt.xlabel('Epochs')\n",
    "plt.ylabel('Accuracy')\n",
    "plt.show()"
   ]
  },
  {
   "cell_type": "code",
   "execution_count": 0,
   "metadata": {
    "colab": {},
    "colab_type": "code",
    "id": "hw4XPOhNCKus"
   },
   "outputs": [],
   "source": []
  }
 ],
 "metadata": {
  "accelerator": "GPU",
  "colab": {
   "collapsed_sections": [],
   "name": "NLP_ass1_lab1c.ipynb",
   "provenance": []
  },
  "kernelspec": {
   "display_name": "Python 3",
   "language": "python",
   "name": "python3"
  },
  "language_info": {
   "codemirror_mode": {
    "name": "ipython",
    "version": 3
   },
   "file_extension": ".py",
   "mimetype": "text/x-python",
   "name": "python",
   "nbconvert_exporter": "python",
   "pygments_lexer": "ipython3",
   "version": "3.7.6"
  }
 },
 "nbformat": 4,
 "nbformat_minor": 1
}
