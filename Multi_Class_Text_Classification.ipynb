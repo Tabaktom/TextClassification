{
 "cells": [
  {
   "cell_type": "code",
   "execution_count": 0,
   "metadata": {
    "colab": {
     "base_uri": "https://localhost:8080/",
     "height": 236
    },
    "colab_type": "code",
    "id": "ZHyESj7XQboj",
    "outputId": "26e01dfa-6b94-4b6b-c3d9-59932b3d3075"
   },
   "outputs": [
    {
     "name": "stdout",
     "output_type": "stream",
     "text": [
      "[nltk_data] Downloading package stopwords to /root/nltk_data...\n",
      "[nltk_data]   Unzipping corpora/stopwords.zip.\n",
      "multilabel guide: {'OFF-TIN-OTH': 0, 'OFF-TIN-IND': 1, 'OFF-TIN-GRP': 2, 'OFF-UNT-NULL': 3, 'NOT-NULL-NULL': 4}\n"
     ]
    },
    {
     "name": "stderr",
     "output_type": "stream",
     "text": [
      "/usr/local/lib/python3.6/dist-packages/ipykernel_launcher.py:47: SettingWithCopyWarning: \n",
      "A value is trying to be set on a copy of a slice from a DataFrame\n",
      "\n",
      "See the caveats in the documentation: http://pandas.pydata.org/pandas-docs/stable/user_guide/indexing.html#returning-a-view-versus-a-copy\n"
     ]
    }
   ],
   "source": [
    "import pandas as pd\n",
    "import csv\n",
    "import string\n",
    "from keras.preprocessing.text import text_to_word_sequence\n",
    "from keras.preprocessing.sequence import pad_sequences\n",
    "import nltk\n",
    "import keras\n",
    "from keras.layers import GlobalAveragePooling1D\n",
    "from nltk.corpus import stopwords\n",
    "import re \n",
    "from keras.callbacks import EarlyStopping\n",
    "nltk.download('stopwords')\n",
    "stop_words = set(stopwords.words('english')) \n",
    "\n",
    "def read_file(path):\n",
    "  dataset = []\n",
    "  with open(path) as csvfile:\n",
    "      file = csv.reader(csvfile, delimiter='\\t')\n",
    "      next(file)\n",
    "      for row in file:\n",
    "        dataset.append(row)\n",
    "  return dataset\n",
    "\n",
    "df_pre = pd.DataFrame(read_file('/content/olid-training-v1.0.tsv'), \n",
    "                      columns = ['ID', 'tweet', 'A', 'B', 'C'])\n",
    "df_pre['Combined'] = df_pre['A']+'-' + df_pre['B'] +'-'+df_pre['C']\n",
    "multilabels = {lab:ind for ind, lab in enumerate(set(df_pre['Combined'].values.tolist()))}\n",
    "print('multilabel guide:', multilabels)\n",
    "\n",
    "levela= pd.read_csv('/content/testset-levela.tsv',  sep='\\t')\n",
    "levelb =pd.read_csv('/content/testset-levelb.tsv', sep='\\t')\n",
    "levelc = pd.read_csv('/content/testset-levelc.tsv', sep='\\t')\n",
    "\n",
    "levela_labels=pd.read_csv('/content/labels-levela.csv', names=['id', 'A'])\n",
    "levelb_labels=pd.read_csv('/content/labels-levelb.csv',  names=['id', 'B'])\n",
    "levelc_labels=pd.read_csv('/content/labels-levelc.csv', names=['id', 'C'])\n",
    "\n",
    "Alevel = pd.merge(levela, levela_labels, on='id')\n",
    "Blevel = pd.merge(levelb, levelb_labels, on='id')\n",
    "Clevel = pd.merge(levelc, levelc_labels, on='id')\n",
    "\n",
    "categorical_test = pd.merge(left=Alevel, right=Blevel, how='left', on=['id', 'tweet'])\n",
    "categorical_test = pd.merge(left=categorical_test, right=Clevel, how='left', on=['id', 'tweet'])\n",
    "categorical_test = categorical_test.fillna('NULL')\n",
    "categorical_test['Combined'] = categorical_test['A']+'-' + categorical_test['B'] +'-'+categorical_test['C']\n",
    "for ind, row in categorical_test.iterrows():\n",
    "  categorical_test['Combined'][ind] = multilabels[row.Combined]\n",
    "\n",
    "def deEmojify(inputString):\n",
    "    return inputString.encode('ascii', 'ignore').decode('ascii')\n",
    "\n",
    "def preprocess(word_string, emojy = False):\n",
    "  if emojy==False:\n",
    "    word_string = deEmojify(word_string)\n",
    "  lower_words = text_to_word_sequence(word_string, filters=string.punctuation, lower = False, split=' ')\n",
    "  Fsentences = [] \n",
    "  for word in lower_words:\n",
    "    words = re.sub('([A-Z][a-z]+)', r' \\1', re.sub('([A-Z]+)', r' \\1', word)).split() \n",
    "    for w in words:\n",
    "      if w not in stop_words and not w.isdigit():\n",
    "        Fsentences.append(w.lower())\n",
    "  length = len(Fsentences)\n",
    "  return Fsentences, length\n",
    "\n"
   ]
  },
  {
   "cell_type": "markdown",
   "metadata": {
    "colab_type": "text",
    "id": "T21LrZRe7EnV"
   },
   "source": [
    "Level A label guide: 0 - OFF, 1 -NOT"
   ]
  },
  {
   "cell_type": "markdown",
   "metadata": {
    "colab_type": "text",
    "id": "JjIhdobAbtlc"
   },
   "source": [
    "## Preprocessing of Text Training data"
   ]
  },
  {
   "cell_type": "code",
   "execution_count": 0,
   "metadata": {
    "colab": {
     "base_uri": "https://localhost:8080/",
     "height": 242
    },
    "colab_type": "code",
    "id": "6aqo3vUCbpD-",
    "outputId": "a7949262-c04e-45b5-c368-6d3611cad042"
   },
   "outputs": [
    {
     "name": "stderr",
     "output_type": "stream",
     "text": [
      "/usr/local/lib/python3.6/dist-packages/pandas/core/indexing.py:205: SettingWithCopyWarning: \n",
      "A value is trying to be set on a copy of a slice from a DataFrame\n",
      "\n",
      "See the caveats in the documentation: http://pandas.pydata.org/pandas-docs/stable/user_guide/indexing.html#returning-a-view-versus-a-copy\n",
      "  self._setitem_with_indexer(indexer, value)\n"
     ]
    }
   ],
   "source": [
    "from sklearn.preprocessing import LabelEncoder, LabelBinarizer, MultiLabelBinarizer\n",
    "from keras.utils import to_categorical\n",
    "from sklearn.preprocessing import OneHotEncoder\n",
    "'''\n",
    "Preprocessing of tweets and finding number of tokens in longest tweet\n",
    "'''\n",
    "def preprocessing_execution(df_pre, emojy=False):\n",
    "  max_length = 0\n",
    "  for ind, row in df_pre.iterrows():\n",
    "    df_pre['tweet'].iloc[ind],length= preprocess(row.tweet, emojy)\n",
    "    if length >max_length:\n",
    "      max_length=length \n",
    "  return df_pre, max_length\n",
    "\n",
    "df_pre, max_length = preprocessing_execution(df_pre, emojy=False)\n",
    "Alevel, _ = preprocessing_execution(Alevel, emojy=False)\n",
    "categorical_test,_ = preprocessing_execution(categorical_test, emojy=False)\n",
    "\n",
    "\n",
    "'''\n",
    "converting string categorical labels to numerical values\n",
    "'''\n",
    "\n",
    "def encode_labels(cols, df):\n",
    "  for col in cols:\n",
    "    labels = df.pop(col)\n",
    "    label_set = set(labels.values)\n",
    "    label_set_ids = {lab: id for id, lab in enumerate(label_set)}\n",
    "    final_labels = [label_set_ids[lab] for lab in labels]\n",
    "    df[col] = final_labels\n",
    "  return df \n",
    "\n",
    "Alevel = encode_labels(['A'],Alevel)\n",
    "df_pre = encode_labels(['A'], df_pre)\n",
    "df_pre = encode_labels(['Combined'], df_pre)\n",
    "\n",
    "le = LabelEncoder()\n",
    "lb = LabelBinarizer()\n",
    "lb.fit(range(max(Alevel['A'].values.tolist())+1))\n",
    "Alevel['A'] = lb.transform(Alevel['A'])\n",
    "df_pre = encode_labels(['Combined'], df_pre)\n",
    "categorical_test_df = encode_labels(['Combined'], categorical_test)\n",
    "\n",
    "'''\n",
    "Creating a dictionary for the vocabulary to be used for word embedding\n",
    "'''\n",
    "text=df_pre['tweet'].values\n",
    "vocab = []\n",
    "for tweet in text:\n",
    "  for word in tweet:\n",
    "    vocab.append(word)\n",
    "vocab = set(vocab)\n",
    "vocab_dict = {}\n",
    "for ind, word in enumerate(vocab):\n",
    "  vocab_dict[word] = ind+2\n",
    "\n",
    "#Reserving Tokens for special purposes\n",
    "vocab_dict[\"<PAD>\"] = 0 \n",
    "vocab_dict[\"<UNK>\"] = 1  \n",
    "vocab_dict[\"<UNUSED>\"] = 2\n",
    "\n",
    "embedded_tweets=[]\n",
    "for tweet in text:\n",
    "  tw = []\n",
    "  for word in tweet:\n",
    "    tw.append(vocab_dict[word])\n",
    "  embedded_tweets.append(tw)\n",
    "df_pre['tweet'] = embedded_tweets\n",
    "\n",
    "def test_embeddings(df, vocab_dict):\n",
    "  embeddings =[]\n",
    "  for tweet in df['tweet'].values:\n",
    "    tw = []\n",
    "    for token in tweet:\n",
    "      if token not in list(vocab_dict.keys()):\n",
    "        tw.append(vocab_dict[\"<UNK>\"])\n",
    "      else:\n",
    "        tw.append(vocab_dict[token])\n",
    "    embeddings.append(tw)\n",
    "  return embeddings\n",
    "\n",
    "levela_test = test_embeddings(Alevel, vocab_dict)\n",
    "categorical_test = test_embeddings(categorical_test, vocab_dict)\n",
    "\n",
    "\n",
    "EMBED_SIZE=max_length*2\n",
    "data_train = pad_sequences(df_pre['tweet'].values, maxlen=EMBED_SIZE)\n",
    "A_test = pad_sequences(levela_test, maxlen=EMBED_SIZE)\n",
    "Categorical_test = pad_sequences(categorical_test, maxlen=EMBED_SIZE)\n"
   ]
  },
  {
   "cell_type": "code",
   "execution_count": 0,
   "metadata": {
    "colab": {},
    "colab_type": "code",
    "id": "53MI8_egeEJg"
   },
   "outputs": [],
   "source": [
    "Xtrain, Ytrain = data_train, df_pre.A.values\n",
    "Ytest =Alevel.A.values.tolist()"
   ]
  },
  {
   "cell_type": "markdown",
   "metadata": {
    "colab_type": "text",
    "id": "Po3PfgcKmYKq"
   },
   "source": [
    "# Level A\n"
   ]
  },
  {
   "cell_type": "markdown",
   "metadata": {
    "colab_type": "text",
    "id": "V_zqLWBCfCPV"
   },
   "source": [
    "### Setting of a Baseline using a linear Support Vector Machine (SVM) - Level A\n"
   ]
  },
  {
   "cell_type": "code",
   "execution_count": 0,
   "metadata": {
    "colab": {
     "base_uri": "https://localhost:8080/",
     "height": 204
    },
    "colab_type": "code",
    "id": "PtIiIo8BdSz_",
    "outputId": "5742767c-2708-4246-a12e-9a6b1c4d9ef7"
   },
   "outputs": [
    {
     "name": "stdout",
     "output_type": "stream",
     "text": [
      "Test: \n",
      "\n",
      "              precision    recall  f1-score   support\n",
      "\n",
      "           0       0.72      1.00      0.84       620\n",
      "           1       1.00      0.00      0.01       240\n",
      "\n",
      "    accuracy                           0.72       860\n",
      "   macro avg       0.86      0.50      0.42       860\n",
      "weighted avg       0.80      0.72      0.61       860\n",
      "\n"
     ]
    }
   ],
   "source": [
    "from sklearn.svm import SVC\n",
    "from sklearn.metrics import classification_report\n",
    "svm_classifier = SVC()\n",
    "svm_classifier.fit(Xtrain[:int(len(Xtrain)*0.8)], Ytrain[:int(len(Ytrain)*0.8)])\n",
    "#train_hat = svm_classifier.predict(data_train)\n",
    "test_hat = svm_classifier.predict(A_test)\n",
    "print('Test: \\n')\n",
    "print(classification_report(Ytest, test_hat))\n"
   ]
  },
  {
   "cell_type": "markdown",
   "metadata": {
    "colab_type": "text",
    "id": "gz0228_ofW2a"
   },
   "source": [
    "### Model 1: Embedding and Global Pooling layers \n",
    "\n",
    "---\n",
    "\n",
    "(Part C)"
   ]
  },
  {
   "cell_type": "code",
   "execution_count": 0,
   "metadata": {
    "colab": {
     "base_uri": "https://localhost:8080/",
     "height": 616
    },
    "colab_type": "code",
    "id": "-sQDS6JfzFhz",
    "outputId": "83ab9e89-8fa5-43a6-abad-41913db1b96f"
   },
   "outputs": [
    {
     "name": "stdout",
     "output_type": "stream",
     "text": [
      "WARNING:tensorflow:From /usr/local/lib/python3.6/dist-packages/keras/backend/tensorflow_backend.py:66: The name tf.get_default_graph is deprecated. Please use tf.compat.v1.get_default_graph instead.\n",
      "\n",
      "WARNING:tensorflow:From /usr/local/lib/python3.6/dist-packages/keras/backend/tensorflow_backend.py:541: The name tf.placeholder is deprecated. Please use tf.compat.v1.placeholder instead.\n",
      "\n",
      "WARNING:tensorflow:From /usr/local/lib/python3.6/dist-packages/keras/backend/tensorflow_backend.py:4432: The name tf.random_uniform is deprecated. Please use tf.random.uniform instead.\n",
      "\n",
      "Model: \"sequential_1\"\n",
      "_________________________________________________________________\n",
      "Layer (type)                 Output Shape              Param #   \n",
      "=================================================================\n",
      "embedding_1 (Embedding)      (None, 162, 100)          1821800   \n",
      "_________________________________________________________________\n",
      "global_average_pooling1d_mas (None, 100)               0         \n",
      "_________________________________________________________________\n",
      "dense_1 (Dense)              (None, 1)                 101       \n",
      "=================================================================\n",
      "Total params: 1,821,901\n",
      "Trainable params: 1,821,901\n",
      "Non-trainable params: 0\n",
      "_________________________________________________________________\n",
      "WARNING:tensorflow:From /usr/local/lib/python3.6/dist-packages/keras/optimizers.py:793: The name tf.train.Optimizer is deprecated. Please use tf.compat.v1.train.Optimizer instead.\n",
      "\n",
      "WARNING:tensorflow:From /usr/local/lib/python3.6/dist-packages/keras/backend/tensorflow_backend.py:3657: The name tf.log is deprecated. Please use tf.math.log instead.\n",
      "\n",
      "WARNING:tensorflow:From /usr/local/lib/python3.6/dist-packages/tensorflow_core/python/ops/nn_impl.py:183: where (from tensorflow.python.ops.array_ops) is deprecated and will be removed in a future version.\n",
      "Instructions for updating:\n",
      "Use tf.where in 2.0, which has the same broadcast rule as np.where\n"
     ]
    }
   ],
   "source": [
    "class GlobalAveragePooling1DMasked(GlobalAveragePooling1D):\n",
    "    def call(self, x, mask=None):\n",
    "        if mask != None:\n",
    "            return K.sum(x, axis=1) / K.sum(mask, axis=1)\n",
    "        else:\n",
    "            return super().call(x)\n",
    "\n",
    "VOCAB_SIZE = len(vocab_dict.items())\n",
    "def Embedding_pooling_model():\n",
    "  model=keras.Sequential()\n",
    "  model.add(keras.layers.Embedding(VOCAB_SIZE, 100, input_length=EMBED_SIZE))\n",
    "  model.add(GlobalAveragePooling1DMasked())\n",
    "  model.add(keras.layers.Dense(1, activation='sigmoid'))\n",
    "  model.summary()\n",
    "  model.compile(optimizer='adam',loss='binary_crossentropy', metrics=['accuracy'])\n",
    "  return model\n",
    "embedding_modelA = Embedding_pooling_model()"
   ]
  },
  {
   "cell_type": "code",
   "execution_count": 0,
   "metadata": {
    "colab": {
     "base_uri": "https://localhost:8080/",
     "height": 1000
    },
    "colab_type": "code",
    "id": "TJu-rqJFfTaI",
    "outputId": "16910c4b-1d8b-4867-8ee2-b5850fb3b383"
   },
   "outputs": [
    {
     "name": "stdout",
     "output_type": "stream",
     "text": [
      "WARNING:tensorflow:From /usr/local/lib/python3.6/dist-packages/keras/backend/tensorflow_backend.py:1033: The name tf.assign_add is deprecated. Please use tf.compat.v1.assign_add instead.\n",
      "\n",
      "WARNING:tensorflow:From /usr/local/lib/python3.6/dist-packages/keras/backend/tensorflow_backend.py:1020: The name tf.assign is deprecated. Please use tf.compat.v1.assign instead.\n",
      "\n",
      "WARNING:tensorflow:From /usr/local/lib/python3.6/dist-packages/keras/backend/tensorflow_backend.py:3005: The name tf.Session is deprecated. Please use tf.compat.v1.Session instead.\n",
      "\n",
      "Train on 10592 samples, validate on 2648 samples\n",
      "Epoch 1/20\n",
      "WARNING:tensorflow:From /usr/local/lib/python3.6/dist-packages/keras/backend/tensorflow_backend.py:190: The name tf.get_default_session is deprecated. Please use tf.compat.v1.get_default_session instead.\n",
      "\n",
      "WARNING:tensorflow:From /usr/local/lib/python3.6/dist-packages/keras/backend/tensorflow_backend.py:197: The name tf.ConfigProto is deprecated. Please use tf.compat.v1.ConfigProto instead.\n",
      "\n",
      "WARNING:tensorflow:From /usr/local/lib/python3.6/dist-packages/keras/backend/tensorflow_backend.py:207: The name tf.global_variables is deprecated. Please use tf.compat.v1.global_variables instead.\n",
      "\n",
      "WARNING:tensorflow:From /usr/local/lib/python3.6/dist-packages/keras/backend/tensorflow_backend.py:216: The name tf.is_variable_initialized is deprecated. Please use tf.compat.v1.is_variable_initialized instead.\n",
      "\n",
      "WARNING:tensorflow:From /usr/local/lib/python3.6/dist-packages/keras/backend/tensorflow_backend.py:223: The name tf.variables_initializer is deprecated. Please use tf.compat.v1.variables_initializer instead.\n",
      "\n",
      "10592/10592 [==============================] - 11s 1ms/step - loss: 0.6371 - acc: 0.6674 - val_loss: 0.6304 - val_acc: 0.6688\n",
      "Epoch 2/20\n",
      "10592/10592 [==============================] - 2s 201us/step - loss: 0.6273 - acc: 0.6674 - val_loss: 0.6241 - val_acc: 0.6688\n",
      "Epoch 3/20\n",
      "10592/10592 [==============================] - 2s 200us/step - loss: 0.6156 - acc: 0.6674 - val_loss: 0.6132 - val_acc: 0.6688\n",
      "Epoch 4/20\n",
      "10592/10592 [==============================] - 2s 191us/step - loss: 0.5943 - acc: 0.6712 - val_loss: 0.5979 - val_acc: 0.6764\n",
      "Epoch 5/20\n",
      "10592/10592 [==============================] - 2s 193us/step - loss: 0.5633 - acc: 0.6964 - val_loss: 0.5786 - val_acc: 0.6922\n",
      "Epoch 6/20\n",
      "10592/10592 [==============================] - 2s 191us/step - loss: 0.5259 - acc: 0.7352 - val_loss: 0.5610 - val_acc: 0.7134\n",
      "Epoch 7/20\n",
      "10592/10592 [==============================] - 2s 196us/step - loss: 0.4866 - acc: 0.7723 - val_loss: 0.5488 - val_acc: 0.7153\n",
      "Epoch 8/20\n",
      "10592/10592 [==============================] - 2s 193us/step - loss: 0.4510 - acc: 0.7998 - val_loss: 0.5362 - val_acc: 0.7413\n",
      "Epoch 9/20\n",
      "10592/10592 [==============================] - 2s 190us/step - loss: 0.4202 - acc: 0.8214 - val_loss: 0.5291 - val_acc: 0.7508\n",
      "Epoch 10/20\n",
      "10592/10592 [==============================] - 2s 189us/step - loss: 0.3902 - acc: 0.8395 - val_loss: 0.5247 - val_acc: 0.7564\n",
      "Epoch 11/20\n",
      "10592/10592 [==============================] - 2s 194us/step - loss: 0.3630 - acc: 0.8558 - val_loss: 0.5266 - val_acc: 0.7666\n",
      "Epoch 12/20\n",
      "10592/10592 [==============================] - 2s 187us/step - loss: 0.3406 - acc: 0.8689 - val_loss: 0.5325 - val_acc: 0.7610\n",
      "Epoch 13/20\n",
      "10592/10592 [==============================] - 2s 197us/step - loss: 0.3196 - acc: 0.8788 - val_loss: 0.5306 - val_acc: 0.7677\n",
      "Epoch 14/20\n",
      "10592/10592 [==============================] - 2s 193us/step - loss: 0.3003 - acc: 0.8880 - val_loss: 0.5360 - val_acc: 0.7666\n",
      "Epoch 15/20\n",
      "10592/10592 [==============================] - 2s 191us/step - loss: 0.2841 - acc: 0.8938 - val_loss: 0.5386 - val_acc: 0.7674\n",
      "Epoch 16/20\n",
      "10592/10592 [==============================] - 2s 190us/step - loss: 0.2672 - acc: 0.8999 - val_loss: 0.5459 - val_acc: 0.7651\n",
      "Epoch 17/20\n",
      "10592/10592 [==============================] - 2s 193us/step - loss: 0.2550 - acc: 0.9069 - val_loss: 0.5515 - val_acc: 0.7651\n",
      "Epoch 18/20\n",
      "10592/10592 [==============================] - 2s 188us/step - loss: 0.2407 - acc: 0.9129 - val_loss: 0.5634 - val_acc: 0.7568\n"
     ]
    }
   ],
   "source": [
    "cb = EarlyStopping(monitor='val_acc', mode='auto', patience=5)\n",
    "history1 = embedding_modelA.fit(Xtrain, Ytrain, epochs=20,\n",
    "                                validation_split=0.2, batch_size=32,\n",
    "                                verbose=1, workers = 3, use_multiprocessing=True, callbacks=[cb])"
   ]
  },
  {
   "cell_type": "code",
   "execution_count": 0,
   "metadata": {
    "colab": {
     "base_uri": "https://localhost:8080/",
     "height": 204
    },
    "colab_type": "code",
    "id": "Xw_BO0OCz7l4",
    "outputId": "27338051-1811-4fa7-8036-9e29410ff6ae"
   },
   "outputs": [
    {
     "name": "stdout",
     "output_type": "stream",
     "text": [
      "Test: \n",
      "\n",
      "              precision    recall  f1-score   support\n",
      "\n",
      "           0       0.82      0.88      0.85       620\n",
      "           1       0.62      0.51      0.56       240\n",
      "\n",
      "    accuracy                           0.78       860\n",
      "   macro avg       0.72      0.69      0.70       860\n",
      "weighted avg       0.77      0.78      0.77       860\n",
      "\n"
     ]
    }
   ],
   "source": [
    "print('Test: \\n')\n",
    "test_hat = [round(x[0], 0) for x in embedding_modelA.predict(A_test)]\n",
    "print(classification_report(Ytest, test_hat))\n"
   ]
  },
  {
   "cell_type": "code",
   "execution_count": 0,
   "metadata": {
    "colab": {
     "base_uri": "https://localhost:8080/",
     "height": 295
    },
    "colab_type": "code",
    "id": "7kiCbKNr0N4U",
    "outputId": "bd59b385-74fc-4fb5-cb2f-aa897b2ae418"
   },
   "outputs": [
    {
     "data": {
      "image/png": "[encoded data removed]",
      "text/plain": [
       "<Figure size 432x288 with 1 Axes>"
      ]
     },
     "metadata": {
      "tags": []
     },
     "output_type": "display_data"
    }
   ],
   "source": [
    "import matplotlib.pyplot as plt\n",
    "\n",
    "def plotting_history(history):\n",
    "  history_dict = history.history\n",
    "  acc = history_dict['acc']\n",
    "  val_acc = history_dict['val_acc']\n",
    "  loss = history_dict['loss']\n",
    "  val_loss = history_dict['val_loss']\n",
    "  epochs = range(1, len(acc) + 1)\n",
    "  plt.plot(epochs, acc, 'bo', label='Training acc')\n",
    "  plt.plot(epochs, val_acc, 'b', label='Validation acc')\n",
    "  plt.title('Training and validation accuracy')\n",
    "  plt.xlabel('Epochs')\n",
    "  plt.ylabel('Accuracy')\n",
    "  plt.legend()\n",
    "  plt.show()\n",
    "\n",
    "plotting_history(history1)"
   ]
  },
  {
   "cell_type": "markdown",
   "metadata": {
    "colab_type": "text",
    "id": "FwhiiFGN8GbS"
   },
   "source": [
    "#### Embedding and Global Pooling with additional layer"
   ]
  },
  {
   "cell_type": "code",
   "execution_count": 0,
   "metadata": {
    "colab": {
     "base_uri": "https://localhost:8080/",
     "height": 1000
    },
    "colab_type": "code",
    "id": "VjVxAbha8Mw3",
    "outputId": "6c88994b-3e00-4355-932d-df654d97d60a"
   },
   "outputs": [
    {
     "name": "stdout",
     "output_type": "stream",
     "text": [
      "Model: \"sequential_2\"\n",
      "_________________________________________________________________\n",
      "Layer (type)                 Output Shape              Param #   \n",
      "=================================================================\n",
      "embedding_2 (Embedding)      (None, 162, 100)          1821800   \n",
      "_________________________________________________________________\n",
      "global_average_pooling1d_mas (None, 100)               0         \n",
      "_________________________________________________________________\n",
      "dense_2 (Dense)              (None, 16)                1616      \n",
      "_________________________________________________________________\n",
      "dense_3 (Dense)              (None, 1)                 17        \n",
      "=================================================================\n",
      "Total params: 1,823,433\n",
      "Trainable params: 1,823,433\n",
      "Non-trainable params: 0\n",
      "_________________________________________________________________\n",
      "Train on 10592 samples, validate on 2648 samples\n",
      "Epoch 1/20\n",
      "10592/10592 [==============================] - 3s 238us/step - loss: 0.6383 - acc: 0.6634 - val_loss: 0.6305 - val_acc: 0.6688\n",
      "Epoch 2/20\n",
      "10592/10592 [==============================] - 2s 206us/step - loss: 0.6273 - acc: 0.6674 - val_loss: 0.6233 - val_acc: 0.6688\n",
      "Epoch 3/20\n",
      "10592/10592 [==============================] - 2s 201us/step - loss: 0.6058 - acc: 0.6703 - val_loss: 0.5960 - val_acc: 0.6839\n",
      "Epoch 4/20\n",
      "10592/10592 [==============================] - 2s 203us/step - loss: 0.5173 - acc: 0.7489 - val_loss: 0.5361 - val_acc: 0.7387\n",
      "Epoch 5/20\n",
      "10592/10592 [==============================] - 2s 211us/step - loss: 0.3972 - acc: 0.8293 - val_loss: 0.5308 - val_acc: 0.7610\n",
      "Epoch 6/20\n",
      "10592/10592 [==============================] - 2s 210us/step - loss: 0.3286 - acc: 0.8669 - val_loss: 0.5614 - val_acc: 0.7651\n",
      "Epoch 7/20\n",
      "10592/10592 [==============================] - 2s 204us/step - loss: 0.2758 - acc: 0.8898 - val_loss: 0.5821 - val_acc: 0.7500\n",
      "Epoch 8/20\n",
      "10592/10592 [==============================] - 2s 199us/step - loss: 0.2419 - acc: 0.9059 - val_loss: 0.6006 - val_acc: 0.7613\n",
      "Epoch 9/20\n",
      "10592/10592 [==============================] - 2s 206us/step - loss: 0.2113 - acc: 0.9187 - val_loss: 0.6329 - val_acc: 0.7564\n",
      "Epoch 10/20\n",
      "10592/10592 [==============================] - 2s 205us/step - loss: 0.1914 - acc: 0.9285 - val_loss: 0.6673 - val_acc: 0.7564\n",
      "Epoch 11/20\n",
      "10592/10592 [==============================] - 2s 204us/step - loss: 0.1740 - acc: 0.9346 - val_loss: 0.7070 - val_acc: 0.7387\n"
     ]
    }
   ],
   "source": [
    "def Embedding_pooling_model_additional(act):\n",
    "  model=keras.Sequential()\n",
    "  model.add(keras.layers.Embedding(VOCAB_SIZE, 100, input_length=EMBED_SIZE))\n",
    "  model.add(GlobalAveragePooling1DMasked())\n",
    "  model.add(keras.layers.Dense(16, activation=act))\n",
    "  model.add(keras.layers.Dense(1, activation='sigmoid'))\n",
    "  model.summary()\n",
    "  model.compile(optimizer='adam',loss='binary_crossentropy', metrics=['accuracy'])\n",
    "  return model\n",
    "embedding_model1R = Embedding_pooling_model_additional('relu')\n",
    "cb = EarlyStopping(monitor='val_acc', mode='auto', patience=5)\n",
    "historyR1 = embedding_model1R.fit(Xtrain, Ytrain, epochs=20,\n",
    "                                validation_split=0.2, batch_size=32,\n",
    "                                verbose=1, workers = 3, use_multiprocessing=True, callbacks=[cb])"
   ]
  },
  {
   "cell_type": "code",
   "execution_count": 0,
   "metadata": {
    "colab": {
     "base_uri": "https://localhost:8080/",
     "height": 204
    },
    "colab_type": "code",
    "id": "HcXhmRYY9Y31",
    "outputId": "94d01660-a679-4754-9b4b-f7500a19205c"
   },
   "outputs": [
    {
     "name": "stdout",
     "output_type": "stream",
     "text": [
      "Test: \n",
      "\n",
      "              precision    recall  f1-score   support\n",
      "\n",
      "           0       0.83      0.85      0.84       620\n",
      "           1       0.58      0.54      0.56       240\n",
      "\n",
      "    accuracy                           0.76       860\n",
      "   macro avg       0.71      0.69      0.70       860\n",
      "weighted avg       0.76      0.76      0.76       860\n",
      "\n"
     ]
    }
   ],
   "source": [
    "print('Test: \\n')\n",
    "test_hat = [round(x[0], 0) for x in embedding_model1R.predict(A_test)]\n",
    "print(classification_report(Ytest, test_hat))"
   ]
  },
  {
   "cell_type": "code",
   "execution_count": 0,
   "metadata": {
    "colab": {
     "base_uri": "https://localhost:8080/",
     "height": 1000
    },
    "colab_type": "code",
    "id": "H2AItgmf99JD",
    "outputId": "ddaeaa16-2b58-4689-d58f-22863259cd02"
   },
   "outputs": [
    {
     "name": "stdout",
     "output_type": "stream",
     "text": [
      "Model: \"sequential_3\"\n",
      "_________________________________________________________________\n",
      "Layer (type)                 Output Shape              Param #   \n",
      "=================================================================\n",
      "embedding_3 (Embedding)      (None, 162, 100)          1821800   \n",
      "_________________________________________________________________\n",
      "global_average_pooling1d_mas (None, 100)               0         \n",
      "_________________________________________________________________\n",
      "dense_4 (Dense)              (None, 16)                1616      \n",
      "_________________________________________________________________\n",
      "dense_5 (Dense)              (None, 1)                 17        \n",
      "=================================================================\n",
      "Total params: 1,823,433\n",
      "Trainable params: 1,823,433\n",
      "Non-trainable params: 0\n",
      "_________________________________________________________________\n",
      "Train on 10592 samples, validate on 2648 samples\n",
      "Epoch 1/20\n",
      "10592/10592 [==============================] - 3s 243us/step - loss: 0.6346 - acc: 0.6674 - val_loss: 0.6300 - val_acc: 0.6688\n",
      "Epoch 2/20\n",
      "10592/10592 [==============================] - 2s 211us/step - loss: 0.6153 - acc: 0.6693 - val_loss: 0.6006 - val_acc: 0.6809\n",
      "Epoch 3/20\n",
      "10592/10592 [==============================] - 2s 203us/step - loss: 0.5290 - acc: 0.7382 - val_loss: 0.5360 - val_acc: 0.7443\n",
      "Epoch 4/20\n",
      "10592/10592 [==============================] - 2s 200us/step - loss: 0.4007 - acc: 0.8270 - val_loss: 0.5520 - val_acc: 0.7538\n",
      "Epoch 5/20\n",
      "10592/10592 [==============================] - 2s 200us/step - loss: 0.3189 - acc: 0.8699 - val_loss: 0.5672 - val_acc: 0.7564\n",
      "Epoch 6/20\n",
      "10592/10592 [==============================] - 2s 202us/step - loss: 0.2671 - acc: 0.8927 - val_loss: 0.6108 - val_acc: 0.7670\n",
      "Epoch 7/20\n",
      "10592/10592 [==============================] - 2s 207us/step - loss: 0.2205 - acc: 0.9140 - val_loss: 0.6556 - val_acc: 0.7583\n",
      "Epoch 8/20\n",
      "10592/10592 [==============================] - 2s 203us/step - loss: 0.1920 - acc: 0.9241 - val_loss: 0.7091 - val_acc: 0.7557\n",
      "Epoch 9/20\n",
      "10592/10592 [==============================] - 2s 207us/step - loss: 0.1653 - acc: 0.9371 - val_loss: 0.7696 - val_acc: 0.7474\n",
      "Epoch 10/20\n",
      "10592/10592 [==============================] - 2s 207us/step - loss: 0.1425 - acc: 0.9475 - val_loss: 0.8345 - val_acc: 0.7538\n",
      "Epoch 11/20\n",
      "10592/10592 [==============================] - 2s 212us/step - loss: 0.1231 - acc: 0.9555 - val_loss: 0.9012 - val_acc: 0.7417\n"
     ]
    }
   ],
   "source": [
    "embedding_model1T = Embedding_pooling_model_additional('tanh')\n",
    "cb = EarlyStopping(monitor='val_acc', mode='auto', patience=5)\n",
    "historyT1 = embedding_model1T.fit(Xtrain, Ytrain, epochs=20,\n",
    "                                validation_split=0.2, batch_size=32,\n",
    "                                verbose=1, workers = 3, use_multiprocessing=True, callbacks=[cb])"
   ]
  },
  {
   "cell_type": "code",
   "execution_count": 0,
   "metadata": {
    "colab": {
     "base_uri": "https://localhost:8080/",
     "height": 204
    },
    "colab_type": "code",
    "id": "2amhvymD-aGk",
    "outputId": "ec0e832f-5cd7-4caf-fcdb-010dd8704df6"
   },
   "outputs": [
    {
     "name": "stdout",
     "output_type": "stream",
     "text": [
      "Test: \n",
      "\n",
      "              precision    recall  f1-score   support\n",
      "\n",
      "           0       0.82      0.86      0.84       620\n",
      "           1       0.58      0.50      0.54       240\n",
      "\n",
      "    accuracy                           0.76       860\n",
      "   macro avg       0.70      0.68      0.69       860\n",
      "weighted avg       0.75      0.76      0.75       860\n",
      "\n"
     ]
    }
   ],
   "source": [
    "print('Test: \\n')\n",
    "test_hat = [round(x[0], 0) for x in embedding_model1T.predict(A_test)]\n",
    "print(classification_report(Ytest, test_hat))"
   ]
  },
  {
   "cell_type": "markdown",
   "metadata": {
    "colab_type": "text",
    "id": "mHQdPGpej085"
   },
   "source": [
    "# Multiclass - combined Levels A, B and C"
   ]
  },
  {
   "cell_type": "markdown",
   "metadata": {
    "colab_type": "text",
    "id": "m8wT9qX1j5gw"
   },
   "source": [
    "### Baseline"
   ]
  },
  {
   "cell_type": "code",
   "execution_count": 0,
   "metadata": {
    "colab": {
     "base_uri": "https://localhost:8080/",
     "height": 409
    },
    "colab_type": "code",
    "id": "8Nkc_Uxsj3zq",
    "outputId": "9456f8bb-ac92-401f-f693-a17d167edab0"
   },
   "outputs": [
    {
     "name": "stdout",
     "output_type": "stream",
     "text": [
      "Test: \n",
      "\n",
      "              precision    recall  f1-score   support\n",
      "\n",
      "           0       0.00      0.00      0.00        35\n",
      "           1       0.00      0.00      0.00       100\n",
      "           2       0.00      0.00      0.00        78\n",
      "           3       0.00      0.00      0.00        27\n",
      "           4       0.72      1.00      0.84       620\n",
      "\n",
      "    accuracy                           0.72       860\n",
      "   macro avg       0.14      0.20      0.17       860\n",
      "weighted avg       0.52      0.72      0.60       860\n",
      "\n"
     ]
    },
    {
     "name": "stderr",
     "output_type": "stream",
     "text": [
      "/usr/local/lib/python3.6/dist-packages/sklearn/metrics/_classification.py:1272: UndefinedMetricWarning: Precision and F-score are ill-defined and being set to 0.0 in labels with no predicted samples. Use `zero_division` parameter to control this behavior.\n",
      "  _warn_prf(average, modifier, msg_start, len(result))\n"
     ]
    }
   ],
   "source": [
    "Xtrain, Ytrain = data_train, df_pre.Combined.values\n",
    "Ytest =categorical_test_df['Combined'].values.tolist()\n",
    "svm_classifier = SVC()\n",
    "svm_classifier.fit(data_train[:int(len(data_train)*0.8)], Ytrain[:int(len(Ytrain)*0.8)])\n",
    "test_hat = svm_classifier.predict(Categorical_test)\n",
    "print('Test: \\n')\n",
    "print(classification_report(Ytest, test_hat))\n"
   ]
  },
  {
   "cell_type": "markdown",
   "metadata": {
    "colab_type": "text",
    "id": "x7ngiBE1HJcB"
   },
   "source": [
    "### Multiclass - Embedding pooling model"
   ]
  },
  {
   "cell_type": "code",
   "execution_count": 0,
   "metadata": {
    "colab": {
     "base_uri": "https://localhost:8080/",
     "height": 1000
    },
    "colab_type": "code",
    "id": "bufiEQ5SmEnm",
    "outputId": "5b958b3c-1c49-4f28-e504-ef049fcc7958"
   },
   "outputs": [
    {
     "name": "stdout",
     "output_type": "stream",
     "text": [
      "Model: \"sequential_4\"\n",
      "_________________________________________________________________\n",
      "Layer (type)                 Output Shape              Param #   \n",
      "=================================================================\n",
      "embedding_4 (Embedding)      (None, 162, 100)          1821800   \n",
      "_________________________________________________________________\n",
      "global_average_pooling1d_mas (None, 100)               0         \n",
      "_________________________________________________________________\n",
      "dense_6 (Dense)              (None, 16)                1616      \n",
      "_________________________________________________________________\n",
      "dense_7 (Dense)              (None, 5)                 85        \n",
      "=================================================================\n",
      "Total params: 1,823,501\n",
      "Trainable params: 1,823,501\n",
      "Non-trainable params: 0\n",
      "_________________________________________________________________\n",
      "Train on 10592 samples, validate on 2648 samples\n",
      "Epoch 1/100\n",
      "10592/10592 [==============================] - 2s 229us/step - loss: 7.3234 - acc: 0.1812 - val_loss: 6.8871 - val_acc: 0.1805\n",
      "Epoch 2/100\n",
      "10592/10592 [==============================] - 2s 190us/step - loss: 6.8930 - acc: 0.1821 - val_loss: 6.8600 - val_acc: 0.1805\n",
      "Epoch 3/100\n",
      "10592/10592 [==============================] - 2s 187us/step - loss: 6.8152 - acc: 0.1821 - val_loss: 6.8161 - val_acc: 0.1805\n",
      "Epoch 4/100\n",
      "10592/10592 [==============================] - 2s 189us/step - loss: 6.6557 - acc: 0.1821 - val_loss: 6.7266 - val_acc: 0.1805\n",
      "Epoch 5/100\n",
      "10592/10592 [==============================] - 2s 189us/step - loss: 6.3051 - acc: 0.1834 - val_loss: 6.6231 - val_acc: 0.1839\n",
      "Epoch 6/100\n",
      "10592/10592 [==============================] - 2s 197us/step - loss: 5.7663 - acc: 0.1999 - val_loss: 6.8205 - val_acc: 0.1922\n",
      "Epoch 7/100\n",
      "10592/10592 [==============================] - 2s 189us/step - loss: 5.2779 - acc: 0.2203 - val_loss: 6.7800 - val_acc: 0.1956\n",
      "Epoch 8/100\n",
      "10592/10592 [==============================] - 2s 196us/step - loss: 4.8768 - acc: 0.2453 - val_loss: 7.4617 - val_acc: 0.1952\n",
      "Epoch 9/100\n",
      "10592/10592 [==============================] - 2s 190us/step - loss: 4.4867 - acc: 0.2852 - val_loss: 7.6201 - val_acc: 0.2281\n",
      "Epoch 10/100\n",
      "10592/10592 [==============================] - 2s 189us/step - loss: 4.1585 - acc: 0.3398 - val_loss: 7.9230 - val_acc: 0.2749\n",
      "Epoch 11/100\n",
      "10592/10592 [==============================] - 2s 185us/step - loss: 3.8455 - acc: 0.3901 - val_loss: 8.4091 - val_acc: 0.2727\n",
      "Epoch 12/100\n",
      "10592/10592 [==============================] - 2s 188us/step - loss: 3.5525 - acc: 0.4197 - val_loss: 9.2910 - val_acc: 0.3255\n",
      "Epoch 13/100\n",
      "10592/10592 [==============================] - 2s 189us/step - loss: 3.3120 - acc: 0.4628 - val_loss: 9.2474 - val_acc: 0.3100\n",
      "Epoch 14/100\n",
      "10592/10592 [==============================] - 2s 188us/step - loss: 3.0580 - acc: 0.5151 - val_loss: 9.7264 - val_acc: 0.3248\n",
      "Epoch 15/100\n",
      "10592/10592 [==============================] - 2s 190us/step - loss: 2.8425 - acc: 0.5556 - val_loss: 11.2442 - val_acc: 0.3674\n",
      "Epoch 16/100\n",
      "10592/10592 [==============================] - 2s 187us/step - loss: 2.6734 - acc: 0.5980 - val_loss: 10.4411 - val_acc: 0.3535\n",
      "Epoch 17/100\n",
      "10592/10592 [==============================] - 2s 184us/step - loss: 2.4971 - acc: 0.6382 - val_loss: 12.0853 - val_acc: 0.4116\n",
      "Epoch 18/100\n",
      "10592/10592 [==============================] - 2s 185us/step - loss: 2.2953 - acc: 0.6799 - val_loss: 14.2877 - val_acc: 0.3875\n",
      "Epoch 19/100\n",
      "10592/10592 [==============================] - 2s 193us/step - loss: 2.1477 - acc: 0.7103 - val_loss: 12.8648 - val_acc: 0.4505\n",
      "Epoch 20/100\n",
      "10592/10592 [==============================] - 2s 190us/step - loss: 1.9710 - acc: 0.7444 - val_loss: 12.7497 - val_acc: 0.4120\n",
      "Epoch 21/100\n",
      "10592/10592 [==============================] - 2s 192us/step - loss: 1.8621 - acc: 0.7613 - val_loss: 14.5636 - val_acc: 0.4807\n",
      "Epoch 22/100\n",
      "10592/10592 [==============================] - 2s 193us/step - loss: 1.7174 - acc: 0.7856 - val_loss: 15.1146 - val_acc: 0.4777\n",
      "Epoch 23/100\n",
      "10592/10592 [==============================] - 2s 192us/step - loss: 1.6311 - acc: 0.7951 - val_loss: 15.8624 - val_acc: 0.4713\n",
      "Epoch 24/100\n",
      "10592/10592 [==============================] - 2s 190us/step - loss: 1.4854 - acc: 0.8151 - val_loss: 16.8495 - val_acc: 0.4898\n",
      "Epoch 25/100\n",
      "10592/10592 [==============================] - 2s 188us/step - loss: 1.3948 - acc: 0.8302 - val_loss: 16.5567 - val_acc: 0.5310\n",
      "Epoch 26/100\n",
      "10592/10592 [==============================] - 2s 196us/step - loss: 1.3243 - acc: 0.8395 - val_loss: 15.7090 - val_acc: 0.4275\n",
      "Epoch 27/100\n",
      "10592/10592 [==============================] - 2s 191us/step - loss: 1.1977 - acc: 0.8549 - val_loss: 16.3189 - val_acc: 0.4751\n",
      "Epoch 28/100\n",
      "10592/10592 [==============================] - 2s 197us/step - loss: 1.1302 - acc: 0.8608 - val_loss: 18.3529 - val_acc: 0.5442\n",
      "Epoch 29/100\n",
      "10592/10592 [==============================] - 2s 195us/step - loss: 1.0701 - acc: 0.8737 - val_loss: 16.8114 - val_acc: 0.4520\n",
      "Epoch 30/100\n",
      "10592/10592 [==============================] - 2s 190us/step - loss: 0.9603 - acc: 0.8866 - val_loss: 19.4577 - val_acc: 0.5177\n",
      "Epoch 31/100\n",
      "10592/10592 [==============================] - 2s 188us/step - loss: 0.9008 - acc: 0.8958 - val_loss: 20.5131 - val_acc: 0.5566\n",
      "Epoch 32/100\n",
      "10592/10592 [==============================] - 2s 195us/step - loss: 0.8633 - acc: 0.8989 - val_loss: 20.2000 - val_acc: 0.5227\n",
      "Epoch 33/100\n",
      "10592/10592 [==============================] - 2s 197us/step - loss: 0.7942 - acc: 0.9090 - val_loss: 20.8829 - val_acc: 0.5283\n",
      "Epoch 34/100\n",
      "10592/10592 [==============================] - 2s 199us/step - loss: 0.7436 - acc: 0.9110 - val_loss: 22.3498 - val_acc: 0.5140\n",
      "Epoch 35/100\n",
      "10592/10592 [==============================] - 2s 191us/step - loss: 0.7381 - acc: 0.9113 - val_loss: 23.5533 - val_acc: 0.5687\n",
      "Epoch 36/100\n",
      "10592/10592 [==============================] - 2s 197us/step - loss: 0.6655 - acc: 0.9195 - val_loss: 23.8564 - val_acc: 0.5472\n",
      "Epoch 37/100\n",
      "10592/10592 [==============================] - 2s 191us/step - loss: 0.6401 - acc: 0.9200 - val_loss: 24.3808 - val_acc: 0.5982\n",
      "Epoch 38/100\n",
      "10592/10592 [==============================] - 2s 190us/step - loss: 0.6117 - acc: 0.9265 - val_loss: 24.1420 - val_acc: 0.5770\n",
      "Epoch 39/100\n",
      "10592/10592 [==============================] - 2s 189us/step - loss: 0.5808 - acc: 0.9307 - val_loss: 24.9140 - val_acc: 0.5797\n",
      "Epoch 40/100\n",
      "10592/10592 [==============================] - 2s 185us/step - loss: 0.5345 - acc: 0.9331 - val_loss: 27.7763 - val_acc: 0.6186\n",
      "Epoch 41/100\n",
      "10592/10592 [==============================] - 2s 189us/step - loss: 0.5234 - acc: 0.9367 - val_loss: 24.8503 - val_acc: 0.5483\n",
      "Epoch 42/100\n",
      "10592/10592 [==============================] - 2s 190us/step - loss: 0.4840 - acc: 0.9396 - val_loss: 24.8031 - val_acc: 0.5476\n",
      "Epoch 43/100\n",
      "10592/10592 [==============================] - 2s 192us/step - loss: 0.4947 - acc: 0.9407 - val_loss: 29.4846 - val_acc: 0.6001\n",
      "Epoch 44/100\n",
      "10592/10592 [==============================] - 2s 188us/step - loss: 0.4511 - acc: 0.9451 - val_loss: 25.6867 - val_acc: 0.5608\n",
      "Epoch 45/100\n",
      "10592/10592 [==============================] - 2s 190us/step - loss: 0.4598 - acc: 0.9464 - val_loss: 26.6543 - val_acc: 0.5415\n",
      "Epoch 46/100\n",
      "10592/10592 [==============================] - 2s 187us/step - loss: 0.4287 - acc: 0.9503 - val_loss: 27.3837 - val_acc: 0.5710\n",
      "Epoch 47/100\n",
      "10592/10592 [==============================] - 2s 188us/step - loss: 0.3921 - acc: 0.9526 - val_loss: 26.9877 - val_acc: 0.5582\n",
      "Epoch 48/100\n",
      "10592/10592 [==============================] - 2s 191us/step - loss: 0.3989 - acc: 0.9541 - val_loss: 27.5801 - val_acc: 0.5759\n",
      "Epoch 49/100\n",
      "10592/10592 [==============================] - 2s 189us/step - loss: 0.4067 - acc: 0.9523 - val_loss: 29.3160 - val_acc: 0.6012\n",
      "Epoch 50/100\n",
      "10592/10592 [==============================] - 2s 185us/step - loss: 0.3530 - acc: 0.9580 - val_loss: 30.5384 - val_acc: 0.6027\n",
      "Epoch 51/100\n",
      "10592/10592 [==============================] - 2s 186us/step - loss: 0.3528 - acc: 0.9583 - val_loss: 32.2240 - val_acc: 0.5823\n",
      "Epoch 52/100\n",
      "10592/10592 [==============================] - 2s 186us/step - loss: 0.3392 - acc: 0.9623 - val_loss: 28.6048 - val_acc: 0.5480\n",
      "Epoch 53/100\n",
      "10592/10592 [==============================] - 2s 190us/step - loss: 0.3445 - acc: 0.9616 - val_loss: 30.1715 - val_acc: 0.5752\n",
      "Epoch 54/100\n",
      "10592/10592 [==============================] - 2s 189us/step - loss: 0.3515 - acc: 0.9623 - val_loss: 29.2310 - val_acc: 0.5468\n",
      "Epoch 55/100\n",
      "10592/10592 [==============================] - 2s 186us/step - loss: 0.3196 - acc: 0.9645 - val_loss: 31.6116 - val_acc: 0.6020\n",
      "Epoch 56/100\n",
      "10592/10592 [==============================] - 2s 192us/step - loss: 0.3619 - acc: 0.9573 - val_loss: 29.4065 - val_acc: 0.5151\n",
      "Epoch 57/100\n",
      "10592/10592 [==============================] - 2s 192us/step - loss: 0.3045 - acc: 0.9641 - val_loss: 31.1220 - val_acc: 0.5736\n",
      "Epoch 58/100\n",
      "10592/10592 [==============================] - 2s 197us/step - loss: 0.2999 - acc: 0.9673 - val_loss: 31.3105 - val_acc: 0.5472\n",
      "Epoch 59/100\n",
      "10592/10592 [==============================] - 2s 194us/step - loss: 0.2658 - acc: 0.9692 - val_loss: 30.2190 - val_acc: 0.5472\n",
      "Epoch 60/100\n",
      "10592/10592 [==============================] - 2s 194us/step - loss: 0.2913 - acc: 0.9677 - val_loss: 33.6754 - val_acc: 0.6144\n",
      "Epoch 61/100\n",
      "10592/10592 [==============================] - 2s 193us/step - loss: 0.2760 - acc: 0.9687 - val_loss: 31.9399 - val_acc: 0.5714\n",
      "Epoch 62/100\n",
      "10592/10592 [==============================] - 2s 190us/step - loss: 0.2676 - acc: 0.9703 - val_loss: 35.8339 - val_acc: 0.6261\n",
      "Epoch 63/100\n",
      "10592/10592 [==============================] - 2s 193us/step - loss: 0.2762 - acc: 0.9727 - val_loss: 31.1540 - val_acc: 0.5517\n",
      "Epoch 64/100\n",
      "10592/10592 [==============================] - 2s 189us/step - loss: 0.2798 - acc: 0.9680 - val_loss: 35.4249 - val_acc: 0.6110\n",
      "Epoch 65/100\n",
      "10592/10592 [==============================] - 2s 195us/step - loss: 0.2478 - acc: 0.9723 - val_loss: 33.5517 - val_acc: 0.5702\n",
      "Epoch 66/100\n",
      "10592/10592 [==============================] - 2s 195us/step - loss: 0.2556 - acc: 0.9711 - val_loss: 36.3611 - val_acc: 0.6152\n",
      "Epoch 67/100\n",
      "10592/10592 [==============================] - 2s 192us/step - loss: 0.2350 - acc: 0.9742 - val_loss: 31.8342 - val_acc: 0.5366\n",
      "Epoch 68/100\n",
      "10592/10592 [==============================] - 2s 190us/step - loss: 0.2373 - acc: 0.9744 - val_loss: 31.4238 - val_acc: 0.5177\n",
      "Epoch 69/100\n",
      "10592/10592 [==============================] - 2s 189us/step - loss: 0.2398 - acc: 0.9737 - val_loss: 31.9326 - val_acc: 0.5295\n",
      "Epoch 70/100\n",
      "10592/10592 [==============================] - 2s 187us/step - loss: 0.2721 - acc: 0.9726 - val_loss: 32.2066 - val_acc: 0.5272\n",
      "Epoch 71/100\n",
      "10592/10592 [==============================] - 2s 189us/step - loss: 0.2568 - acc: 0.9732 - val_loss: 34.9436 - val_acc: 0.5785\n",
      "Epoch 72/100\n",
      "10592/10592 [==============================] - 2s 189us/step - loss: 0.2229 - acc: 0.9754 - val_loss: 33.6707 - val_acc: 0.5287\n",
      "Epoch 73/100\n",
      "10592/10592 [==============================] - 2s 188us/step - loss: 0.2681 - acc: 0.9678 - val_loss: 37.7833 - val_acc: 0.5857\n",
      "Epoch 74/100\n",
      "10592/10592 [==============================] - 2s 190us/step - loss: 0.2388 - acc: 0.9733 - val_loss: 33.7419 - val_acc: 0.5215\n",
      "Epoch 75/100\n",
      "10592/10592 [==============================] - 2s 185us/step - loss: 0.2115 - acc: 0.9784 - val_loss: 36.4753 - val_acc: 0.5887\n",
      "Epoch 76/100\n",
      "10592/10592 [==============================] - 2s 188us/step - loss: 0.1982 - acc: 0.9779 - val_loss: 35.6457 - val_acc: 0.5661\n",
      "Epoch 77/100\n",
      "10592/10592 [==============================] - 2s 186us/step - loss: 0.2024 - acc: 0.9774 - val_loss: 38.9447 - val_acc: 0.5921\n",
      "Epoch 78/100\n",
      "10592/10592 [==============================] - 2s 185us/step - loss: 0.2373 - acc: 0.9757 - val_loss: 35.6552 - val_acc: 0.5366\n",
      "Epoch 79/100\n",
      "10592/10592 [==============================] - 2s 187us/step - loss: 0.2202 - acc: 0.9754 - val_loss: 39.8547 - val_acc: 0.6110\n",
      "Epoch 80/100\n",
      "10592/10592 [==============================] - 2s 188us/step - loss: 0.2149 - acc: 0.9769 - val_loss: 37.2195 - val_acc: 0.5600\n",
      "Epoch 81/100\n",
      "10592/10592 [==============================] - 2s 185us/step - loss: 0.2032 - acc: 0.9794 - val_loss: 38.0622 - val_acc: 0.5804\n",
      "Epoch 82/100\n",
      "10592/10592 [==============================] - 2s 187us/step - loss: 0.2210 - acc: 0.9797 - val_loss: 36.8710 - val_acc: 0.5544\n",
      "Epoch 83/100\n",
      "10592/10592 [==============================] - 2s 187us/step - loss: 0.2010 - acc: 0.9806 - val_loss: 38.7169 - val_acc: 0.6031\n",
      "Epoch 84/100\n",
      "10592/10592 [==============================] - 2s 190us/step - loss: 0.1967 - acc: 0.9808 - val_loss: 35.9830 - val_acc: 0.5295\n",
      "Epoch 85/100\n",
      "10592/10592 [==============================] - 2s 189us/step - loss: 0.2109 - acc: 0.9767 - val_loss: 36.0009 - val_acc: 0.5457\n",
      "Epoch 86/100\n",
      "10592/10592 [==============================] - 2s 197us/step - loss: 0.2018 - acc: 0.9791 - val_loss: 36.0642 - val_acc: 0.4841\n",
      "Epoch 87/100\n",
      "10592/10592 [==============================] - 2s 186us/step - loss: 0.1910 - acc: 0.9794 - val_loss: 36.8077 - val_acc: 0.5378\n",
      "Epoch 88/100\n",
      "10592/10592 [==============================] - 2s 191us/step - loss: 0.1723 - acc: 0.9826 - val_loss: 36.9126 - val_acc: 0.5389\n",
      "Epoch 89/100\n",
      "10592/10592 [==============================] - 2s 189us/step - loss: 0.1981 - acc: 0.9801 - val_loss: 36.9576 - val_acc: 0.5517\n",
      "Epoch 90/100\n",
      "10592/10592 [==============================] - 2s 190us/step - loss: 0.1935 - acc: 0.9779 - val_loss: 35.8902 - val_acc: 0.5136\n",
      "Epoch 91/100\n",
      "10592/10592 [==============================] - 2s 188us/step - loss: 0.1799 - acc: 0.9836 - val_loss: 41.8719 - val_acc: 0.5748\n",
      "Epoch 92/100\n",
      "10592/10592 [==============================] - 2s 185us/step - loss: 0.1897 - acc: 0.9826 - val_loss: 39.7757 - val_acc: 0.5861\n",
      "Epoch 93/100\n",
      "10592/10592 [==============================] - 2s 190us/step - loss: 0.1772 - acc: 0.9824 - val_loss: 41.4727 - val_acc: 0.5880\n",
      "Epoch 94/100\n",
      "10592/10592 [==============================] - 2s 189us/step - loss: 0.2033 - acc: 0.9798 - val_loss: 36.0394 - val_acc: 0.5151\n",
      "Epoch 95/100\n",
      "10592/10592 [==============================] - 2s 196us/step - loss: 0.1972 - acc: 0.9818 - val_loss: 41.3713 - val_acc: 0.5627\n",
      "Epoch 96/100\n",
      "10592/10592 [==============================] - 2s 192us/step - loss: 0.1754 - acc: 0.9823 - val_loss: 39.0665 - val_acc: 0.5574\n",
      "Epoch 97/100\n",
      "10592/10592 [==============================] - 2s 202us/step - loss: 0.1942 - acc: 0.9805 - val_loss: 41.0931 - val_acc: 0.5419\n",
      "Epoch 98/100\n",
      "10592/10592 [==============================] - 2s 189us/step - loss: 0.1821 - acc: 0.9818 - val_loss: 39.5821 - val_acc: 0.5759\n",
      "Epoch 99/100\n",
      "10592/10592 [==============================] - 2s 190us/step - loss: 0.1983 - acc: 0.9809 - val_loss: 43.3976 - val_acc: 0.5997\n",
      "Epoch 100/100\n",
      "10592/10592 [==============================] - 2s 192us/step - loss: 0.1816 - acc: 0.9826 - val_loss: 41.2562 - val_acc: 0.5793\n"
     ]
    }
   ],
   "source": [
    "def Embedding_pooling_model_multiclass():\n",
    "\n",
    "  cb = EarlyStopping(monitor='val_acc', mode='auto', patience=15)\n",
    "  model=keras.Sequential()\n",
    "  model.add(keras.layers.Embedding(VOCAB_SIZE, 100, input_length=EMBED_SIZE))\n",
    "  model.add(GlobalAveragePooling1DMasked())\n",
    "  model.add(keras.layers.Dense(16, activation='relu'))\n",
    "  model.add(keras.layers.Dense(5, activation='softmax'))\n",
    "  model.summary()\n",
    "  model.compile(optimizer='adam',loss='sparse_categorical_crossentropy', metrics=['accuracy'])\n",
    "  return model\n",
    "embedding_model_multiclass = Embedding_pooling_model_multiclass()\n",
    "class_weight = {0: 6.2,\n",
    "                1: 22.97,\n",
    "                2: 7.95, \n",
    "                3: 17.7, \n",
    "                4: 1}\n",
    "\n",
    "history3 = embedding_model_multiclass.fit(Xtrain,Ytrain,epochs=100,\n",
    "                                          validation_split=0.2, batch_size=32, class_weight=class_weight,\n",
    "                                          verbose=1,workers = 3, use_multiprocessing=True)#, callbacks = [cb])\n"
   ]
  },
  {
   "cell_type": "code",
   "execution_count": 0,
   "metadata": {
    "colab": {
     "base_uri": "https://localhost:8080/",
     "height": 221
    },
    "colab_type": "code",
    "id": "tkmE0qdAs3ZV",
    "outputId": "b1a9c9d9-e83e-450c-fe40-bd514f6b8238"
   },
   "outputs": [
    {
     "name": "stdout",
     "output_type": "stream",
     "text": [
      "              precision    recall  f1-score   support\n",
      "\n",
      "           0       0.14      0.09      0.11        35\n",
      "           1       0.30      0.31      0.30       100\n",
      "           2       0.16      0.12      0.13        78\n",
      "           3       0.19      0.26      0.22        27\n",
      "           4       0.79      0.82      0.80       620\n",
      "\n",
      "    accuracy                           0.65       860\n",
      "   macro avg       0.31      0.32      0.31       860\n",
      "weighted avg       0.63      0.65      0.64       860\n",
      "\n"
     ]
    }
   ],
   "source": [
    "import numpy as np\n",
    "print(classification_report(Ytest, np.argmax(embedding_model_multiclass.predict(Categorical_test), axis =1)))"
   ]
  },
  {
   "cell_type": "code",
   "execution_count": 0,
   "metadata": {
    "colab": {
     "base_uri": "https://localhost:8080/",
     "height": 295
    },
    "colab_type": "code",
    "id": "5RZpsROctlvo",
    "outputId": "a9a5216a-4a01-4f7b-f3a4-d83d7650fe0b"
   },
   "outputs": [
    {
     "data": {
      "image/png": "[encoded data removed]",
      "text/plain": [
       "<Figure size 432x288 with 1 Axes>"
      ]
     },
     "metadata": {
      "tags": []
     },
     "output_type": "display_data"
    }
   ],
   "source": [
    "class_weight = {0: 20,\n",
    "                1: 2,\n",
    "                2: 1.5, \n",
    "                3: 18, \n",
    "                4: 1}\n",
    "plotting_history(history3)"
   ]
  },
  {
   "cell_type": "markdown",
   "metadata": {
    "colab_type": "text",
    "id": "VKUmQpOqIRZq"
   },
   "source": [
    "### Additional model architectures"
   ]
  },
  {
   "cell_type": "markdown",
   "metadata": {
    "colab_type": "text",
    "id": "D8tQcGLnojqr"
   },
   "source": [
    "#### Convolutional NN"
   ]
  },
  {
   "cell_type": "code",
   "execution_count": 0,
   "metadata": {
    "colab": {
     "base_uri": "https://localhost:8080/",
     "height": 1000
    },
    "colab_type": "code",
    "id": "1YLpaWaToit-",
    "outputId": "57a3b5aa-7c0b-45d3-ec41-68dee7ab5a0f"
   },
   "outputs": [
    {
     "name": "stdout",
     "output_type": "stream",
     "text": [
      "Model: \"sequential_9\"\n",
      "_________________________________________________________________\n",
      "Layer (type)                 Output Shape              Param #   \n",
      "=================================================================\n",
      "embedding_9 (Embedding)      (None, 162, 100)          1821800   \n",
      "_________________________________________________________________\n",
      "conv1d_2 (Conv1D)            (None, 157, 3)            1803      \n",
      "_________________________________________________________________\n",
      "global_average_pooling1d_mas (None, 3)                 0         \n",
      "_________________________________________________________________\n",
      "dense_16 (Dense)             (None, 5)                 20        \n",
      "=================================================================\n",
      "Total params: 1,823,623\n",
      "Trainable params: 1,823,623\n",
      "Non-trainable params: 0\n",
      "_________________________________________________________________\n",
      "Train on 10592 samples, validate on 2648 samples\n",
      "Epoch 1/20\n",
      "10592/10592 [==============================] - 3s 323us/step - loss: 1.2273 - acc: 0.4515 - val_loss: 1.0187 - val_acc: 0.6688\n",
      "Epoch 2/20\n",
      "10592/10592 [==============================] - 2s 207us/step - loss: 1.0120 - acc: 0.6674 - val_loss: 1.0062 - val_acc: 0.6688\n",
      "Epoch 3/20\n",
      "10592/10592 [==============================] - 2s 205us/step - loss: 0.9831 - acc: 0.6681 - val_loss: 0.9730 - val_acc: 0.6726\n",
      "Epoch 4/20\n",
      "10592/10592 [==============================] - 2s 210us/step - loss: 0.8849 - acc: 0.7069 - val_loss: 0.9330 - val_acc: 0.6873\n",
      "Epoch 5/20\n",
      "10592/10592 [==============================] - 2s 207us/step - loss: 0.7870 - acc: 0.7448 - val_loss: 0.9252 - val_acc: 0.6915\n",
      "Epoch 6/20\n",
      "10592/10592 [==============================] - 2s 205us/step - loss: 0.7116 - acc: 0.7701 - val_loss: 0.9271 - val_acc: 0.6892\n",
      "Epoch 7/20\n",
      "10592/10592 [==============================] - 2s 208us/step - loss: 0.6488 - acc: 0.7929 - val_loss: 0.9374 - val_acc: 0.6881\n",
      "Epoch 8/20\n",
      "10592/10592 [==============================] - 2s 206us/step - loss: 0.5938 - acc: 0.8117 - val_loss: 0.9571 - val_acc: 0.6869\n",
      "Epoch 9/20\n",
      "10592/10592 [==============================] - 2s 204us/step - loss: 0.5503 - acc: 0.8246 - val_loss: 0.9810 - val_acc: 0.6847\n",
      "Epoch 10/20\n",
      "10592/10592 [==============================] - 2s 205us/step - loss: 0.5085 - acc: 0.8374 - val_loss: 1.0123 - val_acc: 0.6832\n",
      "              precision    recall  f1-score   support\n",
      "\n",
      "           0       0.00      0.00      0.00        35\n",
      "           1       0.37      0.45      0.41       100\n",
      "           2       0.31      0.14      0.19        78\n",
      "           3       0.00      0.00      0.00        27\n",
      "           4       0.81      0.91      0.86       620\n",
      "\n",
      "    accuracy                           0.72       860\n",
      "   macro avg       0.30      0.30      0.29       860\n",
      "weighted avg       0.65      0.72      0.68       860\n",
      "\n"
     ]
    },
    {
     "name": "stderr",
     "output_type": "stream",
     "text": [
      "/usr/local/lib/python3.6/dist-packages/sklearn/metrics/_classification.py:1272: UndefinedMetricWarning: Precision and F-score are ill-defined and being set to 0.0 in labels with no predicted samples. Use `zero_division` parameter to control this behavior.\n",
      "  _warn_prf(average, modifier, msg_start, len(result))\n"
     ]
    }
   ],
   "source": [
    "cb = EarlyStopping(monitor='val_acc', mode='auto', patience=5)\n",
    "def Conv_Model():\n",
    "  Num_filters =3\n",
    "  Filter_width=6\n",
    "  cb = EarlyStopping(monitor='val_acc', mode='auto', patience=5)\n",
    "  model=keras.Sequential()\n",
    "  model.add(keras.layers.Embedding(VOCAB_SIZE, 100, input_length=EMBED_SIZE))\n",
    "  model.add(keras.layers.Conv1D(Num_filters, kernel_size=Filter_width, activation='relu'))\n",
    "  model.add(GlobalAveragePooling1DMasked())\n",
    "  #model.add(keras.layers.Dropout(0.5))\n",
    "  model.add(keras.layers.Dense(5, activation='softmax'))\n",
    "  model.compile(optimizer='adam', loss='sparse_categorical_crossentropy', metrics=['accuracy'])\n",
    "  model.summary()\n",
    "  return model\n",
    "conv_model = Conv_Model()\n",
    "conv_hist = conv_model.fit(Xtrain,Ytrain,epochs=20, validation_split=0.2, \n",
    "                           batch_size=32,verbose=1,workers = 3, \n",
    "                           use_multiprocessing=True, callbacks = [cb])\n",
    "print(classification_report(Ytest, np.argmax(conv_model.predict(Categorical_test), axis =1)))"
   ]
  },
  {
   "cell_type": "markdown",
   "metadata": {
    "colab_type": "text",
    "id": "FjawbSOyooRT"
   },
   "source": [
    "#### Embedding-Pooling (increased_depth)"
   ]
  },
  {
   "cell_type": "code",
   "execution_count": 0,
   "metadata": {
    "colab": {
     "base_uri": "https://localhost:8080/",
     "height": 1000
    },
    "colab_type": "code",
    "id": "OX8dFEehkCAq",
    "outputId": "f95f5bb7-5e2f-4d2d-b146-61fe08a41433"
   },
   "outputs": [
    {
     "name": "stdout",
     "output_type": "stream",
     "text": [
      "Model: \"sequential_6\"\n",
      "_________________________________________________________________\n",
      "Layer (type)                 Output Shape              Param #   \n",
      "=================================================================\n",
      "embedding_6 (Embedding)      (None, 162, 100)          1821800   \n",
      "_________________________________________________________________\n",
      "global_average_pooling1d_mas (None, 100)               0         \n",
      "_________________________________________________________________\n",
      "dense_9 (Dense)              (None, 256)               25856     \n",
      "_________________________________________________________________\n",
      "dense_10 (Dense)             (None, 128)               32896     \n",
      "_________________________________________________________________\n",
      "dense_11 (Dense)             (None, 64)                8256      \n",
      "_________________________________________________________________\n",
      "dense_12 (Dense)             (None, 16)                1040      \n",
      "_________________________________________________________________\n",
      "dense_13 (Dense)             (None, 5)                 85        \n",
      "=================================================================\n",
      "Total params: 1,889,933\n",
      "Trainable params: 1,889,933\n",
      "Non-trainable params: 0\n",
      "_________________________________________________________________\n",
      "Train on 10592 samples, validate on 2648 samples\n",
      "Epoch 1/20\n",
      "10592/10592 [==============================] - 3s 277us/step - loss: 1.0429 - acc: 0.6674 - val_loss: 1.0018 - val_acc: 0.6688\n",
      "Epoch 2/20\n",
      "10592/10592 [==============================] - 2s 221us/step - loss: 0.9663 - acc: 0.6689 - val_loss: 0.9412 - val_acc: 0.6711\n",
      "Epoch 3/20\n",
      "10592/10592 [==============================] - 2s 227us/step - loss: 0.8036 - acc: 0.7204 - val_loss: 0.9117 - val_acc: 0.6941\n",
      "Epoch 4/20\n",
      "10592/10592 [==============================] - 2s 226us/step - loss: 0.6786 - acc: 0.7632 - val_loss: 0.9699 - val_acc: 0.6877\n",
      "Epoch 5/20\n",
      "10592/10592 [==============================] - 2s 218us/step - loss: 0.6127 - acc: 0.7828 - val_loss: 1.0807 - val_acc: 0.6884\n",
      "Epoch 6/20\n",
      "10592/10592 [==============================] - 2s 219us/step - loss: 0.5651 - acc: 0.7973 - val_loss: 1.1755 - val_acc: 0.6344\n",
      "Epoch 7/20\n",
      "10592/10592 [==============================] - 2s 223us/step - loss: 0.5285 - acc: 0.8063 - val_loss: 1.2118 - val_acc: 0.6805\n",
      "Epoch 8/20\n",
      "10592/10592 [==============================] - 2s 217us/step - loss: 0.4562 - acc: 0.8343 - val_loss: 1.4844 - val_acc: 0.6983\n",
      "Epoch 9/20\n",
      "10592/10592 [==============================] - 2s 222us/step - loss: 0.3850 - acc: 0.8638 - val_loss: 1.4142 - val_acc: 0.6782\n",
      "Epoch 10/20\n",
      "10592/10592 [==============================] - 2s 219us/step - loss: 0.3305 - acc: 0.8846 - val_loss: 1.5289 - val_acc: 0.6518\n",
      "Epoch 11/20\n",
      "10592/10592 [==============================] - 2s 224us/step - loss: 0.3003 - acc: 0.8913 - val_loss: 1.5538 - val_acc: 0.6594\n",
      "Epoch 12/20\n",
      "10592/10592 [==============================] - 2s 227us/step - loss: 0.2677 - acc: 0.9024 - val_loss: 1.7746 - val_acc: 0.6745\n",
      "Epoch 13/20\n",
      "10592/10592 [==============================] - 2s 220us/step - loss: 0.2615 - acc: 0.9092 - val_loss: 1.8491 - val_acc: 0.6677\n",
      "              precision    recall  f1-score   support\n",
      "\n",
      "           0       0.20      0.09      0.12        35\n",
      "           1       0.32      0.44      0.37       100\n",
      "           2       0.39      0.15      0.22        78\n",
      "           3       0.00      0.00      0.00        27\n",
      "           4       0.81      0.88      0.84       620\n",
      "\n",
      "    accuracy                           0.70       860\n",
      "   macro avg       0.34      0.31      0.31       860\n",
      "weighted avg       0.67      0.70      0.68       860\n",
      "\n"
     ]
    }
   ],
   "source": [
    "def Embedding_pooling_model_multiclass_extra_layer():\n",
    "  cb = EarlyStopping(monitor='val_acc', mode='auto', patience=5)\n",
    "  model=keras.Sequential()\n",
    "  model.add(keras.layers.Embedding(VOCAB_SIZE, 100, input_length=EMBED_SIZE))\n",
    "  model.add(GlobalAveragePooling1DMasked())\n",
    "  model.add(keras.layers.Dense(256, activation='relu'))\n",
    "  model.add(keras.layers.Dense(128, activation='relu'))\n",
    "  model.add(keras.layers.Dense(64, activation='relu'))\n",
    "  model.add(keras.layers.Dense(16, activation='relu'))\n",
    "  model.add(keras.layers.Dense(5, activation='softmax'))\n",
    "  model.summary()\n",
    "  model.compile(optimizer='adam',loss='sparse_categorical_crossentropy', metrics=['accuracy'])\n",
    "  return model\n",
    "embedding_pooling_model_multiclass_extra_layer = Embedding_pooling_model_multiclass_extra_layer()\n",
    "history4 = embedding_pooling_model_multiclass_extra_layer.fit(Xtrain,Ytrain,epochs=20,\n",
    "                                                              validation_split=0.2, batch_size=32,\n",
    "                                                              verbose=1,workers = 3, use_multiprocessing=True, callbacks = [cb])\n",
    "print(classification_report(Ytest, np.argmax(embedding_pooling_model_multiclass_extra_layer.predict(Categorical_test), axis =1)))"
   ]
  },
  {
   "cell_type": "markdown",
   "metadata": {
    "colab_type": "text",
    "id": "4FHILG1HsZ8I"
   },
   "source": [
    "#### Seperate models into pipeline"
   ]
  },
  {
   "cell_type": "code",
   "execution_count": 0,
   "metadata": {
    "colab": {
     "base_uri": "https://localhost:8080/",
     "height": 1000
    },
    "colab_type": "code",
    "id": "I6Iod8-8sfpy",
    "outputId": "fd5e9cf7-de7c-424d-acbb-5290f5265774"
   },
   "outputs": [
    {
     "name": "stderr",
     "output_type": "stream",
     "text": [
      "/usr/local/lib/python3.6/dist-packages/ipykernel_launcher.py:20: UserWarning: Update your `Model` call to the Keras 2 API: `Model(inputs=[<tf.Tenso..., outputs=[<tf.Tenso...)`\n"
     ]
    },
    {
     "name": "stdout",
     "output_type": "stream",
     "text": [
      "Model: \"model_5\"\n",
      "__________________________________________________________________________________________________\n",
      "Layer (type)                    Output Shape         Param #     Connected to                     \n",
      "==================================================================================================\n",
      "inputA (InputLayer)             (None, 162)          0                                            \n",
      "__________________________________________________________________________________________________\n",
      "inputB (InputLayer)             (None, 162)          0                                            \n",
      "__________________________________________________________________________________________________\n",
      "inputC (InputLayer)             (None, 162)          0                                            \n",
      "__________________________________________________________________________________________________\n",
      "modelA_hidden1 (Dense)          (None, 648)          105624      inputA[0][0]                     \n",
      "__________________________________________________________________________________________________\n",
      "modelB_hidden1 (Dense)          (None, 648)          105624      inputB[0][0]                     \n",
      "__________________________________________________________________________________________________\n",
      "modelC_hidden1 (Dense)          (None, 648)          105624      inputC[0][0]                     \n",
      "__________________________________________________________________________________________________\n",
      "outputA (Dense)                 (None, 1)            649         modelA_hidden1[0][0]             \n",
      "__________________________________________________________________________________________________\n",
      "outputB (Dense)                 (None, 3)            1947        modelB_hidden1[0][0]             \n",
      "__________________________________________________________________________________________________\n",
      "outputC (Dense)                 (None, 4)            2596        modelC_hidden1[0][0]             \n",
      "__________________________________________________________________________________________________\n",
      "IndividualConcat (Concatenate)  (None, 8)            0           outputA[0][0]                    \n",
      "                                                                 outputB[0][0]                    \n",
      "                                                                 outputC[0][0]                    \n",
      "__________________________________________________________________________________________________\n",
      "Final_Model_1 (Dense)           (None, 10)           90          IndividualConcat[0][0]           \n",
      "__________________________________________________________________________________________________\n",
      "Final_Model_2 (Dense)           (None, 128)          1408        Final_Model_1[0][0]              \n",
      "__________________________________________________________________________________________________\n",
      "Final_Output (Dense)            (None, 5)            645         Final_Model_2[0][0]              \n",
      "==================================================================================================\n",
      "Total params: 324,207\n",
      "Trainable params: 324,207\n",
      "Non-trainable params: 0\n",
      "__________________________________________________________________________________________________\n",
      "Train on 10592 samples, validate on 2648 samples\n",
      "Epoch 1/20\n",
      "10592/10592 [==============================] - 4s 340us/step - loss: 1.0658 - acc: 0.6657 - val_loss: 1.0139 - val_acc: 0.6688\n",
      "Epoch 2/20\n",
      "10592/10592 [==============================] - 2s 180us/step - loss: 1.0184 - acc: 0.6674 - val_loss: 1.0135 - val_acc: 0.6688\n",
      "Epoch 3/20\n",
      "10592/10592 [==============================] - 2s 174us/step - loss: 1.0189 - acc: 0.6674 - val_loss: 1.0137 - val_acc: 0.6688\n",
      "Epoch 4/20\n",
      "10592/10592 [==============================] - 2s 176us/step - loss: 1.0182 - acc: 0.6674 - val_loss: 1.0136 - val_acc: 0.6688\n",
      "Epoch 5/20\n",
      "10592/10592 [==============================] - 2s 175us/step - loss: 1.0184 - acc: 0.6674 - val_loss: 1.0144 - val_acc: 0.6688\n",
      "Epoch 6/20\n",
      "10592/10592 [==============================] - 2s 177us/step - loss: 1.0190 - acc: 0.6674 - val_loss: 1.0136 - val_acc: 0.6688\n",
      "              precision    recall  f1-score   support\n",
      "\n",
      "           0       0.00      0.00      0.00        35\n",
      "           1       0.00      0.00      0.00       100\n",
      "           2       0.00      0.00      0.00        78\n",
      "           3       0.00      0.00      0.00        27\n",
      "           4       0.72      1.00      0.84       620\n",
      "\n",
      "    accuracy                           0.72       860\n",
      "   macro avg       0.14      0.20      0.17       860\n",
      "weighted avg       0.52      0.72      0.60       860\n",
      "\n"
     ]
    },
    {
     "name": "stderr",
     "output_type": "stream",
     "text": [
      "/usr/local/lib/python3.6/dist-packages/sklearn/metrics/_classification.py:1272: UndefinedMetricWarning: Precision and F-score are ill-defined and being set to 0.0 in labels with no predicted samples. Use `zero_division` parameter to control this behavior.\n",
      "  _warn_prf(average, modifier, msg_start, len(result))\n"
     ]
    }
   ],
   "source": [
    "from keras.utils import plot_model\n",
    "def pipeline_model():\n",
    "  inputA = keras.layers.Input((EMBED_SIZE,), dtype='float32', name='inputA')\n",
    "  modelA_hidden1 = keras.layers.Dense(648, activation='relu', name='modelA_hidden1')(inputA)\n",
    "  outputA = keras.layers.Dense(1, activation='sigmoid', name='outputA')(modelA_hidden1)\n",
    "\n",
    "  inputB = keras.layers.Input((EMBED_SIZE,), dtype='float32', name='inputB')\n",
    "  modelB_hidden1 = keras.layers.Dense(648, activation='relu', name='modelB_hidden1')(inputB)\n",
    "  outputB = keras.layers.Dense(3, activation='softmax', name='outputB')(modelB_hidden1)\n",
    "\n",
    "  inputC = keras.layers.Input((EMBED_SIZE,), dtype='float32', name='inputC')\n",
    "  modelC_hidden1 = keras.layers.Dense(648, activation='relu', name='modelC_hidden1')(inputC)\n",
    "  outputC = keras.layers.Dense(4, activation='softmax', name='outputC')(modelC_hidden1)\n",
    "\n",
    "  final_input = keras.layers.concatenate([outputA, outputB, outputC], name = 'IndividualConcat')\n",
    "  final_model_1 = keras.layers.Dense(10, activation='relu', name='Final_Model_1')(final_input)\n",
    "  final_model_2 = keras.layers.Dense(128, activation='relu', name='Final_Model_2')(final_model_1)\n",
    "  final_output = keras.layers.Dense(5, activation='softmax', name='Final_Output')(final_model_2)\n",
    "\n",
    "  model= keras.Model(inputs=[inputA, inputB, inputC], output=[final_output])\n",
    "  model.compile(loss='sparse_categorical_crossentropy', optimizer='adam', metrics=['accuracy'])\n",
    "  #plot_model(model, to_file='model.png')\n",
    "  model.summary()\n",
    "  return model\n",
    "pipeline_model = pipeline_model()\n",
    "pipeline_history = pipeline_model.fit([Xtrain, Xtrain, Xtrain],Ytrain,epochs=20, validation_split=0.2, \n",
    "                                      batch_size=32,verbose=1,workers = 3, \n",
    "                                      use_multiprocessing=True, callbacks = [cb])\n",
    "print(classification_report(Ytest, np.argmax(pipeline_model.predict([Categorical_test, Categorical_test, Categorical_test]), axis =1)))"
   ]
  },
  {
   "cell_type": "markdown",
   "metadata": {
    "colab_type": "text",
    "id": "6wTTS0iYWvw9"
   },
   "source": [
    "#### Glove file embedding model"
   ]
  },
  {
   "cell_type": "code",
   "execution_count": 0,
   "metadata": {
    "colab": {
     "base_uri": "https://localhost:8080/",
     "height": 1000
    },
    "colab_type": "code",
    "id": "cWZftDUaW7jv",
    "outputId": "13f21f14-5f52-4a76-89b2-56d393d096ce"
   },
   "outputs": [
    {
     "name": "stdout",
     "output_type": "stream",
     "text": [
      "--2020-02-29 21:44:12--  http://nlp.stanford.edu/data/glove.6B.zip\n",
      "Resolving nlp.stanford.edu (nlp.stanford.edu)... 171.64.67.140\n",
      "Connecting to nlp.stanford.edu (nlp.stanford.edu)|171.64.67.140|:80... connected.\n",
      "HTTP request sent, awaiting response... 302 Found\n",
      "Location: https://nlp.stanford.edu/data/glove.6B.zip [following]\n",
      "--2020-02-29 21:44:12--  https://nlp.stanford.edu/data/glove.6B.zip\n",
      "Connecting to nlp.stanford.edu (nlp.stanford.edu)|171.64.67.140|:443... connected.\n",
      "HTTP request sent, awaiting response... 301 Moved Permanently\n",
      "Location: http://downloads.cs.stanford.edu/nlp/data/glove.6B.zip [following]\n",
      "--2020-02-29 21:44:13--  http://downloads.cs.stanford.edu/nlp/data/glove.6B.zip\n",
      "Resolving downloads.cs.stanford.edu (downloads.cs.stanford.edu)... 171.64.64.22\n",
      "Connecting to downloads.cs.stanford.edu (downloads.cs.stanford.edu)|171.64.64.22|:80... connected.\n",
      "HTTP request sent, awaiting response... 200 OK\n",
      "Length: 862182613 (822M) [application/zip]\n",
      "Saving to: ‘glove.6B.zip’\n",
      "\n",
      "glove.6B.zip        100%[===================>] 822.24M  1.81MB/s    in 6m 31s  \n",
      "\n",
      "2020-02-29 21:50:44 (2.10 MB/s) - ‘glove.6B.zip’ saved [862182613/862182613]\n",
      "\n"
     ]
    }
   ],
   "source": [
    "!wget http://nlp.stanford.edu/data/glove.6B.zip\n",
    "import zipfile\n",
    "import os\n",
    "path = 'glove.6B.zip'\n",
    "directory = os.getcwd()\n",
    "zipfile_ = zipfile.ZipFile(path, 'r')\n",
    "zipfile_.extractall(directory)\n",
    "zipfile_.close()"
   ]
  },
  {
   "cell_type": "code",
   "execution_count": 0,
   "metadata": {
    "colab": {},
    "colab_type": "code",
    "id": "1bZerrZQTMgL"
   },
   "outputs": [],
   "source": [
    "def readGloveFile(gloveFile):\n",
    "    with open(gloveFile, 'r') as f:\n",
    "        wordToGlove = {}  \n",
    "        wordToIndex = {}  \n",
    "        indexToWord = {}  \n",
    "\n",
    "        for line in f:\n",
    "            record = line.strip().split()\n",
    "            token = record[0] \n",
    "            wordToGlove[token] = np.array(record[1:], dtype=np.float64) \n",
    "            \n",
    "        tokens = sorted(wordToGlove.keys())\n",
    "        for idx, tok in enumerate(tokens):\n",
    "            kerasIdx = idx + 1  \n",
    "            wordToIndex[tok] = kerasIdx \n",
    "            indexToWord[kerasIdx] = tok \n",
    "\n",
    "    return wordToIndex, indexToWord, wordToGlove\n",
    "  \n",
    "from keras.initializers import Constant\n",
    "def createPretrainedEmbeddingLayer(wordToGlove, wordToIndex, isTrainable):\n",
    "    vocabLen = len(wordToIndex) + 1  \n",
    "    embDim = next(iter(wordToGlove.values())).shape[0]  \n",
    "   \n",
    "    embeddingMatrix = np.zeros((vocabLen, embDim))  \n",
    "    for word, index in wordToIndex.items():\n",
    "        embeddingMatrix[index, :] = wordToGlove[word] \n",
    "\n",
    "    embeddingLayer = keras.layers.Embedding(vocabLen, embDim, embeddings_initializer=Constant(embeddingMatrix), trainable=isTrainable)\n",
    "    return embeddingLayer\n",
    "\n",
    "wordToIndex, indexToWord, wordToGlove = readGloveFile('glove.6B.300d.txt')"
   ]
  },
  {
   "cell_type": "code",
   "execution_count": 0,
   "metadata": {
    "colab": {
     "base_uri": "https://localhost:8080/",
     "height": 363
    },
    "colab_type": "code",
    "id": "KEfCCjXBXDwY",
    "outputId": "8a3bbee5-460b-456d-f871-54cbdbcf4ab1"
   },
   "outputs": [
    {
     "name": "stderr",
     "output_type": "stream",
     "text": [
      "/usr/local/lib/python3.6/dist-packages/keras/engine/sequential.py:111: UserWarning: `Sequential.model` is deprecated. `Sequential` is a subclass of `Model`, you can just use your `Sequential` instance directly.\n",
      "  warnings.warn('`Sequential.model` is deprecated. '\n"
     ]
    },
    {
     "name": "stdout",
     "output_type": "stream",
     "text": [
      "Model: \"sequential_11\"\n",
      "_________________________________________________________________\n",
      "Layer (type)                 Output Shape              Param #   \n",
      "=================================================================\n",
      "embedding_10 (Embedding)     (None, None, 300)         120000300 \n",
      "_________________________________________________________________\n",
      "global_average_pooling1d_mas (None, 300)               0         \n",
      "_________________________________________________________________\n",
      "dense_17 (Dense)             (None, 16)                4816      \n",
      "_________________________________________________________________\n",
      "dense_18 (Dense)             (None, 5)                 85        \n",
      "=================================================================\n",
      "Total params: 120,005,201\n",
      "Trainable params: 120,005,201\n",
      "Non-trainable params: 0\n",
      "_________________________________________________________________\n"
     ]
    }
   ],
   "source": [
    "def glove_model():\n",
    "  model_glove = keras.Sequential()\n",
    "  model_glove.model.add(createPretrainedEmbeddingLayer(wordToGlove, wordToIndex, isTrainable=True))\n",
    "  model_glove.add(GlobalAveragePooling1DMasked())\n",
    "  #model_glove.add(keras.layers.Dense(256, activation='relu'))###\n",
    "  #model_glove.add(keras.layers.Dense(128, activation='relu'))###\n",
    "  #model_glove.add(keras.layers.Dense(64, activation='relu'))###\n",
    "  model_glove.add(keras.layers.Dense(16, activation='relu'))\n",
    "  model_glove.add(keras.layers.Dense(5, activation='softmax'))\n",
    "  model_glove.summary()\n",
    "  model_glove.compile(optimizer='adam', loss='sparse_categorical_crossentropy', metrics = ['accuracy'])\n",
    "  return model_glove\n",
    "model_glove = glove_model()"
   ]
  },
  {
   "cell_type": "code",
   "execution_count": 0,
   "metadata": {
    "colab": {
     "base_uri": "https://localhost:8080/",
     "height": 1000
    },
    "colab_type": "code",
    "id": "QgRmCuQpXPju",
    "outputId": "18374d93-6cac-429b-f8ff-3bc4948eee89"
   },
   "outputs": [
    {
     "name": "stderr",
     "output_type": "stream",
     "text": [
      "/usr/local/lib/python3.6/dist-packages/keras/engine/sequential.py:111: UserWarning: `Sequential.model` is deprecated. `Sequential` is a subclass of `Model`, you can just use your `Sequential` instance directly.\n",
      "  warnings.warn('`Sequential.model` is deprecated. '\n"
     ]
    },
    {
     "name": "stdout",
     "output_type": "stream",
     "text": [
      "Model: \"sequential_20\"\n",
      "_________________________________________________________________\n",
      "Layer (type)                 Output Shape              Param #   \n",
      "=================================================================\n",
      "embedding_20 (Embedding)     (None, None, 300)         120000300 \n",
      "_________________________________________________________________\n",
      "global_average_pooling1d_mas (None, 300)               0         \n",
      "_________________________________________________________________\n",
      "dense_37 (Dense)             (None, 256)               77056     \n",
      "_________________________________________________________________\n",
      "dense_38 (Dense)             (None, 128)               32896     \n",
      "_________________________________________________________________\n",
      "dense_39 (Dense)             (None, 64)                8256      \n",
      "_________________________________________________________________\n",
      "dense_40 (Dense)             (None, 16)                1040      \n",
      "_________________________________________________________________\n",
      "dense_41 (Dense)             (None, 5)                 85        \n",
      "=================================================================\n",
      "Total params: 120,119,633\n",
      "Trainable params: 120,119,633\n",
      "Non-trainable params: 0\n",
      "_________________________________________________________________\n"
     ]
    },
    {
     "name": "stderr",
     "output_type": "stream",
     "text": [
      "/usr/local/lib/python3.6/dist-packages/tensorflow_core/python/framework/indexed_slices.py:421: UserWarning: Converting sparse IndexedSlices to a dense Tensor with 120000300 elements. This may consume a large amount of memory.\n",
      "  num_elements)\n"
     ]
    },
    {
     "name": "stdout",
     "output_type": "stream",
     "text": [
      "Train on 10592 samples, validate on 2648 samples\n",
      "Epoch 1/20\n",
      "10592/10592 [==============================] - 20s 2ms/step - loss: 1.0377 - acc: 0.6649 - val_loss: 0.9870 - val_acc: 0.6688\n",
      "Epoch 2/20\n",
      "10592/10592 [==============================] - 14s 1ms/step - loss: 0.9435 - acc: 0.6701 - val_loss: 0.9214 - val_acc: 0.6915\n",
      "Epoch 3/20\n",
      "10592/10592 [==============================] - 14s 1ms/step - loss: 0.7594 - acc: 0.7346 - val_loss: 0.9010 - val_acc: 0.7081\n",
      "Epoch 4/20\n",
      "10592/10592 [==============================] - 14s 1ms/step - loss: 0.6038 - acc: 0.7902 - val_loss: 0.9880 - val_acc: 0.6869\n",
      "Epoch 5/20\n",
      "10592/10592 [==============================] - 14s 1ms/step - loss: 0.4918 - acc: 0.8319 - val_loss: 1.1504 - val_acc: 0.6813\n",
      "Epoch 6/20\n",
      "10592/10592 [==============================] - 14s 1ms/step - loss: 0.4147 - acc: 0.8532 - val_loss: 1.2179 - val_acc: 0.6677\n",
      "Epoch 7/20\n",
      "10592/10592 [==============================] - 14s 1ms/step - loss: 0.3460 - acc: 0.8799 - val_loss: 1.3866 - val_acc: 0.6292\n",
      "Epoch 8/20\n",
      "10592/10592 [==============================] - 14s 1ms/step - loss: 0.3141 - acc: 0.8913 - val_loss: 1.5492 - val_acc: 0.6647\n"
     ]
    },
    {
     "data": {
      "image/png": "[encoded data removed]",
      "text/plain": [
       "<Figure size 432x288 with 1 Axes>"
      ]
     },
     "metadata": {
      "tags": []
     },
     "output_type": "display_data"
    }
   ],
   "source": [
    "\n",
    "cb = EarlyStopping(monitor='val_acc', mode='auto', patience=5)\n",
    "glove_history = model_glove.fit(Xtrain,Ytrain,epochs=20,\n",
    "                                validation_split=0.2, batch_size=32,\n",
    "                                verbose=1,workers = 3, use_multiprocessing=True, callbacks = [cb])\n",
    "plotting_history(glove_history)"
   ]
  },
  {
   "cell_type": "code",
   "execution_count": 0,
   "metadata": {
    "colab": {
     "base_uri": "https://localhost:8080/",
     "height": 221
    },
    "colab_type": "code",
    "id": "Hd0d_OI2ZZR4",
    "outputId": "093b101c-8844-4312-bced-6dabcdf1054a"
   },
   "outputs": [
    {
     "name": "stdout",
     "output_type": "stream",
     "text": [
      "              precision    recall  f1-score   support\n",
      "\n",
      "           0       0.37      0.37      0.37       100\n",
      "           1       0.20      0.04      0.06        27\n",
      "           2       0.30      0.17      0.21        78\n",
      "           3       0.09      0.03      0.04        35\n",
      "           4       0.81      0.91      0.86       620\n",
      "\n",
      "    accuracy                           0.72       860\n",
      "   macro avg       0.35      0.30      0.31       860\n",
      "weighted avg       0.66      0.72      0.68       860\n",
      "\n"
     ]
    }
   ],
   "source": [
    "print(classification_report(Ytest, np.argmax(model_glove.predict(Categorical_test), axis =1)))"
   ]
  },
  {
   "cell_type": "markdown",
   "metadata": {
    "colab_type": "text",
    "id": "n8pUtggKOofp"
   },
   "source": [
    "#### LSTM Model\n"
   ]
  },
  {
   "cell_type": "code",
   "execution_count": 0,
   "metadata": {
    "colab": {
     "base_uri": "https://localhost:8080/",
     "height": 1000
    },
    "colab_type": "code",
    "id": "eexKgrgmHTtw",
    "outputId": "ff9e0893-2473-472b-ca1f-56e3cc4cd133"
   },
   "outputs": [
    {
     "name": "stdout",
     "output_type": "stream",
     "text": [
      "Model: \"sequential_7\"\n",
      "_________________________________________________________________\n",
      "Layer (type)                 Output Shape              Param #   \n",
      "=================================================================\n",
      "embedding_7 (Embedding)      (None, 162, 100)          1821800   \n",
      "_________________________________________________________________\n",
      "lstm_1 (LSTM)                (None, 126)               114408    \n",
      "_________________________________________________________________\n",
      "dense_14 (Dense)             (None, 5)                 635       \n",
      "=================================================================\n",
      "Total params: 1,936,843\n",
      "Trainable params: 1,936,843\n",
      "Non-trainable params: 0\n",
      "_________________________________________________________________\n",
      "Train on 10592 samples, validate on 2648 samples\n",
      "Epoch 1/20\n",
      "10592/10592 [==============================] - 87s 8ms/step - loss: 0.9726 - acc: 0.6781 - val_loss: 0.8794 - val_acc: 0.7028\n",
      "Epoch 2/20\n",
      "10592/10592 [==============================] - 86s 8ms/step - loss: 0.6939 - acc: 0.7610 - val_loss: 0.9348 - val_acc: 0.7062\n",
      "Epoch 3/20\n",
      "10592/10592 [==============================] - 86s 8ms/step - loss: 0.4656 - acc: 0.8373 - val_loss: 1.0291 - val_acc: 0.6647\n",
      "Epoch 4/20\n",
      "10592/10592 [==============================] - 87s 8ms/step - loss: 0.2957 - acc: 0.9007 - val_loss: 1.2461 - val_acc: 0.6681\n",
      "Epoch 5/20\n",
      "10592/10592 [==============================] - 86s 8ms/step - loss: 0.1820 - acc: 0.9433 - val_loss: 1.3905 - val_acc: 0.6673\n",
      "Epoch 6/20\n",
      "10592/10592 [==============================] - 85s 8ms/step - loss: 0.1181 - acc: 0.9652 - val_loss: 1.6103 - val_acc: 0.6416\n",
      "Epoch 7/20\n",
      "10592/10592 [==============================] - 85s 8ms/step - loss: 0.0838 - acc: 0.9747 - val_loss: 1.7729 - val_acc: 0.6360\n",
      "              precision    recall  f1-score   support\n",
      "\n",
      "           0       0.08      0.06      0.07        35\n",
      "           1       0.30      0.35      0.32       100\n",
      "           2       0.21      0.17      0.19        78\n",
      "           3       0.21      0.30      0.24        27\n",
      "           4       0.82      0.81      0.82       620\n",
      "\n",
      "    accuracy                           0.65       860\n",
      "   macro avg       0.32      0.34      0.33       860\n",
      "weighted avg       0.65      0.65      0.65       860\n",
      "\n"
     ]
    }
   ],
   "source": [
    "def LSTM_model():\n",
    "  model=keras.Sequential()\n",
    "  model.add(keras.layers.Embedding(VOCAB_SIZE, 100, input_length=EMBED_SIZE))\n",
    "  #model.add(GlobalAveragePooling1DMasked())\n",
    "  model.add(keras.layers.LSTM(126))\n",
    "  model.add(keras.layers.Dense(5, activation='softmax'))\n",
    "  model.summary()\n",
    "  model.compile(optimizer='adam',loss='sparse_categorical_crossentropy', metrics=['accuracy'])\n",
    "  return model\n",
    "lstm_model = LSTM_model()\n",
    "lstm_history = lstm_model.fit(Xtrain,Ytrain,epochs=20,\n",
    "                              validation_split=0.2, batch_size=32,\n",
    "                              verbose=1,workers = 3, use_multiprocessing=True, callbacks = [cb])\n",
    "\n",
    "print(classification_report(Ytest, np.argmax(lstm_model.predict(Categorical_test), axis =1)))"
   ]
  },
  {
   "cell_type": "markdown",
   "metadata": {
    "colab_type": "text",
    "id": "AGwbKmAUOxKJ"
   },
   "source": [
    "#### Bidirectional LSTM"
   ]
  },
  {
   "cell_type": "code",
   "execution_count": 0,
   "metadata": {
    "colab": {
     "base_uri": "https://localhost:8080/",
     "height": 1000
    },
    "colab_type": "code",
    "id": "mwOodD49O0RZ",
    "outputId": "6776325b-210a-43f2-f96e-0ea3405db2d8"
   },
   "outputs": [
    {
     "name": "stdout",
     "output_type": "stream",
     "text": [
      "Model: \"sequential_8\"\n",
      "_________________________________________________________________\n",
      "Layer (type)                 Output Shape              Param #   \n",
      "=================================================================\n",
      "embedding_8 (Embedding)      (None, 162, 100)          1821800   \n",
      "_________________________________________________________________\n",
      "bidirectional_1 (Bidirection (None, 324)               340848    \n",
      "_________________________________________________________________\n",
      "dense_15 (Dense)             (None, 5)                 1625      \n",
      "=================================================================\n",
      "Total params: 2,164,273\n",
      "Trainable params: 2,164,273\n",
      "Non-trainable params: 0\n",
      "_________________________________________________________________\n",
      "Train on 10592 samples, validate on 2648 samples\n",
      "Epoch 1/20\n",
      "10592/10592 [==============================] - 190s 18ms/step - loss: 0.9593 - acc: 0.6825 - val_loss: 0.8711 - val_acc: 0.7081\n",
      "Epoch 2/20\n",
      "10592/10592 [==============================] - 189s 18ms/step - loss: 0.6953 - acc: 0.7635 - val_loss: 0.9125 - val_acc: 0.7017\n",
      "Epoch 3/20\n",
      "10592/10592 [==============================] - 188s 18ms/step - loss: 0.4860 - acc: 0.8309 - val_loss: 1.0236 - val_acc: 0.6820\n",
      "Epoch 4/20\n",
      "10592/10592 [==============================] - 190s 18ms/step - loss: 0.3282 - acc: 0.8911 - val_loss: 1.1941 - val_acc: 0.6631\n",
      "Epoch 5/20\n",
      "10592/10592 [==============================] - 189s 18ms/step - loss: 0.2262 - acc: 0.9250 - val_loss: 1.3890 - val_acc: 0.6628\n",
      "Epoch 6/20\n",
      "10592/10592 [==============================] - 189s 18ms/step - loss: 0.1467 - acc: 0.9535 - val_loss: 1.5979 - val_acc: 0.6480\n",
      "              precision    recall  f1-score   support\n",
      "\n",
      "           0       0.22      0.14      0.17        35\n",
      "           1       0.39      0.36      0.37       100\n",
      "           2       0.22      0.12      0.15        78\n",
      "           3       0.25      0.37      0.30        27\n",
      "           4       0.81      0.86      0.83       620\n",
      "\n",
      "    accuracy                           0.69       860\n",
      "   macro avg       0.38      0.37      0.37       860\n",
      "weighted avg       0.66      0.69      0.67       860\n",
      "\n"
     ]
    }
   ],
   "source": [
    "from keras.layers import Bidirectional\n",
    "def LSTM_Bidirectional_model():\n",
    "  model=keras.Sequential()\n",
    "  model.add(keras.layers.Embedding(VOCAB_SIZE, 100, input_length=EMBED_SIZE))\n",
    "  #model.add(GlobalAveragePooling1DMasked())\n",
    "  model.add(Bidirectional(keras.layers.LSTM(EMBED_SIZE)))\n",
    "  model.add(keras.layers.Dense(5, activation='softmax'))\n",
    "  model.summary()\n",
    "  model.compile(optimizer='adam',loss='sparse_categorical_crossentropy', metrics=['accuracy'])\n",
    "  return model\n",
    "Bilstm_model = LSTM_Bidirectional_model()\n",
    "Bilstm_history = Bilstm_model.fit(Xtrain,Ytrain,epochs=20,\n",
    "                              validation_split=0.2, batch_size=32,\n",
    "                              verbose=1,workers = 3, use_multiprocessing=True, callbacks = [cb])\n",
    "\n",
    "print(classification_report(Ytest, np.argmax(Bilstm_model.predict(Categorical_test), axis =1)))"
   ]
  },
  {
   "cell_type": "code",
   "execution_count": 0,
   "metadata": {
    "colab": {},
    "colab_type": "code",
    "id": "MtMH0rB8jplq"
   },
   "outputs": [],
   "source": []
  }
 ],
 "metadata": {
  "accelerator": "GPU",
  "colab": {
   "collapsed_sections": [
    "m8wT9qX1j5gw",
    "x7ngiBE1HJcB",
    "D8tQcGLnojqr",
    "FjawbSOyooRT",
    "4FHILG1HsZ8I",
    "6wTTS0iYWvw9",
    "n8pUtggKOofp",
    "AGwbKmAUOxKJ"
   ],
   "name": "NLP_ass1D.ipynb",
   "provenance": [],
   "toc_visible": true
  },
  "kernelspec": {
   "display_name": "Python 3",
   "language": "python",
   "name": "python3"
  },
  "language_info": {
   "codemirror_mode": {
    "name": "ipython",
    "version": 3
   },
   "file_extension": ".py",
   "mimetype": "text/x-python",
   "name": "python",
   "nbconvert_exporter": "python",
   "pygments_lexer": "ipython3",
   "version": "3.7.6"
  }
 },
 "nbformat": 4,
 "nbformat_minor": 1
}
