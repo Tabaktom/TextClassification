{
 "cells": [
  {
   "cell_type": "markdown",
   "metadata": {
    "colab_type": "text",
    "id": "hExKCzh6doIW"
   },
   "source": [
    "# Lab 4 - Neural Network Classifier Using Simple Word Embeddings\n",
    "\n",
    "\n",
    "\n",
    "---\n",
    "\n",
    "\n",
    "\n",
    "\n",
    "\n",
    "\n",
    "\n",
    "\n",
    "\n",
    "\n",
    "\n",
    "\n",
    "\n"
   ]
  },
  {
   "cell_type": "markdown",
   "metadata": {
    "colab_type": "text",
    "id": "HixoFOoCIJ7V"
   },
   "source": [
    "In this session, we demonstrate how to solve a text classification task using simple \n",
    "feedforward neural network classifier. We will use IMDB Large Movie Review Dataset to train a binary classification model, able to predict whether a review is positive or negative. First, our network takes one-hot word vectors as input, averages them to make one vector and trains a \n",
    "fully-connected layer to predict the output. In the second part, we replace the one-hot vectors with the word embeddings and add a layer to see how much that improves the performance.\n",
    "\n",
    "We are going to use Keras Sequential API in this session. The Sequential API allows you to make models layer-by-layer. But it is not straightforward to define models where layers connect to more than just the previous and next layers. "
   ]
  },
  {
   "cell_type": "code",
   "execution_count": 1,
   "metadata": {
    "colab": {
     "base_uri": "https://localhost:8080/",
     "height": 97
    },
    "colab_type": "code",
    "id": "m8fpBfhBpupy",
    "outputId": "4990ea92-2ff8-480e-959a-7c4f672e2e05"
   },
   "outputs": [
    {
     "name": "stderr",
     "output_type": "stream",
     "text": [
      "Using TensorFlow backend.\n"
     ]
    }
   ],
   "source": [
    "import keras\n",
    "import numpy as np\n",
    "from keras.layers import Lambda, GlobalAveragePooling1D, Dense, Embedding\n",
    "from keras import backend as K\n",
    "from keras.models import Sequential\n"
   ]
  },
  {
   "cell_type": "markdown",
   "metadata": {
    "colab_type": "text",
    "id": "cqvPQvgvPv1W"
   },
   "source": [
    "### Downloading data"
   ]
  },
  {
   "cell_type": "markdown",
   "metadata": {
    "colab_type": "text",
    "id": "EundMtGPpCdf"
   },
   "source": [
    "The dataset we will be using is the IMDB Large Movie Review Dataset, which consists of 50000 labeled movie reviews. These are split into 25,000 reviews for training and 25,000 reviews for testing. The  dataset contains an even number of positive and negative reviews, so randomly guessing yields 50% accuracy. The data is preprocessed. For text classification, it is ususal to limit the size of the vocabulary to stop the dataset from becoming too sparse, creating possible overfitting. We keep the top 10,000 most frequently occurring words in the training data.\n"
   ]
  },
  {
   "cell_type": "code",
   "execution_count": 2,
   "metadata": {
    "colab": {},
    "colab_type": "code",
    "id": "NyuSzkafqNca"
   },
   "outputs": [
    {
     "name": "stdout",
     "output_type": "stream",
     "text": [
      "Downloading data from https://s3.amazonaws.com/text-datasets/imdb.npz\n",
      "17465344/17464789 [==============================] - 2s 0us/step\n"
     ]
    }
   ],
   "source": [
    "imdb = keras.datasets.imdb\n",
    "(X_train, y_train), (X_test, y_test) = imdb.load_data(num_words=10000)"
   ]
  },
  {
   "cell_type": "markdown",
   "metadata": {
    "colab_type": "text",
    "id": "6U4iCV9-rmay"
   },
   "source": [
    "We now can start playing around with the data, let’s first see the length:"
   ]
  },
  {
   "cell_type": "code",
   "execution_count": 3,
   "metadata": {
    "colab": {
     "base_uri": "https://localhost:8080/",
     "height": 34
    },
    "colab_type": "code",
    "id": "h-gjWRAuqg5s",
    "outputId": "69fbea39-ff85-4fda-ab0a-32547bed4eb2"
   },
   "outputs": [
    {
     "name": "stdout",
     "output_type": "stream",
     "text": [
      "Training entries: 25000, labels: 25000\n",
      "(25000,)\n",
      "(25000,)\n"
     ]
    }
   ],
   "source": [
    "print(\"Training entries: {}, labels: {}\".format(len(X_train), len(y_train)))\n",
    "print(np.shape(X_train))\n",
    "print(np.shape(y_train))"
   ]
  },
  {
   "cell_type": "markdown",
   "metadata": {
    "colab_type": "text",
    "id": "MTRZrpcyr-4x"
   },
   "source": [
    "The  reviews have been converted to integers and each integer represents a  word in a dictionary. "
   ]
  },
  {
   "cell_type": "code",
   "execution_count": 4,
   "metadata": {
    "colab": {
     "base_uri": "https://localhost:8080/",
     "height": 1000
    },
    "colab_type": "code",
    "id": "79Ev72Kgq4XL",
    "outputId": "45015df4-bb43-4ccd-9879-7ca8bfde8bfa"
   },
   "outputs": [
    {
     "data": {
      "text/plain": [
       "[1,\n",
       " 14,\n",
       " 22,\n",
       " 16,\n",
       " 43,\n",
       " 530,\n",
       " 973,\n",
       " 1622,\n",
       " 1385,\n",
       " 65,\n",
       " 458,\n",
       " 4468,\n",
       " 66,\n",
       " 3941,\n",
       " 4,\n",
       " 173,\n",
       " 36,\n",
       " 256,\n",
       " 5,\n",
       " 25,\n",
       " 100,\n",
       " 43,\n",
       " 838,\n",
       " 112,\n",
       " 50,\n",
       " 670,\n",
       " 2,\n",
       " 9,\n",
       " 35,\n",
       " 480,\n",
       " 284,\n",
       " 5,\n",
       " 150,\n",
       " 4,\n",
       " 172,\n",
       " 112,\n",
       " 167,\n",
       " 2,\n",
       " 336,\n",
       " 385,\n",
       " 39,\n",
       " 4,\n",
       " 172,\n",
       " 4536,\n",
       " 1111,\n",
       " 17,\n",
       " 546,\n",
       " 38,\n",
       " 13,\n",
       " 447,\n",
       " 4,\n",
       " 192,\n",
       " 50,\n",
       " 16,\n",
       " 6,\n",
       " 147,\n",
       " 2025,\n",
       " 19,\n",
       " 14,\n",
       " 22,\n",
       " 4,\n",
       " 1920,\n",
       " 4613,\n",
       " 469,\n",
       " 4,\n",
       " 22,\n",
       " 71,\n",
       " 87,\n",
       " 12,\n",
       " 16,\n",
       " 43,\n",
       " 530,\n",
       " 38,\n",
       " 76,\n",
       " 15,\n",
       " 13,\n",
       " 1247,\n",
       " 4,\n",
       " 22,\n",
       " 17,\n",
       " 515,\n",
       " 17,\n",
       " 12,\n",
       " 16,\n",
       " 626,\n",
       " 18,\n",
       " 2,\n",
       " 5,\n",
       " 62,\n",
       " 386,\n",
       " 12,\n",
       " 8,\n",
       " 316,\n",
       " 8,\n",
       " 106,\n",
       " 5,\n",
       " 4,\n",
       " 2223,\n",
       " 5244,\n",
       " 16,\n",
       " 480,\n",
       " 66,\n",
       " 3785,\n",
       " 33,\n",
       " 4,\n",
       " 130,\n",
       " 12,\n",
       " 16,\n",
       " 38,\n",
       " 619,\n",
       " 5,\n",
       " 25,\n",
       " 124,\n",
       " 51,\n",
       " 36,\n",
       " 135,\n",
       " 48,\n",
       " 25,\n",
       " 1415,\n",
       " 33,\n",
       " 6,\n",
       " 22,\n",
       " 12,\n",
       " 215,\n",
       " 28,\n",
       " 77,\n",
       " 52,\n",
       " 5,\n",
       " 14,\n",
       " 407,\n",
       " 16,\n",
       " 82,\n",
       " 2,\n",
       " 8,\n",
       " 4,\n",
       " 107,\n",
       " 117,\n",
       " 5952,\n",
       " 15,\n",
       " 256,\n",
       " 4,\n",
       " 2,\n",
       " 7,\n",
       " 3766,\n",
       " 5,\n",
       " 723,\n",
       " 36,\n",
       " 71,\n",
       " 43,\n",
       " 530,\n",
       " 476,\n",
       " 26,\n",
       " 400,\n",
       " 317,\n",
       " 46,\n",
       " 7,\n",
       " 4,\n",
       " 2,\n",
       " 1029,\n",
       " 13,\n",
       " 104,\n",
       " 88,\n",
       " 4,\n",
       " 381,\n",
       " 15,\n",
       " 297,\n",
       " 98,\n",
       " 32,\n",
       " 2071,\n",
       " 56,\n",
       " 26,\n",
       " 141,\n",
       " 6,\n",
       " 194,\n",
       " 7486,\n",
       " 18,\n",
       " 4,\n",
       " 226,\n",
       " 22,\n",
       " 21,\n",
       " 134,\n",
       " 476,\n",
       " 26,\n",
       " 480,\n",
       " 5,\n",
       " 144,\n",
       " 30,\n",
       " 5535,\n",
       " 18,\n",
       " 51,\n",
       " 36,\n",
       " 28,\n",
       " 224,\n",
       " 92,\n",
       " 25,\n",
       " 104,\n",
       " 4,\n",
       " 226,\n",
       " 65,\n",
       " 16,\n",
       " 38,\n",
       " 1334,\n",
       " 88,\n",
       " 12,\n",
       " 16,\n",
       " 283,\n",
       " 5,\n",
       " 16,\n",
       " 4472,\n",
       " 113,\n",
       " 103,\n",
       " 32,\n",
       " 15,\n",
       " 16,\n",
       " 5345,\n",
       " 19,\n",
       " 178,\n",
       " 32]"
      ]
     },
     "execution_count": 4,
     "metadata": {},
     "output_type": "execute_result"
    }
   ],
   "source": [
    " X_train[0]"
   ]
  },
  {
   "cell_type": "markdown",
   "metadata": {
    "colab_type": "text",
    "id": "Tvuu4KhStqei"
   },
   "source": [
    "We can convert integers back to words by querying a dictionary object that contains the integer to string mapping:"
   ]
  },
  {
   "cell_type": "code",
   "execution_count": 5,
   "metadata": {
    "colab": {},
    "colab_type": "code",
    "id": "gMCH1OoDrSNR"
   },
   "outputs": [
    {
     "name": "stdout",
     "output_type": "stream",
     "text": [
      "Downloading data from https://s3.amazonaws.com/text-datasets/imdb_word_index.json\n",
      "1646592/1641221 [==============================] - 0s 0us/step\n"
     ]
    }
   ],
   "source": [
    "word_index = imdb.get_word_index()"
   ]
  },
  {
   "cell_type": "markdown",
   "metadata": {
    "colab_type": "text",
    "id": "5IreFXgruZot"
   },
   "source": [
    "Index 1 represents the beginning of the sentence and the index 2 is assigned to all unknown tokens. Index 0 will be used for padding."
   ]
  },
  {
   "cell_type": "code",
   "execution_count": 6,
   "metadata": {
    "colab": {},
    "colab_type": "code",
    "id": "abIb7Fe5u3GQ"
   },
   "outputs": [],
   "source": [
    "word_index = {k:(v+3) for k,v in word_index.items()}\n",
    "word_index[\"<PAD>\"] = 0\n",
    "word_index[\"<START>\"] = 1\n",
    "word_index[\"<UNK>\"] = 2  \n",
    "word_index[\"<UNUSED>\"] = 3"
   ]
  },
  {
   "cell_type": "markdown",
   "metadata": {
    "colab_type": "text",
    "id": "9TnnSuspvC5b"
   },
   "source": [
    "To reverse key and values in a dictionary:"
   ]
  },
  {
   "cell_type": "code",
   "execution_count": 7,
   "metadata": {
    "colab": {},
    "colab_type": "code",
    "id": "nKOiVVXQu-_I"
   },
   "outputs": [],
   "source": [
    "reverse_word_index = dict([(value, key) for (key, value) in word_index.items()])"
   ]
  },
  {
   "cell_type": "markdown",
   "metadata": {
    "colab_type": "text",
    "id": "ZmTJEm8xvUvW"
   },
   "source": [
    "To view a word:"
   ]
  },
  {
   "cell_type": "code",
   "execution_count": 8,
   "metadata": {
    "colab": {
     "base_uri": "https://localhost:8080/",
     "height": 34
    },
    "colab_type": "code",
    "id": "SqN5jgVKvJJZ",
    "outputId": "6c2fb60f-7181-40db-a65b-2d334ed3a035"
   },
   "outputs": [
    {
     "data": {
      "text/plain": [
       "'you'"
      ]
     },
     "execution_count": 8,
     "metadata": {},
     "output_type": "execute_result"
    }
   ],
   "source": [
    "reverse_word_index[25]"
   ]
  },
  {
   "cell_type": "markdown",
   "metadata": {
    "colab_type": "text",
    "id": "Q6QjrzgVvrYn"
   },
   "source": [
    "And to recreate the whole sentence from our training data we define decode_review:\n"
   ]
  },
  {
   "cell_type": "code",
   "execution_count": 9,
   "metadata": {
    "colab": {},
    "colab_type": "code",
    "id": "wvrKeMgxvWlv"
   },
   "outputs": [],
   "source": [
    "def decode_review(text):\n",
    "    return ' '.join([reverse_word_index.get(i, '?') for i in text])"
   ]
  },
  {
   "cell_type": "code",
   "execution_count": 10,
   "metadata": {
    "colab": {
     "base_uri": "https://localhost:8080/",
     "height": 74
    },
    "colab_type": "code",
    "id": "Sxg4YA_NvdRg",
    "outputId": "e2c2b061-0e2a-46ee-da13-e9494cc4e6c0"
   },
   "outputs": [
    {
     "data": {
      "text/plain": [
       "\"<START> french horror cinema has seen something of a revival over the last couple of years with great films such as inside and <UNK> romance <UNK> on to the scene <UNK> <UNK> the revival just slightly but stands head and shoulders over most modern horror titles and is surely one of the best french horror films ever made <UNK> was obviously shot on a low budget but this is made up for in far more ways than one by the originality of the film and this in turn is <UNK> by the excellent writing and acting that ensure the film is a winner the plot focuses on two main ideas prison and black magic the central character is a man named <UNK> sent to prison for fraud he is put in a cell with three others the quietly insane <UNK> body building <UNK> marcus and his retarded boyfriend daisy after a short while in the cell together they stumble upon a hiding place in the wall that contains an old <UNK> after <UNK> part of it they soon realise its magical powers and realise they may be able to use it to break through the prison walls br br black magic is a very interesting topic and i'm actually quite surprised that there aren't more films based on it as there's so much scope for things to do with it it's fair to say that <UNK> makes the best of it's <UNK> as despite it's <UNK> the film never actually feels restrained and manages to flow well throughout director eric <UNK> provides a great atmosphere for the film the fact that most of it takes place inside the central prison cell <UNK> that the film feels very claustrophobic and this immensely benefits the central idea of the prisoners wanting to use magic to break out of the cell it's very easy to get behind them it's often said that the unknown is the thing that really <UNK> people and this film proves that as the director <UNK> that we can never really be sure of exactly what is round the corner and this helps to ensure that <UNK> actually does manage to be quite frightening the film is memorable for a lot of reasons outside the central plot the characters are all very interesting in their own way and the fact that the book itself almost takes on its own character is very well done anyone worried that the film won't deliver by the end won't be disappointed either as the ending both makes sense and manages to be quite horrifying overall <UNK> is a truly great horror film and one of the best of the decade highly recommended viewing\""
      ]
     },
     "execution_count": 10,
     "metadata": {},
     "output_type": "execute_result"
    }
   ],
   "source": [
    "decode_review(X_train[10])"
   ]
  },
  {
   "cell_type": "markdown",
   "metadata": {
    "colab_type": "text",
    "id": "c8gIzXncfaJK"
   },
   "source": [
    "### Creating One-hot word vectors"
   ]
  },
  {
   "cell_type": "markdown",
   "metadata": {
    "colab_type": "text",
    "id": "B9W4yb3rv_E0"
   },
   "source": [
    "It is  common to use one-hot representation as input in Natural Language Processing tasks. In Keras, the Embedding layer takes an index as an input and convert it to one-hot vector with the length of the vocabulary size. Then multiplies these vectors by a normal weight matrix. But there is no way to only get a one-hot vector as the output of a layer in Keras. To solve this we use Lambda() layer and a function that creates the one-hot layer. "
   ]
  },
  {
   "cell_type": "code",
   "execution_count": 11,
   "metadata": {
    "colab": {},
    "colab_type": "code",
    "id": "RPO_pK9zH4C5"
   },
   "outputs": [],
   "source": [
    "def OneHot(input_dim=None, input_length=None):\n",
    "    \n",
    "    if input_dim is None or input_length is None:\n",
    "        raise TypeError(\"input_dim or input_length is not set\")\n",
    "\n",
    "    \n",
    "    def _one_hot(x, num_classes):\n",
    "        return K.one_hot(K.cast(x, 'uint8'),\n",
    "                          num_classes=num_classes)\n",
    "\n",
    "    return Lambda(_one_hot,\n",
    "                  arguments={'num_classes': input_dim},\n",
    "                  input_shape=(input_length,))"
   ]
  },
  {
   "cell_type": "markdown",
   "metadata": {
    "colab_type": "text",
    "id": "364d3MAw0ez9"
   },
   "source": [
    "input_dim refers to the length of the one-hot vector and input_length refers to the length of the input sequence. Since the input to K.one_hot should be an integer tensor, we cast x to one (Keras passes around float tensors by default).\n",
    "\n"
   ]
  },
  {
   "cell_type": "markdown",
   "metadata": {
    "colab_type": "text",
    "id": "VHz76GNA2M4r"
   },
   "source": [
    " Each text sequence has in most cases different length of words. Here, we fill sequences with a pad token (0) to fit the size. This special tokens is then masked not to be accounted in averaging, loss calculation etc. We set the maximum length to 256."
   ]
  },
  {
   "cell_type": "markdown",
   "metadata": {
    "colab_type": "text",
    "id": "9G_o7PsvgSFt"
   },
   "source": [
    "### Preparing input data"
   ]
  },
  {
   "cell_type": "code",
   "execution_count": 12,
   "metadata": {
    "colab": {},
    "colab_type": "code",
    "id": "jiFn7sd_wF5j"
   },
   "outputs": [],
   "source": [
    "VOCAB_SIZE = 10000\n",
    "MAX_SEQUENCE_LENGTH = 256\n",
    "\n",
    "X_train_enc = keras.preprocessing.sequence.pad_sequences(X_train,\n",
    "                                                        value=word_index[\"<PAD>\"],\n",
    "                                                        padding='post',\n",
    "                                                        maxlen=256)\n",
    "\n",
    "X_test_enc = keras.preprocessing.sequence.pad_sequences(X_test,\n",
    "                                                       value=word_index[\"<PAD>\"],\n",
    "                                                       padding='post',\n",
    "                                                       maxlen=256)"
   ]
  },
  {
   "cell_type": "markdown",
   "metadata": {
    "colab_type": "text",
    "id": "kcjFH1wKF_7d"
   },
   "source": [
    "And to view a padded review:"
   ]
  },
  {
   "cell_type": "code",
   "execution_count": 13,
   "metadata": {
    "colab": {
     "base_uri": "https://localhost:8080/",
     "height": 340
    },
    "colab_type": "code",
    "id": "zwH4dcfW_a18",
    "outputId": "76f17b69-f209-431f-8607-b57be9bbe1a3"
   },
   "outputs": [
    {
     "name": "stdout",
     "output_type": "stream",
     "text": [
      "[   1  194 1153  194 8255   78  228    5    6 1463 4369 5012  134   26\n",
      "    4  715    8  118 1634   14  394   20   13  119  954  189  102    5\n",
      "  207  110 3103   21   14   69  188    8   30   23    7    4  249  126\n",
      "   93    4  114    9 2300 1523    5  647    4  116    9   35 8163    4\n",
      "  229    9  340 1322    4  118    9    4  130 4901   19    4 1002    5\n",
      "   89   29  952   46   37    4  455    9   45   43   38 1543 1905  398\n",
      "    4 1649   26 6853    5  163   11 3215    2    4 1153    9  194  775\n",
      "    7 8255    2  349 2637  148  605    2 8003   15  123  125   68    2\n",
      " 6853   15  349  165 4362   98    5    4  228    9   43    2 1157   15\n",
      "  299  120    5  120  174   11  220  175  136   50    9 4373  228 8255\n",
      "    5    2  656  245 2350    5    4 9837  131  152  491   18    2   32\n",
      " 7464 1212   14    9    6  371   78   22  625   64 1382    9    8  168\n",
      "  145   23    4 1690   15   16    4 1355    5   28    6   52  154  462\n",
      "   33   89   78  285   16  145   95    0    0    0    0    0    0    0\n",
      "    0    0    0    0    0    0    0    0    0    0    0    0    0    0\n",
      "    0    0    0    0    0    0    0    0    0    0    0    0    0    0\n",
      "    0    0    0    0    0    0    0    0    0    0    0    0    0    0\n",
      "    0    0    0    0    0    0    0    0    0    0    0    0    0    0\n",
      "    0    0    0    0]\n",
      "(25000, 256)\n"
     ]
    }
   ],
   "source": [
    "print(X_train_enc[1])\n",
    "print(np.shape(X_train_enc))"
   ]
  },
  {
   "cell_type": "markdown",
   "metadata": {
    "colab_type": "text",
    "id": "F1zcxFwNGepA"
   },
   "source": [
    "Now we want to build the neural network model. We  are going to have a hidden layer with 16 hidden units. \n",
    "\n",
    "First, we want to transform each index to an embedded vector and then average all vectors to a single one. It has been showed that unweighted average of word vectors outperforms many complicated networks that model semantic and syntactic compositionality. As an example you can take a look at this: (http://anthology.aclweb.org/P/P15/P15-1162.pdf)\n",
    "\n",
    "To average we need to ignore padded zeros:"
   ]
  },
  {
   "cell_type": "code",
   "execution_count": 0,
   "metadata": {
    "colab": {},
    "colab_type": "code",
    "id": "Yi04MLIvJOGZ"
   },
   "outputs": [],
   "source": [
    "class GlobalAveragePooling1DMasked(GlobalAveragePooling1D):\n",
    "    def call(self, x, mask=None):\n",
    "        if mask != None:\n",
    "            return K.sum(x, axis=1) / K.sum(mask, axis=1)\n",
    "        else:\n",
    "            return super().call(x)\n"
   ]
  },
  {
   "cell_type": "markdown",
   "metadata": {
    "colab_type": "text",
    "id": "whgIIB5ggjna"
   },
   "source": [
    "### Neural Network model using one-hot vectors"
   ]
  },
  {
   "cell_type": "markdown",
   "metadata": {
    "colab_type": "text",
    "id": "jlOLnlnSJgrU"
   },
   "source": [
    "The first layer is an one-hot layer. The second layer is to compute average on all word vectors in a sentence without considering padding. The  output vector is piped through a fully-connected layer. The last layer is connected with a single output node with the sigmoid activation function. The final value is a float between 0 and 1. \n",
    "The vocabulary count of the movie reviews (10000) is used as the input shape. At the end we visualize the model summary."
   ]
  },
  {
   "cell_type": "code",
   "execution_count": 0,
   "metadata": {
    "colab": {
     "base_uri": "https://localhost:8080/",
     "height": 397
    },
    "colab_type": "code",
    "id": "_Pn83gBbxiK7",
    "outputId": "0c076d9d-7e1b-4359-8e64-8b736c1782ef"
   },
   "outputs": [
    {
     "name": "stdout",
     "output_type": "stream",
     "text": [
      "WARNING:tensorflow:From /usr/local/lib/python3.6/dist-packages/keras/backend/tensorflow_backend.py:66: The name tf.get_default_graph is deprecated. Please use tf.compat.v1.get_default_graph instead.\n",
      "\n",
      "WARNING:tensorflow:From /usr/local/lib/python3.6/dist-packages/keras/backend/tensorflow_backend.py:541: The name tf.placeholder is deprecated. Please use tf.compat.v1.placeholder instead.\n",
      "\n",
      "WARNING:tensorflow:From /usr/local/lib/python3.6/dist-packages/keras/backend/tensorflow_backend.py:4432: The name tf.random_uniform is deprecated. Please use tf.random.uniform instead.\n",
      "\n",
      "Model: \"sequential_1\"\n",
      "_________________________________________________________________\n",
      "Layer (type)                 Output Shape              Param #   \n",
      "=================================================================\n",
      "lambda_1 (Lambda)            (None, 256, 10000)        0         \n",
      "_________________________________________________________________\n",
      "global_average_pooling1d_mas (None, 10000)             0         \n",
      "_________________________________________________________________\n",
      "dense_1 (Dense)              (None, 1)                 10001     \n",
      "=================================================================\n",
      "Total params: 10,001\n",
      "Trainable params: 10,001\n",
      "Non-trainable params: 0\n",
      "_________________________________________________________________\n"
     ]
    }
   ],
   "source": [
    "\n",
    "model=keras.Sequential()\n",
    "model.add(OneHot(VOCAB_SIZE, MAX_SEQUENCE_LENGTH))\n",
    "model.add(GlobalAveragePooling1DMasked())\n",
    "model.add(keras.layers.Dense(1, activation='sigmoid'))\n",
    "model.summary()\n"
   ]
  },
  {
   "cell_type": "markdown",
   "metadata": {
    "colab_type": "text",
    "id": "_Mz96xpCgvTj"
   },
   "source": [
    "### Training the model"
   ]
  },
  {
   "cell_type": "markdown",
   "metadata": {
    "colab_type": "text",
    "id": "F3HbW_IKLqwT"
   },
   "source": [
    "To compile the model we need a loss function and an optimizer. We use binary_crossentropy loss function which is just a special case of categorical cross entropy. We also use Adam optimizer that can be used instead of the classical stochastic gradient descent procedure to update network weights iterative based in training data. You can read more about it here:\n",
    "(https://arxiv.org/abs/1412.6980v8\n",
    ")\n"
   ]
  },
  {
   "cell_type": "code",
   "execution_count": 0,
   "metadata": {
    "colab": {
     "base_uri": "https://localhost:8080/",
     "height": 176
    },
    "colab_type": "code",
    "id": "qh1PWTNMxjUw",
    "outputId": "5ecbc1f6-8b46-491c-b39c-93f765963b9f"
   },
   "outputs": [
    {
     "name": "stdout",
     "output_type": "stream",
     "text": [
      "WARNING:tensorflow:From /usr/local/lib/python3.6/dist-packages/keras/optimizers.py:793: The name tf.train.Optimizer is deprecated. Please use tf.compat.v1.train.Optimizer instead.\n",
      "\n",
      "WARNING:tensorflow:From /usr/local/lib/python3.6/dist-packages/keras/backend/tensorflow_backend.py:3657: The name tf.log is deprecated. Please use tf.math.log instead.\n",
      "\n",
      "WARNING:tensorflow:From /usr/local/lib/python3.6/dist-packages/tensorflow_core/python/ops/nn_impl.py:183: where (from tensorflow.python.ops.array_ops) is deprecated and will be removed in a future version.\n",
      "Instructions for updating:\n",
      "Use tf.where in 2.0, which has the same broadcast rule as np.where\n"
     ]
    }
   ],
   "source": [
    "model.compile(optimizer='adam',\n",
    "              loss='binary_crossentropy',\n",
    "              metrics=['accuracy'])"
   ]
  },
  {
   "cell_type": "markdown",
   "metadata": {
    "colab_type": "text",
    "id": "E1jwQQqCN5Ia"
   },
   "source": [
    "When training, we want to check the accuracy of the model on data it hasn't seen before. So we create a validation set:"
   ]
  },
  {
   "cell_type": "code",
   "execution_count": 0,
   "metadata": {
    "colab": {},
    "colab_type": "code",
    "id": "f5lAqzQlxjSM"
   },
   "outputs": [],
   "source": [
    "X_val = np.array(X_train_enc[:10000])\n",
    "partial_X_train = np.array(X_train_enc[10000:])\n",
    "\n",
    "y_val = np.array(y_train[:10000])\n",
    "partial_y_train = np.array(y_train[10000:])"
   ]
  },
  {
   "cell_type": "markdown",
   "metadata": {
    "colab_type": "text",
    "id": "E8Kpo5G3OJEY"
   },
   "source": [
    "Then we start to train the model for 40 epochs in mini-batches of 512 samples and monitor the model's loss and accuracy on the validation set."
   ]
  },
  {
   "cell_type": "code",
   "execution_count": 0,
   "metadata": {
    "colab": {
     "base_uri": "https://localhost:8080/",
     "height": 1000
    },
    "colab_type": "code",
    "id": "99_z39KAxjPi",
    "outputId": "2996d279-9dbe-4ff1-d3ae-16a2a0d4a786"
   },
   "outputs": [
    {
     "name": "stdout",
     "output_type": "stream",
     "text": [
      "WARNING:tensorflow:From /usr/local/lib/python3.6/dist-packages/keras/backend/tensorflow_backend.py:1033: The name tf.assign_add is deprecated. Please use tf.compat.v1.assign_add instead.\n",
      "\n",
      "WARNING:tensorflow:From /usr/local/lib/python3.6/dist-packages/keras/backend/tensorflow_backend.py:1020: The name tf.assign is deprecated. Please use tf.compat.v1.assign instead.\n",
      "\n",
      "WARNING:tensorflow:From /usr/local/lib/python3.6/dist-packages/keras/backend/tensorflow_backend.py:3005: The name tf.Session is deprecated. Please use tf.compat.v1.Session instead.\n",
      "\n",
      "Train on 15000 samples, validate on 10000 samples\n",
      "Epoch 1/40\n",
      "WARNING:tensorflow:From /usr/local/lib/python3.6/dist-packages/keras/backend/tensorflow_backend.py:190: The name tf.get_default_session is deprecated. Please use tf.compat.v1.get_default_session instead.\n",
      "\n",
      "WARNING:tensorflow:From /usr/local/lib/python3.6/dist-packages/keras/backend/tensorflow_backend.py:197: The name tf.ConfigProto is deprecated. Please use tf.compat.v1.ConfigProto instead.\n",
      "\n",
      "WARNING:tensorflow:From /usr/local/lib/python3.6/dist-packages/keras/backend/tensorflow_backend.py:207: The name tf.global_variables is deprecated. Please use tf.compat.v1.global_variables instead.\n",
      "\n",
      "WARNING:tensorflow:From /usr/local/lib/python3.6/dist-packages/keras/backend/tensorflow_backend.py:216: The name tf.is_variable_initialized is deprecated. Please use tf.compat.v1.is_variable_initialized instead.\n",
      "\n",
      "WARNING:tensorflow:From /usr/local/lib/python3.6/dist-packages/keras/backend/tensorflow_backend.py:223: The name tf.variables_initializer is deprecated. Please use tf.compat.v1.variables_initializer instead.\n",
      "\n",
      "15000/15000 [==============================] - 7s 490us/step - loss: 0.6930 - acc: 0.5101 - val_loss: 0.6928 - val_acc: 0.4980\n",
      "Epoch 2/40\n",
      "15000/15000 [==============================] - 6s 403us/step - loss: 0.6925 - acc: 0.5129 - val_loss: 0.6924 - val_acc: 0.5244\n",
      "Epoch 3/40\n",
      "15000/15000 [==============================] - 6s 403us/step - loss: 0.6921 - acc: 0.5297 - val_loss: 0.6920 - val_acc: 0.5354\n",
      "Epoch 4/40\n",
      "15000/15000 [==============================] - 6s 403us/step - loss: 0.6917 - acc: 0.5718 - val_loss: 0.6917 - val_acc: 0.5600\n",
      "Epoch 5/40\n",
      "15000/15000 [==============================] - 6s 404us/step - loss: 0.6913 - acc: 0.5864 - val_loss: 0.6913 - val_acc: 0.5818\n",
      "Epoch 6/40\n",
      "15000/15000 [==============================] - 6s 401us/step - loss: 0.6909 - acc: 0.5805 - val_loss: 0.6909 - val_acc: 0.5909\n",
      "Epoch 7/40\n",
      "15000/15000 [==============================] - 6s 404us/step - loss: 0.6905 - acc: 0.5909 - val_loss: 0.6906 - val_acc: 0.6000\n",
      "Epoch 8/40\n",
      "15000/15000 [==============================] - 6s 404us/step - loss: 0.6901 - acc: 0.6469 - val_loss: 0.6901 - val_acc: 0.6545\n",
      "Epoch 9/40\n",
      "15000/15000 [==============================] - 6s 408us/step - loss: 0.6897 - acc: 0.6537 - val_loss: 0.6898 - val_acc: 0.6412\n",
      "Epoch 10/40\n",
      "15000/15000 [==============================] - 6s 407us/step - loss: 0.6893 - acc: 0.6415 - val_loss: 0.6894 - val_acc: 0.6424\n",
      "Epoch 11/40\n",
      "15000/15000 [==============================] - 6s 408us/step - loss: 0.6889 - acc: 0.6556 - val_loss: 0.6890 - val_acc: 0.6511\n",
      "Epoch 12/40\n",
      "15000/15000 [==============================] - 6s 407us/step - loss: 0.6885 - acc: 0.6286 - val_loss: 0.6887 - val_acc: 0.6343\n",
      "Epoch 13/40\n",
      "15000/15000 [==============================] - 6s 410us/step - loss: 0.6881 - acc: 0.6647 - val_loss: 0.6883 - val_acc: 0.6608\n",
      "Epoch 14/40\n",
      "15000/15000 [==============================] - 6s 410us/step - loss: 0.6877 - acc: 0.6682 - val_loss: 0.6879 - val_acc: 0.6602\n",
      "Epoch 15/40\n",
      "15000/15000 [==============================] - 6s 412us/step - loss: 0.6873 - acc: 0.6653 - val_loss: 0.6875 - val_acc: 0.6608\n",
      "Epoch 16/40\n",
      "15000/15000 [==============================] - 6s 411us/step - loss: 0.6869 - acc: 0.6587 - val_loss: 0.6872 - val_acc: 0.6525\n",
      "Epoch 17/40\n",
      "15000/15000 [==============================] - 6s 410us/step - loss: 0.6865 - acc: 0.6697 - val_loss: 0.6868 - val_acc: 0.6651\n",
      "Epoch 18/40\n",
      "15000/15000 [==============================] - 6s 411us/step - loss: 0.6861 - acc: 0.6669 - val_loss: 0.6865 - val_acc: 0.6590\n",
      "Epoch 19/40\n",
      "15000/15000 [==============================] - 6s 413us/step - loss: 0.6857 - acc: 0.6687 - val_loss: 0.6861 - val_acc: 0.6637\n",
      "Epoch 20/40\n",
      "15000/15000 [==============================] - 6s 414us/step - loss: 0.6854 - acc: 0.6736 - val_loss: 0.6858 - val_acc: 0.6637\n",
      "Epoch 21/40\n",
      "15000/15000 [==============================] - 6s 415us/step - loss: 0.6850 - acc: 0.6763 - val_loss: 0.6854 - val_acc: 0.6658\n",
      "Epoch 22/40\n",
      "15000/15000 [==============================] - 6s 415us/step - loss: 0.6846 - acc: 0.6760 - val_loss: 0.6850 - val_acc: 0.6659\n",
      "Epoch 23/40\n",
      "15000/15000 [==============================] - 6s 414us/step - loss: 0.6842 - acc: 0.6735 - val_loss: 0.6847 - val_acc: 0.6657\n",
      "Epoch 24/40\n",
      "15000/15000 [==============================] - 6s 416us/step - loss: 0.6838 - acc: 0.6755 - val_loss: 0.6843 - val_acc: 0.6656\n",
      "Epoch 25/40\n",
      "15000/15000 [==============================] - 6s 415us/step - loss: 0.6835 - acc: 0.6767 - val_loss: 0.6840 - val_acc: 0.6678\n",
      "Epoch 26/40\n",
      "15000/15000 [==============================] - 6s 415us/step - loss: 0.6831 - acc: 0.6738 - val_loss: 0.6837 - val_acc: 0.6650\n",
      "Epoch 27/40\n",
      "15000/15000 [==============================] - 6s 415us/step - loss: 0.6827 - acc: 0.6764 - val_loss: 0.6833 - val_acc: 0.6678\n",
      "Epoch 28/40\n",
      "15000/15000 [==============================] - 6s 416us/step - loss: 0.6823 - acc: 0.6747 - val_loss: 0.6829 - val_acc: 0.6667\n",
      "Epoch 29/40\n",
      "15000/15000 [==============================] - 6s 417us/step - loss: 0.6820 - acc: 0.6767 - val_loss: 0.6826 - val_acc: 0.6683\n",
      "Epoch 30/40\n",
      "15000/15000 [==============================] - 6s 418us/step - loss: 0.6816 - acc: 0.6769 - val_loss: 0.6823 - val_acc: 0.6687\n",
      "Epoch 31/40\n",
      "15000/15000 [==============================] - 6s 418us/step - loss: 0.6812 - acc: 0.6773 - val_loss: 0.6819 - val_acc: 0.6690\n",
      "Epoch 32/40\n",
      "15000/15000 [==============================] - 6s 419us/step - loss: 0.6809 - acc: 0.6769 - val_loss: 0.6816 - val_acc: 0.6699\n",
      "Epoch 33/40\n",
      "15000/15000 [==============================] - 6s 419us/step - loss: 0.6805 - acc: 0.6780 - val_loss: 0.6812 - val_acc: 0.6696\n",
      "Epoch 34/40\n",
      "15000/15000 [==============================] - 6s 419us/step - loss: 0.6801 - acc: 0.6786 - val_loss: 0.6809 - val_acc: 0.6694\n",
      "Epoch 35/40\n",
      "15000/15000 [==============================] - 6s 421us/step - loss: 0.6798 - acc: 0.6783 - val_loss: 0.6806 - val_acc: 0.6712\n",
      "Epoch 36/40\n",
      "15000/15000 [==============================] - 6s 421us/step - loss: 0.6794 - acc: 0.6784 - val_loss: 0.6802 - val_acc: 0.6701\n",
      "Epoch 37/40\n",
      "15000/15000 [==============================] - 6s 422us/step - loss: 0.6790 - acc: 0.6795 - val_loss: 0.6799 - val_acc: 0.6706\n",
      "Epoch 38/40\n",
      "15000/15000 [==============================] - 6s 422us/step - loss: 0.6787 - acc: 0.6791 - val_loss: 0.6795 - val_acc: 0.6733\n",
      "Epoch 39/40\n",
      "15000/15000 [==============================] - 6s 423us/step - loss: 0.6783 - acc: 0.6799 - val_loss: 0.6792 - val_acc: 0.6710\n",
      "Epoch 40/40\n",
      "15000/15000 [==============================] - 6s 424us/step - loss: 0.6780 - acc: 0.6812 - val_loss: 0.6788 - val_acc: 0.6725\n"
     ]
    }
   ],
   "source": [
    "history = model.fit(partial_X_train,\n",
    "                    partial_y_train,\n",
    "                    epochs=40,\n",
    "                    batch_size=512,\n",
    "                    validation_data=(X_val, y_val),\n",
    "                    verbose=1)"
   ]
  },
  {
   "cell_type": "markdown",
   "metadata": {
    "colab_type": "text",
    "id": "i_9a_rybhG5J"
   },
   "source": [
    "### Evaluating the model"
   ]
  },
  {
   "cell_type": "markdown",
   "metadata": {
    "colab_type": "text",
    "id": "EYLH8kOgOo9W"
   },
   "source": [
    "To evaulate the model on test data:"
   ]
  },
  {
   "cell_type": "code",
   "execution_count": 0,
   "metadata": {
    "colab": {
     "base_uri": "https://localhost:8080/",
     "height": 34
    },
    "colab_type": "code",
    "id": "CFMt2Q7b3taP",
    "outputId": "689fb8c9-e1ea-48b1-ed5b-2d0c90316cf9"
   },
   "outputs": [
    {
     "name": "stdout",
     "output_type": "stream",
     "text": [
      "25000/25000 [==============================] - 7s 274us/step\n"
     ]
    }
   ],
   "source": [
    "results = model.evaluate(X_test_enc, y_test)"
   ]
  },
  {
   "cell_type": "code",
   "execution_count": 0,
   "metadata": {
    "colab": {
     "base_uri": "https://localhost:8080/",
     "height": 34
    },
    "colab_type": "code",
    "id": "9RrKiPHcAmQU",
    "outputId": "ee2e81b8-8617-4545-c649-7e90e443a9cc"
   },
   "outputs": [
    {
     "name": "stdout",
     "output_type": "stream",
     "text": [
      "[0.67863190782547, 0.67668]\n"
     ]
    }
   ],
   "source": [
    "print(results)\n",
    "# loss, accuracay "
   ]
  },
  {
   "cell_type": "markdown",
   "metadata": {
    "colab_type": "text",
    "id": "pW7IpHxMO6qp"
   },
   "source": [
    "Our first model accuracy using one-hot vectors is \n",
    "\n",
    "\n",
    "\n"
   ]
  },
  {
   "cell_type": "markdown",
   "metadata": {
    "colab_type": "text",
    "id": "OwZk_yoWhPJB"
   },
   "source": [
    "### Plotting the accuracy graph"
   ]
  },
  {
   "cell_type": "markdown",
   "metadata": {
    "colab_type": "text",
    "id": "JIDPH1J7PMzN"
   },
   "source": [
    "To plot a graph of accuracy and loss over time we can use Matplotlib:"
   ]
  },
  {
   "cell_type": "code",
   "execution_count": 0,
   "metadata": {
    "colab": {
     "base_uri": "https://localhost:8080/",
     "height": 295
    },
    "colab_type": "code",
    "id": "LS9k2vvSAqB7",
    "outputId": "c69fb429-da72-4e28-af7a-2957cf050c74"
   },
   "outputs": [
    {
     "data": {
      "image/png": "[encoded data removed]",
      "text/plain": [
       "<Figure size 432x288 with 1 Axes>"
      ]
     },
     "metadata": {
      "tags": []
     },
     "output_type": "display_data"
    }
   ],
   "source": [
    "import matplotlib.pyplot as plt\n",
    "\n",
    "history_dict = history.history\n",
    "\n",
    "acc = history_dict['acc']\n",
    "val_acc = history_dict['val_acc']\n",
    "loss = history_dict['loss']\n",
    "val_loss = history_dict['val_loss']\n",
    "\n",
    "epochs = range(1, len(acc) + 1)\n",
    "\n",
    "plt.plot(epochs, loss, 'bo', label='Training loss')\n",
    "plt.plot(epochs, val_loss, 'b', label='Validation loss')\n",
    "plt.title('Training and validation Loss')\n",
    "plt.xlabel('Epochs')\n",
    "plt.ylabel('Loss')\n",
    "plt.legend()\n",
    "\n",
    "plt.show()"
   ]
  },
  {
   "cell_type": "markdown",
   "metadata": {
    "colab_type": "text",
    "id": "a7OwOQw4h8RX"
   },
   "source": [
    "### Neural Network model using word embeddings"
   ]
  },
  {
   "cell_type": "markdown",
   "metadata": {
    "colab_type": "text",
    "id": "l-QzOMO_P4jc"
   },
   "source": [
    "Now instead of one-hot vectors, we want to use embedding. We change our first layer in model1 to an Embedding layer. This layer takes the integer-encoded vocabulary and looks up the embedding vector for each word-index. These vectors are learned as the model trains. The vectors add a dimension to the output array. The resulting dimensions are: (batch, sequence, embedding)."
   ]
  },
  {
   "cell_type": "code",
   "execution_count": 0,
   "metadata": {
    "colab": {
     "base_uri": "https://localhost:8080/",
     "height": 1000
    },
    "colab_type": "code",
    "id": "MFrCsL-NBFVL",
    "outputId": "d3059d4e-8e51-4fb6-deb7-ccb1506f694b"
   },
   "outputs": [
    {
     "name": "stdout",
     "output_type": "stream",
     "text": [
      "Model: \"sequential_2\"\n",
      "_________________________________________________________________\n",
      "Layer (type)                 Output Shape              Param #   \n",
      "=================================================================\n",
      "embedding_1 (Embedding)      (None, 256, 100)          1000000   \n",
      "_________________________________________________________________\n",
      "global_average_pooling1d_mas (None, 100)               0         \n",
      "_________________________________________________________________\n",
      "dense_2 (Dense)              (None, 1)                 101       \n",
      "=================================================================\n",
      "Total params: 1,000,101\n",
      "Trainable params: 1,000,101\n",
      "Non-trainable params: 0\n",
      "_________________________________________________________________\n",
      "Train on 15000 samples, validate on 10000 samples\n",
      "Epoch 1/40\n",
      "15000/15000 [==============================] - 1s 36us/step - loss: 0.6894 - acc: 0.6668 - val_loss: 0.6849 - val_acc: 0.7199\n",
      "Epoch 2/40\n",
      "15000/15000 [==============================] - 0s 22us/step - loss: 0.6781 - acc: 0.7365 - val_loss: 0.6718 - val_acc: 0.7318\n",
      "Epoch 3/40\n",
      "15000/15000 [==============================] - 0s 22us/step - loss: 0.6605 - acc: 0.7503 - val_loss: 0.6528 - val_acc: 0.7425\n",
      "Epoch 4/40\n",
      "15000/15000 [==============================] - 0s 22us/step - loss: 0.6369 - acc: 0.7613 - val_loss: 0.6292 - val_acc: 0.7531\n",
      "Epoch 5/40\n",
      "15000/15000 [==============================] - 0s 22us/step - loss: 0.6093 - acc: 0.7724 - val_loss: 0.6028 - val_acc: 0.7680\n",
      "Epoch 6/40\n",
      "15000/15000 [==============================] - 0s 21us/step - loss: 0.5793 - acc: 0.7877 - val_loss: 0.5756 - val_acc: 0.7818\n",
      "Epoch 7/40\n",
      "15000/15000 [==============================] - 0s 22us/step - loss: 0.5489 - acc: 0.8061 - val_loss: 0.5477 - val_acc: 0.7960\n",
      "Epoch 8/40\n",
      "15000/15000 [==============================] - 0s 22us/step - loss: 0.5191 - acc: 0.8202 - val_loss: 0.5213 - val_acc: 0.8087\n",
      "Epoch 9/40\n",
      "15000/15000 [==============================] - 0s 22us/step - loss: 0.4907 - acc: 0.8343 - val_loss: 0.4966 - val_acc: 0.8200\n",
      "Epoch 10/40\n",
      "15000/15000 [==============================] - 0s 21us/step - loss: 0.4643 - acc: 0.8447 - val_loss: 0.4741 - val_acc: 0.8284\n",
      "Epoch 11/40\n",
      "15000/15000 [==============================] - 0s 21us/step - loss: 0.4401 - acc: 0.8563 - val_loss: 0.4534 - val_acc: 0.8358\n",
      "Epoch 12/40\n",
      "15000/15000 [==============================] - 0s 21us/step - loss: 0.4181 - acc: 0.8632 - val_loss: 0.4355 - val_acc: 0.8427\n",
      "Epoch 13/40\n",
      "15000/15000 [==============================] - 0s 22us/step - loss: 0.3982 - acc: 0.8695 - val_loss: 0.4194 - val_acc: 0.8474\n",
      "Epoch 14/40\n",
      "15000/15000 [==============================] - 0s 22us/step - loss: 0.3804 - acc: 0.8762 - val_loss: 0.4050 - val_acc: 0.8533\n",
      "Epoch 15/40\n",
      "15000/15000 [==============================] - 0s 22us/step - loss: 0.3643 - acc: 0.8813 - val_loss: 0.3926 - val_acc: 0.8572\n",
      "Epoch 16/40\n",
      "15000/15000 [==============================] - 0s 22us/step - loss: 0.3499 - acc: 0.8857 - val_loss: 0.3817 - val_acc: 0.8586\n",
      "Epoch 17/40\n",
      "15000/15000 [==============================] - 0s 22us/step - loss: 0.3365 - acc: 0.8903 - val_loss: 0.3716 - val_acc: 0.8635\n",
      "Epoch 18/40\n",
      "15000/15000 [==============================] - 0s 22us/step - loss: 0.3245 - acc: 0.8940 - val_loss: 0.3629 - val_acc: 0.8653\n",
      "Epoch 19/40\n",
      "15000/15000 [==============================] - 0s 21us/step - loss: 0.3136 - acc: 0.8959 - val_loss: 0.3550 - val_acc: 0.8671\n",
      "Epoch 20/40\n",
      "15000/15000 [==============================] - 0s 22us/step - loss: 0.3033 - acc: 0.8993 - val_loss: 0.3482 - val_acc: 0.8682\n",
      "Epoch 21/40\n",
      "15000/15000 [==============================] - 0s 21us/step - loss: 0.2931 - acc: 0.9029 - val_loss: 0.3412 - val_acc: 0.8719\n",
      "Epoch 22/40\n",
      "15000/15000 [==============================] - 0s 22us/step - loss: 0.2841 - acc: 0.9061 - val_loss: 0.3355 - val_acc: 0.8729\n",
      "Epoch 23/40\n",
      "15000/15000 [==============================] - 0s 24us/step - loss: 0.2755 - acc: 0.9088 - val_loss: 0.3305 - val_acc: 0.8744\n",
      "Epoch 24/40\n",
      "15000/15000 [==============================] - 0s 23us/step - loss: 0.2674 - acc: 0.9113 - val_loss: 0.3256 - val_acc: 0.8736\n",
      "Epoch 25/40\n",
      "15000/15000 [==============================] - 0s 21us/step - loss: 0.2601 - acc: 0.9135 - val_loss: 0.3212 - val_acc: 0.8763\n",
      "Epoch 26/40\n",
      "15000/15000 [==============================] - 0s 22us/step - loss: 0.2527 - acc: 0.9171 - val_loss: 0.3172 - val_acc: 0.8777\n",
      "Epoch 27/40\n",
      "15000/15000 [==============================] - 0s 22us/step - loss: 0.2459 - acc: 0.9203 - val_loss: 0.3135 - val_acc: 0.8791\n",
      "Epoch 28/40\n",
      "15000/15000 [==============================] - 0s 21us/step - loss: 0.2396 - acc: 0.9209 - val_loss: 0.3111 - val_acc: 0.8782\n",
      "Epoch 29/40\n",
      "15000/15000 [==============================] - 0s 22us/step - loss: 0.2338 - acc: 0.9234 - val_loss: 0.3073 - val_acc: 0.8796\n",
      "Epoch 30/40\n",
      "15000/15000 [==============================] - 0s 22us/step - loss: 0.2276 - acc: 0.9268 - val_loss: 0.3048 - val_acc: 0.8808\n",
      "Epoch 31/40\n",
      "15000/15000 [==============================] - 0s 21us/step - loss: 0.2224 - acc: 0.9270 - val_loss: 0.3023 - val_acc: 0.8808\n",
      "Epoch 32/40\n",
      "15000/15000 [==============================] - 0s 22us/step - loss: 0.2168 - acc: 0.9296 - val_loss: 0.3002 - val_acc: 0.8813\n",
      "Epoch 33/40\n",
      "15000/15000 [==============================] - 0s 22us/step - loss: 0.2115 - acc: 0.9323 - val_loss: 0.2980 - val_acc: 0.8824\n",
      "Epoch 34/40\n",
      "15000/15000 [==============================] - 0s 22us/step - loss: 0.2066 - acc: 0.9337 - val_loss: 0.2964 - val_acc: 0.8832\n",
      "Epoch 35/40\n",
      "15000/15000 [==============================] - 0s 22us/step - loss: 0.2020 - acc: 0.9357 - val_loss: 0.2948 - val_acc: 0.8828\n",
      "Epoch 36/40\n",
      "15000/15000 [==============================] - 0s 22us/step - loss: 0.1974 - acc: 0.9381 - val_loss: 0.2935 - val_acc: 0.8843\n",
      "Epoch 37/40\n",
      "15000/15000 [==============================] - 0s 22us/step - loss: 0.1928 - acc: 0.9399 - val_loss: 0.2922 - val_acc: 0.8844\n",
      "Epoch 38/40\n",
      "15000/15000 [==============================] - 0s 22us/step - loss: 0.1887 - acc: 0.9423 - val_loss: 0.2914 - val_acc: 0.8834\n",
      "Epoch 39/40\n",
      "15000/15000 [==============================] - 0s 22us/step - loss: 0.1845 - acc: 0.9445 - val_loss: 0.2899 - val_acc: 0.8838\n",
      "Epoch 40/40\n",
      "15000/15000 [==============================] - 0s 21us/step - loss: 0.1808 - acc: 0.9461 - val_loss: 0.2889 - val_acc: 0.8844\n",
      "25000/25000 [==============================] - 1s 35us/step\n",
      "[0.3032610950279236, 0.87684]\n"
     ]
    }
   ],
   "source": [
    "VOCAB_SIZE= 10000\n",
    "\n",
    "# put the code here\n",
    "\n",
    "model2=keras.Sequential()\n",
    "model2.add(keras.layers.Embedding(VOCAB_SIZE, 100, input_length=256))\n",
    "model2.add(GlobalAveragePooling1DMasked())\n",
    "model2.add(keras.layers.Dense(1, activation='sigmoid'))\n",
    "model2.summary()\n",
    "\n",
    "\n",
    "model2.compile(optimizer='adam',\n",
    "              loss='binary_crossentropy',\n",
    "              metrics=['accuracy'])\n",
    "\n",
    "X_val = np.array(X_train_enc[:10000])\n",
    "partial_X_train = np.array(X_train_enc[10000:])\n",
    "\n",
    "history2 = model2.fit(partial_X_train,\n",
    "                    partial_y_train,\n",
    "                    epochs=40,\n",
    "                    batch_size=512,\n",
    "                    validation_data=(X_val, y_val),\n",
    "                    verbose=1)\n",
    "\n",
    "results = model2.evaluate(X_test_enc, y_test)\n",
    "print(results)"
   ]
  },
  {
   "cell_type": "code",
   "execution_count": 0,
   "metadata": {
    "colab": {
     "base_uri": "https://localhost:8080/",
     "height": 34
    },
    "colab_type": "code",
    "id": "I4zIPJDcTPq3",
    "outputId": "ddfc7936-9547-4c6a-81e6-19bbc963ca1d"
   },
   "outputs": [
    {
     "name": "stdout",
     "output_type": "stream",
     "text": [
      "25000/25000 [==============================] - 1s 35us/step\n"
     ]
    }
   ],
   "source": [
    "results = model2.evaluate(X_test_enc, y_test)"
   ]
  },
  {
   "cell_type": "code",
   "execution_count": 0,
   "metadata": {
    "colab": {
     "base_uri": "https://localhost:8080/",
     "height": 34
    },
    "colab_type": "code",
    "id": "waS96edDTRyL",
    "outputId": "c4834abb-e945-45f1-e7ec-3916487e2b85"
   },
   "outputs": [
    {
     "name": "stdout",
     "output_type": "stream",
     "text": [
      "[0.3032610950279236, 0.87684]\n"
     ]
    }
   ],
   "source": [
    "print (results)"
   ]
  },
  {
   "cell_type": "code",
   "execution_count": 0,
   "metadata": {
    "colab": {
     "base_uri": "https://localhost:8080/",
     "height": 295
    },
    "colab_type": "code",
    "id": "XB7aveVzTC5a",
    "outputId": "d61458cd-8b2a-4862-f360-655c8392eaae"
   },
   "outputs": [
    {
     "data": {
      "image/png": "[encoded data removed]",
      "text/plain": [
       "<Figure size 432x288 with 1 Axes>"
      ]
     },
     "metadata": {
      "tags": []
     },
     "output_type": "display_data"
    }
   ],
   "source": [
    "import matplotlib.pyplot as plt\n",
    "\n",
    "history_dict = history2.history\n",
    "\n",
    "acc = history_dict['acc']\n",
    "val_acc = history_dict['val_acc']\n",
    "loss = history_dict['loss']\n",
    "val_loss = history_dict['val_loss']\n",
    "\n",
    "epochs = range(1, len(acc) + 1)\n",
    "\n",
    "plt.plot(epochs, loss, 'bo', label='Training loss')\n",
    "plt.plot(epochs, val_loss, 'b', label='Validation loss')\n",
    "plt.title('Training and validation loss')\n",
    "plt.xlabel('Epochs')\n",
    "plt.ylabel('Loss')\n",
    "plt.legend()\n",
    "\n",
    "plt.show()"
   ]
  },
  {
   "cell_type": "markdown",
   "metadata": {
    "colab_type": "text",
    "id": "7FBpTc_rXGvQ"
   },
   "source": [
    "The accuracy of model2 is 87%. Using Embedding layer instead of one-hot layer improved the performance."
   ]
  },
  {
   "cell_type": "markdown",
   "metadata": {
    "colab_type": "text",
    "id": "--020hfG6rN2"
   },
   "source": [
    "### Using pre-trained word embeddings"
   ]
  },
  {
   "cell_type": "markdown",
   "metadata": {
    "colab_type": "text",
    "id": "J4gBeOyi4gkM"
   },
   "source": [
    "The Embedding layer can be used to load a pre-trained word embedding model. We are going to use GloVe embeddings, which you can read about it here (https://nlp.stanford.edu/projects/glove/). GloVe stands for \"Global Vectors for Word Representation\". It's a somewhat popular embedding technique based on factorizing a matrix of word co-occurence statistics. You can download GloVe and we can seed the Keras Embedding layer with weights from the pre-trained embedding for the words in your dataset.\n",
    "First, we need to read GloVe and map words to GloVe:\n"
   ]
  },
  {
   "cell_type": "code",
   "execution_count": 0,
   "metadata": {
    "colab": {},
    "colab_type": "code",
    "id": "f_PypdqG9Iis"
   },
   "outputs": [],
   "source": [
    "def readGloveFile(gloveFile):\n",
    "    with open(gloveFile, 'r') as f:\n",
    "        wordToGlove = {}  \n",
    "        wordToIndex = {}  \n",
    "        indexToWord = {}  \n",
    "\n",
    "        for line in f:\n",
    "            record = line.strip().split()\n",
    "            token = record[0] \n",
    "            wordToGlove[token] = np.array(record[1:], dtype=np.float64) \n",
    "            \n",
    "        tokens = sorted(wordToGlove.keys())\n",
    "        for idx, tok in enumerate(tokens):\n",
    "            kerasIdx = idx + 1  \n",
    "            wordToIndex[tok] = kerasIdx \n",
    "            indexToWord[kerasIdx] = tok \n",
    "\n",
    "    return wordToIndex, indexToWord, wordToGlove"
   ]
  },
  {
   "cell_type": "markdown",
   "metadata": {
    "colab_type": "text",
    "id": "ZcIZ3dq59bCh"
   },
   "source": [
    "Now, we create our pre-trained Embedding layer:"
   ]
  },
  {
   "cell_type": "code",
   "execution_count": 0,
   "metadata": {
    "colab": {},
    "colab_type": "code",
    "id": "gembn7VM3ex8"
   },
   "outputs": [],
   "source": [
    "from keras.initializers import Constant\n",
    "def createPretrainedEmbeddingLayer(wordToGlove, wordToIndex, isTrainable):\n",
    "    vocabLen = len(wordToIndex) + 1  \n",
    "    embDim = next(iter(wordToGlove.values())).shape[0]  \n",
    "   \n",
    "    embeddingMatrix = np.zeros((vocabLen, embDim))  \n",
    "    for word, index in wordToIndex.items():\n",
    "        embeddingMatrix[index, :] = wordToGlove[word] \n",
    "\n",
    "    embeddingLayer = Embedding(vocabLen, embDim, embeddings_initializer=Constant(embeddingMatrix), trainable=isTrainable)\n",
    "    return embeddingLayer"
   ]
  },
  {
   "cell_type": "markdown",
   "metadata": {
    "colab_type": "text",
    "id": "HGxciLK4-xOr"
   },
   "source": [
    "We freeze the weights. To create the model:"
   ]
  },
  {
   "cell_type": "code",
   "execution_count": 0,
   "metadata": {
    "colab": {
     "base_uri": "https://localhost:8080/",
     "height": 1000
    },
    "colab_type": "code",
    "id": "PZCPUM0W_Drc",
    "outputId": "f62e9ce5-f7e7-44be-c6d9-320f9e1f9e6f"
   },
   "outputs": [
    {
     "name": "stdout",
     "output_type": "stream",
     "text": [
      "--2020-02-29 12:22:01--  http://nlp.stanford.edu/data/glove.6B.zip\n",
      "Resolving nlp.stanford.edu (nlp.stanford.edu)... 171.64.67.140\n",
      "Connecting to nlp.stanford.edu (nlp.stanford.edu)|171.64.67.140|:80... connected.\n",
      "HTTP request sent, awaiting response... 302 Found\n",
      "Location: https://nlp.stanford.edu/data/glove.6B.zip [following]\n",
      "--2020-02-29 12:22:02--  https://nlp.stanford.edu/data/glove.6B.zip\n",
      "Connecting to nlp.stanford.edu (nlp.stanford.edu)|171.64.67.140|:443... connected.\n",
      "HTTP request sent, awaiting response... 301 Moved Permanently\n",
      "Location: http://downloads.cs.stanford.edu/nlp/data/glove.6B.zip [following]\n",
      "--2020-02-29 12:22:02--  http://downloads.cs.stanford.edu/nlp/data/glove.6B.zip\n",
      "Resolving downloads.cs.stanford.edu (downloads.cs.stanford.edu)... 171.64.64.22\n",
      "Connecting to downloads.cs.stanford.edu (downloads.cs.stanford.edu)|171.64.64.22|:80... connected.\n",
      "HTTP request sent, awaiting response... 200 OK\n",
      "Length: 862182613 (822M) [application/zip]\n",
      "Saving to: ‘glove.6B.zip.1’\n",
      "\n",
      "glove.6B.zip.1      100%[===================>] 822.24M  1.80MB/s    in 6m 28s  \n",
      "\n",
      "2020-02-29 12:28:30 (2.12 MB/s) - ‘glove.6B.zip.1’ saved [862182613/862182613]\n",
      "\n"
     ]
    }
   ],
   "source": [
    "# put the code here\n",
    "!wget http://nlp.stanford.edu/data/glove.6B.zip"
   ]
  },
  {
   "cell_type": "code",
   "execution_count": 0,
   "metadata": {
    "colab": {},
    "colab_type": "code",
    "id": "etADPpI1UnkG"
   },
   "outputs": [],
   "source": [
    "import zipfile\n",
    "import os\n",
    "path = 'glove.6B.zip'\n",
    "directory = os.getcwd()\n",
    "zipfile_ = zipfile.ZipFile(path, 'r')\n",
    "zipfile_.extractall(directory)\n",
    "zipfile_.close()"
   ]
  },
  {
   "cell_type": "code",
   "execution_count": 0,
   "metadata": {
    "colab": {},
    "colab_type": "code",
    "id": "inoJ9WUMGTkC"
   },
   "outputs": [],
   "source": [
    "wordToIndex, indexToWord, wordToGlove = readGloveFile('glove.6B.100d.txt')"
   ]
  },
  {
   "cell_type": "markdown",
   "metadata": {
    "colab_type": "text",
    "id": "M-bZ5SCHiIMl"
   },
   "source": [
    "### Adding another hidden layer to the network"
   ]
  },
  {
   "cell_type": "markdown",
   "metadata": {
    "colab_type": "text",
    "id": "ZbZ6UBDfbjea"
   },
   "source": [
    "In model3, we only add another dense layer to see if that improves the performance."
   ]
  },
  {
   "cell_type": "code",
   "execution_count": 0,
   "metadata": {
    "colab": {
     "base_uri": "https://localhost:8080/",
     "height": 363
    },
    "colab_type": "code",
    "id": "Vw0le1YjDdCa",
    "outputId": "8190ad86-7ab2-4039-986f-4697036fdb6c"
   },
   "outputs": [
    {
     "name": "stderr",
     "output_type": "stream",
     "text": [
      "/usr/local/lib/python3.6/dist-packages/keras/engine/sequential.py:111: UserWarning: `Sequential.model` is deprecated. `Sequential` is a subclass of `Model`, you can just use your `Sequential` instance directly.\n",
      "  warnings.warn('`Sequential.model` is deprecated. '\n"
     ]
    },
    {
     "name": "stdout",
     "output_type": "stream",
     "text": [
      "Model: \"sequential_3\"\n",
      "_________________________________________________________________\n",
      "Layer (type)                 Output Shape              Param #   \n",
      "=================================================================\n",
      "embedding_2 (Embedding)      (None, None, 100)         40000100  \n",
      "_________________________________________________________________\n",
      "global_average_pooling1d_mas (None, 100)               0         \n",
      "_________________________________________________________________\n",
      "dense_3 (Dense)              (None, 16)                1616      \n",
      "_________________________________________________________________\n",
      "dense_4 (Dense)              (None, 1)                 17        \n",
      "=================================================================\n",
      "Total params: 40,001,733\n",
      "Trainable params: 40,001,733\n",
      "Non-trainable params: 0\n",
      "_________________________________________________________________\n"
     ]
    }
   ],
   "source": [
    "# put your code here\n",
    "model_glove = keras.Sequential()\n",
    "model_glove.model.add(createPretrainedEmbeddingLayer(wordToGlove, wordToIndex, isTrainable=True))\n",
    "model_glove.add(GlobalAveragePooling1DMasked())\n",
    "model_glove.add(keras.layers.Dense(16, activation='relu'))\n",
    "model_glove.add(keras.layers.Dense(1, activation='sigmoid'))\n",
    "model_glove.summary()\n",
    "model_glove.compile(optimizer='adam', loss='binary_crossentropy', metrics = ['accuracy'])"
   ]
  },
  {
   "cell_type": "code",
   "execution_count": 0,
   "metadata": {
    "colab": {
     "base_uri": "https://localhost:8080/",
     "height": 1000
    },
    "colab_type": "code",
    "id": "BWORt_4S2Kr6",
    "outputId": "4c899b56-2889-4296-eec1-115307b6e419"
   },
   "outputs": [
    {
     "name": "stdout",
     "output_type": "stream",
     "text": [
      "Train on 15000 samples, validate on 10000 samples\n",
      "Epoch 1/40\n",
      "15000/15000 [==============================] - 4s 234us/step - loss: 0.6882 - acc: 0.5452 - val_loss: 0.6834 - val_acc: 0.6047\n",
      "Epoch 2/40\n",
      "15000/15000 [==============================] - 2s 111us/step - loss: 0.6759 - acc: 0.6389 - val_loss: 0.6689 - val_acc: 0.6455\n",
      "Epoch 3/40\n",
      "15000/15000 [==============================] - 2s 110us/step - loss: 0.6554 - acc: 0.6763 - val_loss: 0.6452 - val_acc: 0.6824\n",
      "Epoch 4/40\n",
      "15000/15000 [==============================] - 2s 109us/step - loss: 0.6226 - acc: 0.7125 - val_loss: 0.6078 - val_acc: 0.7214\n",
      "Epoch 5/40\n",
      "15000/15000 [==============================] - 2s 108us/step - loss: 0.5761 - acc: 0.7521 - val_loss: 0.5607 - val_acc: 0.7600\n",
      "Epoch 6/40\n",
      "15000/15000 [==============================] - 2s 109us/step - loss: 0.5182 - acc: 0.7960 - val_loss: 0.5036 - val_acc: 0.8006\n",
      "Epoch 7/40\n",
      "15000/15000 [==============================] - 2s 108us/step - loss: 0.4574 - acc: 0.8330 - val_loss: 0.4504 - val_acc: 0.8265\n",
      "Epoch 8/40\n",
      "15000/15000 [==============================] - 2s 109us/step - loss: 0.4022 - acc: 0.8600 - val_loss: 0.4069 - val_acc: 0.8428\n",
      "Epoch 9/40\n",
      "15000/15000 [==============================] - 2s 111us/step - loss: 0.3577 - acc: 0.8728 - val_loss: 0.3756 - val_acc: 0.8553\n",
      "Epoch 10/40\n",
      "15000/15000 [==============================] - 2s 109us/step - loss: 0.3233 - acc: 0.8851 - val_loss: 0.3518 - val_acc: 0.8635\n",
      "Epoch 11/40\n",
      "15000/15000 [==============================] - 2s 109us/step - loss: 0.2960 - acc: 0.8937 - val_loss: 0.3352 - val_acc: 0.8693\n",
      "Epoch 12/40\n",
      "15000/15000 [==============================] - 2s 110us/step - loss: 0.2723 - acc: 0.9016 - val_loss: 0.3215 - val_acc: 0.8734\n",
      "Epoch 13/40\n",
      "15000/15000 [==============================] - 2s 110us/step - loss: 0.2509 - acc: 0.9103 - val_loss: 0.3118 - val_acc: 0.8765\n",
      "Epoch 14/40\n",
      "15000/15000 [==============================] - 2s 109us/step - loss: 0.2332 - acc: 0.9163 - val_loss: 0.3047 - val_acc: 0.8785\n",
      "Epoch 15/40\n",
      "15000/15000 [==============================] - 2s 109us/step - loss: 0.2155 - acc: 0.9229 - val_loss: 0.2984 - val_acc: 0.8802\n",
      "Epoch 16/40\n",
      "15000/15000 [==============================] - 2s 110us/step - loss: 0.2011 - acc: 0.9281 - val_loss: 0.2953 - val_acc: 0.8809\n",
      "Epoch 17/40\n",
      "15000/15000 [==============================] - 2s 108us/step - loss: 0.1876 - acc: 0.9336 - val_loss: 0.2919 - val_acc: 0.8815\n",
      "Epoch 18/40\n",
      "15000/15000 [==============================] - 2s 109us/step - loss: 0.1757 - acc: 0.9390 - val_loss: 0.2916 - val_acc: 0.8838\n",
      "Epoch 19/40\n",
      "15000/15000 [==============================] - 2s 112us/step - loss: 0.1649 - acc: 0.9450 - val_loss: 0.2909 - val_acc: 0.8831\n",
      "Epoch 20/40\n",
      "15000/15000 [==============================] - 2s 118us/step - loss: 0.1547 - acc: 0.9499 - val_loss: 0.2922 - val_acc: 0.8848\n",
      "Epoch 21/40\n",
      "15000/15000 [==============================] - 2s 118us/step - loss: 0.1455 - acc: 0.9547 - val_loss: 0.2936 - val_acc: 0.8858\n",
      "Epoch 22/40\n",
      "15000/15000 [==============================] - 2s 120us/step - loss: 0.1375 - acc: 0.9571 - val_loss: 0.2985 - val_acc: 0.8821\n",
      "Epoch 23/40\n",
      "15000/15000 [==============================] - 2s 117us/step - loss: 0.1295 - acc: 0.9602 - val_loss: 0.2975 - val_acc: 0.8851\n",
      "Epoch 24/40\n",
      "15000/15000 [==============================] - 2s 118us/step - loss: 0.1223 - acc: 0.9635 - val_loss: 0.3031 - val_acc: 0.8837\n",
      "Epoch 25/40\n",
      "15000/15000 [==============================] - 2s 117us/step - loss: 0.1150 - acc: 0.9655 - val_loss: 0.3069 - val_acc: 0.8817\n",
      "Epoch 26/40\n",
      "15000/15000 [==============================] - 2s 119us/step - loss: 0.1096 - acc: 0.9676 - val_loss: 0.3098 - val_acc: 0.8822\n",
      "Epoch 27/40\n",
      "15000/15000 [==============================] - 2s 119us/step - loss: 0.1030 - acc: 0.9717 - val_loss: 0.3133 - val_acc: 0.8813\n",
      "Epoch 28/40\n",
      "15000/15000 [==============================] - 2s 118us/step - loss: 0.0971 - acc: 0.9738 - val_loss: 0.3183 - val_acc: 0.8821\n",
      "Epoch 29/40\n",
      "15000/15000 [==============================] - 2s 112us/step - loss: 0.0915 - acc: 0.9747 - val_loss: 0.3232 - val_acc: 0.8817\n",
      "Epoch 30/40\n",
      "15000/15000 [==============================] - 2s 111us/step - loss: 0.0865 - acc: 0.9767 - val_loss: 0.3284 - val_acc: 0.8805\n",
      "Epoch 31/40\n",
      "15000/15000 [==============================] - 2s 110us/step - loss: 0.0815 - acc: 0.9793 - val_loss: 0.3351 - val_acc: 0.8807\n",
      "Epoch 32/40\n",
      "15000/15000 [==============================] - 2s 110us/step - loss: 0.0775 - acc: 0.9811 - val_loss: 0.3416 - val_acc: 0.8796\n",
      "Epoch 33/40\n",
      "15000/15000 [==============================] - 2s 109us/step - loss: 0.0732 - acc: 0.9834 - val_loss: 0.3479 - val_acc: 0.8791\n",
      "Epoch 34/40\n",
      "15000/15000 [==============================] - 2s 110us/step - loss: 0.0688 - acc: 0.9845 - val_loss: 0.3580 - val_acc: 0.8740\n",
      "Epoch 35/40\n",
      "15000/15000 [==============================] - 2s 110us/step - loss: 0.0656 - acc: 0.9849 - val_loss: 0.3619 - val_acc: 0.8752\n",
      "Epoch 36/40\n",
      "15000/15000 [==============================] - 2s 111us/step - loss: 0.0614 - acc: 0.9861 - val_loss: 0.3674 - val_acc: 0.8760\n",
      "Epoch 37/40\n",
      "15000/15000 [==============================] - 2s 110us/step - loss: 0.0577 - acc: 0.9877 - val_loss: 0.3745 - val_acc: 0.8762\n",
      "Epoch 38/40\n",
      "15000/15000 [==============================] - 2s 109us/step - loss: 0.0549 - acc: 0.9886 - val_loss: 0.3841 - val_acc: 0.8744\n",
      "Epoch 39/40\n",
      "15000/15000 [==============================] - 2s 110us/step - loss: 0.0514 - acc: 0.9904 - val_loss: 0.3906 - val_acc: 0.8733\n",
      "Epoch 40/40\n",
      "15000/15000 [==============================] - 2s 110us/step - loss: 0.0486 - acc: 0.9911 - val_loss: 0.3970 - val_acc: 0.8738\n",
      "25000/25000 [==============================] - 1s 36us/step\n",
      "[0.42194024595737456, 0.86184]\n"
     ]
    }
   ],
   "source": [
    "X_val = np.array(X_train_enc[:10000])\n",
    "partial_x_train = np.array(X_train_enc[10000:])\n",
    "\n",
    "history_glove= model_glove.fit(partial_x_train, partial_y_train, \n",
    "                               epochs = 40, batch_size =512, \n",
    "                               validation_data=(X_val, y_val), verbose=1)\n",
    "results = model_glove.evaluate(X_test_enc, y_test)\n",
    "print(results)"
   ]
  },
  {
   "cell_type": "code",
   "execution_count": 0,
   "metadata": {
    "colab": {
     "base_uri": "https://localhost:8080/",
     "height": 295
    },
    "colab_type": "code",
    "id": "ZWWDctMHPn8k",
    "outputId": "65cd4ac0-4695-4429-eab4-bb1728ab53af"
   },
   "outputs": [
    {
     "data": {
      "image/png": "[encoded data removed]",
      "text/plain": [
       "<Figure size 432x288 with 1 Axes>"
      ]
     },
     "metadata": {
      "tags": []
     },
     "output_type": "display_data"
    }
   ],
   "source": [
    "history_dict = history_glove.history\n",
    "\n",
    "acc = history_dict['acc']\n",
    "val_acc = history_dict['val_acc']\n",
    "loss = history_dict['loss']\n",
    "val_loss = history_dict['val_loss']\n",
    "\n",
    "epochs = range(1, len(acc) + 1)\n",
    "\n",
    "plt.plot(epochs, loss, 'bo', label='Training loss')\n",
    "plt.plot(epochs, val_loss, 'b', label='Validation loss')\n",
    "plt.title('Training and validation loss')\n",
    "plt.xlabel('Epochs')\n",
    "plt.ylabel('Loss')\n",
    "plt.legend()\n",
    "\n",
    "plt.show()"
   ]
  },
  {
   "cell_type": "code",
   "execution_count": 0,
   "metadata": {
    "colab": {
     "base_uri": "https://localhost:8080/",
     "height": 204
    },
    "colab_type": "code",
    "id": "lcqysZ_nZ9ho",
    "outputId": "cb614a91-33af-492d-fb87-585aa44cba9e"
   },
   "outputs": [
    {
     "name": "stdout",
     "output_type": "stream",
     "text": [
      "Test: \n",
      "\n",
      "              precision    recall  f1-score   support\n",
      "\n",
      "           0       0.86      0.86      0.86     12500\n",
      "           1       0.86      0.86      0.86     12500\n",
      "\n",
      "    accuracy                           0.86     25000\n",
      "   macro avg       0.86      0.86      0.86     25000\n",
      "weighted avg       0.86      0.86      0.86     25000\n",
      "\n"
     ]
    }
   ],
   "source": [
    "from sklearn.metrics import classification_report\n",
    "print('Test: \\n')\n",
    "test_hat = [round(x[0], 0) for x in model_glove.predict(X_test_enc)]\n",
    "print(classification_report(y_test, test_hat))"
   ]
  },
  {
   "cell_type": "code",
   "execution_count": 0,
   "metadata": {
    "colab": {
     "base_uri": "https://localhost:8080/",
     "height": 397
    },
    "colab_type": "code",
    "id": "KhxOc9kC27Rm",
    "outputId": "8abd4605-32c7-4d08-8b21-cf0c6c0dbd2f"
   },
   "outputs": [
    {
     "name": "stderr",
     "output_type": "stream",
     "text": [
      "/usr/local/lib/python3.6/dist-packages/keras/engine/sequential.py:111: UserWarning: `Sequential.model` is deprecated. `Sequential` is a subclass of `Model`, you can just use your `Sequential` instance directly.\n",
      "  warnings.warn('`Sequential.model` is deprecated. '\n"
     ]
    },
    {
     "name": "stdout",
     "output_type": "stream",
     "text": [
      "Model: \"sequential_4\"\n",
      "_________________________________________________________________\n",
      "Layer (type)                 Output Shape              Param #   \n",
      "=================================================================\n",
      "embedding_3 (Embedding)      (None, None, 100)         40000100  \n",
      "_________________________________________________________________\n",
      "global_average_pooling1d_mas (None, 100)               0         \n",
      "_________________________________________________________________\n",
      "dense_5 (Dense)              (None, 64)                6464      \n",
      "_________________________________________________________________\n",
      "dense_6 (Dense)              (None, 16)                1040      \n",
      "_________________________________________________________________\n",
      "dense_7 (Dense)              (None, 1)                 17        \n",
      "=================================================================\n",
      "Total params: 40,007,621\n",
      "Trainable params: 40,007,621\n",
      "Non-trainable params: 0\n",
      "_________________________________________________________________\n"
     ]
    }
   ],
   "source": [
    "# put your code here\n",
    "model_glove2 = keras.Sequential()\n",
    "model_glove2.model.add(createPretrainedEmbeddingLayer(wordToGlove, wordToIndex, isTrainable=True))\n",
    "model_glove2.add(GlobalAveragePooling1DMasked())\n",
    "model_glove2.add(keras.layers.Dense(64, activation='relu'))\n",
    "model_glove2.add(keras.layers.Dense(16, activation='relu'))\n",
    "model_glove2.add(keras.layers.Dense(1, activation='sigmoid'))\n",
    "model_glove2.summary()\n",
    "model_glove2.compile(optimizer='adam', loss='binary_crossentropy', metrics = ['accuracy'])"
   ]
  },
  {
   "cell_type": "code",
   "execution_count": 0,
   "metadata": {
    "colab": {
     "base_uri": "https://localhost:8080/",
     "height": 1000
    },
    "colab_type": "code",
    "id": "jThAWegZ3H9Q",
    "outputId": "1571339a-a258-4164-ec2f-8145b38f988f"
   },
   "outputs": [
    {
     "name": "stdout",
     "output_type": "stream",
     "text": [
      "Train on 15000 samples, validate on 10000 samples\n",
      "Epoch 1/40\n",
      "15000/15000 [==============================] - 4s 235us/step - loss: 0.6856 - acc: 0.5797 - val_loss: 0.6774 - val_acc: 0.6141\n",
      "Epoch 2/40\n",
      "15000/15000 [==============================] - 2s 111us/step - loss: 0.6601 - acc: 0.6421 - val_loss: 0.6405 - val_acc: 0.6585\n",
      "Epoch 3/40\n",
      "15000/15000 [==============================] - 2s 112us/step - loss: 0.6002 - acc: 0.7027 - val_loss: 0.5644 - val_acc: 0.7321\n",
      "Epoch 4/40\n",
      "15000/15000 [==============================] - 2s 113us/step - loss: 0.4995 - acc: 0.7818 - val_loss: 0.4623 - val_acc: 0.8009\n",
      "Epoch 5/40\n",
      "15000/15000 [==============================] - 2s 112us/step - loss: 0.3952 - acc: 0.8419 - val_loss: 0.3893 - val_acc: 0.8382\n",
      "Epoch 6/40\n",
      "15000/15000 [==============================] - 2s 111us/step - loss: 0.3285 - acc: 0.8695 - val_loss: 0.3503 - val_acc: 0.8578\n",
      "Epoch 7/40\n",
      "15000/15000 [==============================] - 2s 111us/step - loss: 0.2796 - acc: 0.8931 - val_loss: 0.3306 - val_acc: 0.8656\n",
      "Epoch 8/40\n",
      "15000/15000 [==============================] - 2s 111us/step - loss: 0.2456 - acc: 0.9053 - val_loss: 0.3133 - val_acc: 0.8755\n",
      "Epoch 9/40\n",
      "15000/15000 [==============================] - 2s 109us/step - loss: 0.2145 - acc: 0.9193 - val_loss: 0.3068 - val_acc: 0.8772\n",
      "Epoch 10/40\n",
      "15000/15000 [==============================] - 2s 111us/step - loss: 0.1916 - acc: 0.9287 - val_loss: 0.3006 - val_acc: 0.8804\n",
      "Epoch 11/40\n",
      "15000/15000 [==============================] - 2s 113us/step - loss: 0.1697 - acc: 0.9391 - val_loss: 0.3060 - val_acc: 0.8783\n",
      "Epoch 12/40\n",
      "15000/15000 [==============================] - 2s 113us/step - loss: 0.1523 - acc: 0.9477 - val_loss: 0.3118 - val_acc: 0.8783\n",
      "Epoch 13/40\n",
      "15000/15000 [==============================] - 2s 110us/step - loss: 0.1412 - acc: 0.9503 - val_loss: 0.3195 - val_acc: 0.8758\n",
      "Epoch 14/40\n",
      "15000/15000 [==============================] - 2s 110us/step - loss: 0.1237 - acc: 0.9589 - val_loss: 0.3206 - val_acc: 0.8791\n",
      "Epoch 15/40\n",
      "15000/15000 [==============================] - 2s 112us/step - loss: 0.1098 - acc: 0.9654 - val_loss: 0.3289 - val_acc: 0.8807\n",
      "Epoch 16/40\n",
      "15000/15000 [==============================] - 2s 111us/step - loss: 0.0990 - acc: 0.9701 - val_loss: 0.3338 - val_acc: 0.8805\n",
      "Epoch 17/40\n",
      "15000/15000 [==============================] - 2s 111us/step - loss: 0.0880 - acc: 0.9756 - val_loss: 0.3473 - val_acc: 0.8797\n",
      "Epoch 18/40\n",
      "15000/15000 [==============================] - 2s 113us/step - loss: 0.0799 - acc: 0.9791 - val_loss: 0.3579 - val_acc: 0.8793\n",
      "Epoch 19/40\n",
      "15000/15000 [==============================] - 2s 109us/step - loss: 0.0710 - acc: 0.9818 - val_loss: 0.3757 - val_acc: 0.8769\n",
      "Epoch 20/40\n",
      "15000/15000 [==============================] - 2s 112us/step - loss: 0.0648 - acc: 0.9846 - val_loss: 0.3885 - val_acc: 0.8769\n",
      "Epoch 21/40\n",
      "15000/15000 [==============================] - 2s 110us/step - loss: 0.0569 - acc: 0.9878 - val_loss: 0.4018 - val_acc: 0.8751\n",
      "Epoch 22/40\n",
      "15000/15000 [==============================] - 2s 112us/step - loss: 0.0516 - acc: 0.9895 - val_loss: 0.4188 - val_acc: 0.8741\n",
      "Epoch 23/40\n",
      "15000/15000 [==============================] - 2s 111us/step - loss: 0.0455 - acc: 0.9919 - val_loss: 0.4438 - val_acc: 0.8714\n",
      "Epoch 24/40\n",
      "15000/15000 [==============================] - 2s 111us/step - loss: 0.0411 - acc: 0.9931 - val_loss: 0.4509 - val_acc: 0.8720\n",
      "Epoch 25/40\n",
      "15000/15000 [==============================] - 2s 109us/step - loss: 0.0367 - acc: 0.9939 - val_loss: 0.4663 - val_acc: 0.8700\n",
      "Epoch 26/40\n",
      "15000/15000 [==============================] - 2s 112us/step - loss: 0.0320 - acc: 0.9955 - val_loss: 0.4874 - val_acc: 0.8699\n",
      "Epoch 27/40\n",
      "15000/15000 [==============================] - 2s 109us/step - loss: 0.0284 - acc: 0.9962 - val_loss: 0.5010 - val_acc: 0.8690\n",
      "Epoch 28/40\n",
      "15000/15000 [==============================] - 2s 109us/step - loss: 0.0252 - acc: 0.9969 - val_loss: 0.5231 - val_acc: 0.8677\n",
      "Epoch 29/40\n",
      "15000/15000 [==============================] - 2s 111us/step - loss: 0.0225 - acc: 0.9973 - val_loss: 0.5377 - val_acc: 0.8677\n",
      "Epoch 30/40\n",
      "15000/15000 [==============================] - 2s 111us/step - loss: 0.0199 - acc: 0.9977 - val_loss: 0.5596 - val_acc: 0.8663\n",
      "Epoch 31/40\n",
      "15000/15000 [==============================] - 2s 112us/step - loss: 0.0178 - acc: 0.9983 - val_loss: 0.5681 - val_acc: 0.8658\n",
      "Epoch 32/40\n",
      "15000/15000 [==============================] - 2s 110us/step - loss: 0.0159 - acc: 0.9987 - val_loss: 0.5881 - val_acc: 0.8662\n",
      "Epoch 33/40\n",
      "15000/15000 [==============================] - 2s 109us/step - loss: 0.0142 - acc: 0.9985 - val_loss: 0.6021 - val_acc: 0.8625\n",
      "Epoch 34/40\n",
      "15000/15000 [==============================] - 2s 112us/step - loss: 0.0136 - acc: 0.9989 - val_loss: 0.6149 - val_acc: 0.8631\n",
      "Epoch 35/40\n",
      "15000/15000 [==============================] - 2s 111us/step - loss: 0.0122 - acc: 0.9988 - val_loss: 0.6294 - val_acc: 0.8631\n",
      "Epoch 36/40\n",
      "15000/15000 [==============================] - 2s 111us/step - loss: 0.0102 - acc: 0.9992 - val_loss: 0.6445 - val_acc: 0.8632\n",
      "Epoch 37/40\n",
      "15000/15000 [==============================] - 2s 111us/step - loss: 0.0092 - acc: 0.9993 - val_loss: 0.6582 - val_acc: 0.8633\n",
      "Epoch 38/40\n",
      "15000/15000 [==============================] - 2s 110us/step - loss: 0.0082 - acc: 0.9995 - val_loss: 0.6722 - val_acc: 0.8626\n",
      "Epoch 39/40\n",
      "15000/15000 [==============================] - 2s 110us/step - loss: 0.0074 - acc: 0.9996 - val_loss: 0.6838 - val_acc: 0.8625\n",
      "Epoch 40/40\n",
      "15000/15000 [==============================] - 2s 110us/step - loss: 0.0068 - acc: 0.9996 - val_loss: 0.6971 - val_acc: 0.8620\n",
      "25000/25000 [==============================] - 1s 40us/step\n",
      "[0.7517109228301049, 0.84864]\n"
     ]
    }
   ],
   "source": [
    "history_glove2 = model_glove2.fit(partial_x_train, partial_y_train, \n",
    "                                  epochs = 40, batch_size =512, \n",
    "                                  validation_data=(X_val, y_val), verbose=1)\n",
    "\n",
    "results2 = model_glove2.evaluate(X_test_enc, y_test)\n",
    "print(results2)"
   ]
  },
  {
   "cell_type": "code",
   "execution_count": 0,
   "metadata": {
    "colab": {
     "base_uri": "https://localhost:8080/",
     "height": 295
    },
    "colab_type": "code",
    "id": "QtsdVeW7UgCu",
    "outputId": "a1174426-7704-4828-9dbe-190e84c86011"
   },
   "outputs": [
    {
     "data": {
      "image/png": "[encoded data removed]",
      "text/plain": [
       "<Figure size 432x288 with 1 Axes>"
      ]
     },
     "metadata": {
      "tags": []
     },
     "output_type": "display_data"
    }
   ],
   "source": [
    "import matplotlib.pyplot as plt\n",
    "\n",
    "history_dict = history_glove2.history\n",
    "\n",
    "acc = history_dict['acc']\n",
    "val_acc = history_dict['val_acc']\n",
    "loss = history_dict['loss']\n",
    "val_loss = history_dict['val_loss']\n",
    "\n",
    "epochs = range(1, len(acc) + 1)\n",
    "\n",
    "plt.plot(epochs, loss, 'bo', label='Training loss')\n",
    "plt.plot(epochs, val_loss, 'b', label='Validation loss')\n",
    "plt.title('Training and validation loss')\n",
    "plt.xlabel('Epochs')\n",
    "plt.ylabel('Loss')\n",
    "plt.legend()\n",
    "\n",
    "plt.show()"
   ]
  },
  {
   "cell_type": "code",
   "execution_count": 0,
   "metadata": {
    "colab": {
     "base_uri": "https://localhost:8080/",
     "height": 204
    },
    "colab_type": "code",
    "id": "64Q2jHDeTlu0",
    "outputId": "2b313f9f-3860-4d38-9fb4-0669e88a6e76"
   },
   "outputs": [
    {
     "name": "stdout",
     "output_type": "stream",
     "text": [
      "Test: \n",
      "\n",
      "              precision    recall  f1-score   support\n",
      "\n",
      "           0       0.85      0.84      0.85     12500\n",
      "           1       0.84      0.86      0.85     12500\n",
      "\n",
      "    accuracy                           0.85     25000\n",
      "   macro avg       0.85      0.85      0.85     25000\n",
      "weighted avg       0.85      0.85      0.85     25000\n",
      "\n"
     ]
    }
   ],
   "source": [
    "print('Test: \\n')\n",
    "test_hat = [round(x[0], 0) for x in model_glove2.predict(X_test_enc)]\n",
    "print(classification_report(y_test, test_hat))"
   ]
  },
  {
   "cell_type": "markdown",
   "metadata": {
    "colab_type": "text",
    "id": "Kx--Ytk3ZbLo"
   },
   "source": [
    "The accuracy of model3 with an additional layer is 85%. Adding more layers can help you to extract more features. But we can do that upto a certain extent. After some point, instead of extracting features, we tend to overfit the data. Overfitting can lead to errors in some or the other form like false positives. It is not easy to choose the number of units in a hidden layer or the number of hidden layers in a neural network. For many applications, one hidden layer is enough. As a general rule, the number of units in that hidden layer is between the number of inputs and the number of outputs.\n",
    " The best way to decide on the number of units and hidden layers is to try various parameters. Train several neural networks with different numbers of hidden layers and neurons, and monitor the performance of them. You will have to experiment using a series of different architectures. \n",
    "\n",
    "\n",
    "\n"
   ]
  },
  {
   "cell_type": "markdown",
   "metadata": {
    "colab_type": "text",
    "id": "K80OFKxGyBpL"
   },
   "source": [
    "### Looking for improvement: 300D Glove file"
   ]
  },
  {
   "cell_type": "code",
   "execution_count": 0,
   "metadata": {
    "colab": {
     "base_uri": "https://localhost:8080/",
     "height": 363
    },
    "colab_type": "code",
    "id": "XYC6DykEox2w",
    "outputId": "0bd904fe-e6a0-4287-fab6-463f0274a7cf"
   },
   "outputs": [
    {
     "name": "stderr",
     "output_type": "stream",
     "text": [
      "/usr/local/lib/python3.6/dist-packages/keras/engine/sequential.py:111: UserWarning: `Sequential.model` is deprecated. `Sequential` is a subclass of `Model`, you can just use your `Sequential` instance directly.\n",
      "  warnings.warn('`Sequential.model` is deprecated. '\n"
     ]
    },
    {
     "name": "stdout",
     "output_type": "stream",
     "text": [
      "Model: \"sequential_5\"\n",
      "_________________________________________________________________\n",
      "Layer (type)                 Output Shape              Param #   \n",
      "=================================================================\n",
      "embedding_4 (Embedding)      (None, None, 300)         120000300 \n",
      "_________________________________________________________________\n",
      "global_average_pooling1d_mas (None, 300)               0         \n",
      "_________________________________________________________________\n",
      "dense_8 (Dense)              (None, 16)                4816      \n",
      "_________________________________________________________________\n",
      "dense_9 (Dense)              (None, 1)                 17        \n",
      "=================================================================\n",
      "Total params: 120,005,133\n",
      "Trainable params: 120,005,133\n",
      "Non-trainable params: 0\n",
      "_________________________________________________________________\n"
     ]
    }
   ],
   "source": [
    "wordToIndex, indexToWord, wordToGlove = readGloveFile('glove.6B.300d.txt')\n",
    "# put your code here\n",
    "model_glove3 = keras.Sequential()\n",
    "model_glove3.model.add(createPretrainedEmbeddingLayer(wordToGlove, wordToIndex, isTrainable=True))\n",
    "model_glove3.add(GlobalAveragePooling1DMasked())\n",
    "model_glove3.add(keras.layers.Dense(16, activation='relu'))\n",
    "model_glove3.add(keras.layers.Dense(1, activation='sigmoid'))\n",
    "model_glove3.summary()\n",
    "model_glove3.compile(optimizer='adam', loss='binary_crossentropy', metrics = ['accuracy'])"
   ]
  },
  {
   "cell_type": "markdown",
   "metadata": {
    "colab_type": "text",
    "id": "GsCJ01StlgCx"
   },
   "source": [
    "This tutorial is substantially based on this document:\n",
    "https://www.tensorflow.org/tutorials/keras/basic_text_classification\n",
    "\n",
    "To read more about Sequential APIs you can go to: https://keras.io/getting-started/sequential-model-guide/\n",
    "\n",
    "The one-hot word vector layer is taken from:\n",
    "https://fdalvi.github.io/blog/2018-04-07-keras-sequential-onehot/\n"
   ]
  },
  {
   "cell_type": "code",
   "execution_count": 0,
   "metadata": {
    "colab": {
     "base_uri": "https://localhost:8080/",
     "height": 1000
    },
    "colab_type": "code",
    "id": "jL0UovfaE9GE",
    "outputId": "b8072928-dc43-4f6b-e361-8db4ac4179d4"
   },
   "outputs": [
    {
     "name": "stderr",
     "output_type": "stream",
     "text": [
      "/usr/local/lib/python3.6/dist-packages/tensorflow_core/python/framework/indexed_slices.py:421: UserWarning: Converting sparse IndexedSlices to a dense Tensor with 120000300 elements. This may consume a large amount of memory.\n",
      "  num_elements)\n"
     ]
    },
    {
     "name": "stdout",
     "output_type": "stream",
     "text": [
      "Train on 15000 samples, validate on 10000 samples\n",
      "Epoch 1/40\n",
      "15000/15000 [==============================] - 10s 655us/step - loss: 0.6856 - acc: 0.5848 - val_loss: 0.6754 - val_acc: 0.6075\n",
      "Epoch 2/40\n",
      "15000/15000 [==============================] - 5s 306us/step - loss: 0.6579 - acc: 0.6567 - val_loss: 0.6415 - val_acc: 0.6762\n",
      "Epoch 3/40\n",
      "15000/15000 [==============================] - 5s 306us/step - loss: 0.6122 - acc: 0.7151 - val_loss: 0.5871 - val_acc: 0.7375\n",
      "Epoch 4/40\n",
      "15000/15000 [==============================] - 5s 307us/step - loss: 0.5392 - acc: 0.7817 - val_loss: 0.5087 - val_acc: 0.7968\n",
      "Epoch 5/40\n",
      "15000/15000 [==============================] - 5s 306us/step - loss: 0.4543 - acc: 0.8303 - val_loss: 0.4374 - val_acc: 0.8306\n",
      "Epoch 6/40\n",
      "15000/15000 [==============================] - 5s 308us/step - loss: 0.3832 - acc: 0.8602 - val_loss: 0.3859 - val_acc: 0.8486\n",
      "Epoch 7/40\n",
      "15000/15000 [==============================] - 5s 306us/step - loss: 0.3306 - acc: 0.8785 - val_loss: 0.3522 - val_acc: 0.8610\n",
      "Epoch 8/40\n",
      "15000/15000 [==============================] - 5s 306us/step - loss: 0.2916 - acc: 0.8939 - val_loss: 0.3318 - val_acc: 0.8646\n",
      "Epoch 9/40\n",
      "15000/15000 [==============================] - 5s 307us/step - loss: 0.2612 - acc: 0.9048 - val_loss: 0.3141 - val_acc: 0.8748\n",
      "Epoch 10/40\n",
      "15000/15000 [==============================] - 5s 308us/step - loss: 0.2361 - acc: 0.9149 - val_loss: 0.3045 - val_acc: 0.8780\n",
      "Epoch 11/40\n",
      "15000/15000 [==============================] - 5s 308us/step - loss: 0.2133 - acc: 0.9250 - val_loss: 0.2991 - val_acc: 0.8776\n",
      "Epoch 12/40\n",
      "15000/15000 [==============================] - 5s 306us/step - loss: 0.1967 - acc: 0.9307 - val_loss: 0.2971 - val_acc: 0.8817\n",
      "Epoch 13/40\n",
      "15000/15000 [==============================] - 5s 309us/step - loss: 0.1794 - acc: 0.9409 - val_loss: 0.2919 - val_acc: 0.8826\n",
      "Epoch 14/40\n",
      "15000/15000 [==============================] - 5s 306us/step - loss: 0.1650 - acc: 0.9467 - val_loss: 0.2909 - val_acc: 0.8825\n",
      "Epoch 15/40\n",
      "15000/15000 [==============================] - 5s 307us/step - loss: 0.1520 - acc: 0.9519 - val_loss: 0.2930 - val_acc: 0.8819\n",
      "Epoch 16/40\n",
      "15000/15000 [==============================] - 5s 308us/step - loss: 0.1417 - acc: 0.9568 - val_loss: 0.2947 - val_acc: 0.8830\n",
      "Epoch 17/40\n",
      "15000/15000 [==============================] - 5s 305us/step - loss: 0.1298 - acc: 0.9621 - val_loss: 0.2986 - val_acc: 0.8821\n",
      "Epoch 18/40\n",
      "15000/15000 [==============================] - 5s 306us/step - loss: 0.1207 - acc: 0.9656 - val_loss: 0.3013 - val_acc: 0.8818\n",
      "Epoch 19/40\n",
      "15000/15000 [==============================] - 5s 305us/step - loss: 0.1114 - acc: 0.9694 - val_loss: 0.3067 - val_acc: 0.8820\n",
      "Epoch 20/40\n",
      "15000/15000 [==============================] - 5s 305us/step - loss: 0.1035 - acc: 0.9723 - val_loss: 0.3125 - val_acc: 0.8805\n",
      "Epoch 21/40\n",
      "15000/15000 [==============================] - 5s 306us/step - loss: 0.0958 - acc: 0.9749 - val_loss: 0.3218 - val_acc: 0.8761\n",
      "Epoch 22/40\n",
      "15000/15000 [==============================] - 5s 307us/step - loss: 0.0891 - acc: 0.9776 - val_loss: 0.3271 - val_acc: 0.8787\n",
      "Epoch 23/40\n",
      "15000/15000 [==============================] - 5s 305us/step - loss: 0.0827 - acc: 0.9792 - val_loss: 0.3331 - val_acc: 0.8784\n",
      "Epoch 24/40\n",
      "15000/15000 [==============================] - 5s 306us/step - loss: 0.0765 - acc: 0.9817 - val_loss: 0.3410 - val_acc: 0.8758\n",
      "Epoch 25/40\n",
      "15000/15000 [==============================] - 5s 307us/step - loss: 0.0714 - acc: 0.9838 - val_loss: 0.3514 - val_acc: 0.8741\n",
      "Epoch 26/40\n",
      "15000/15000 [==============================] - 5s 306us/step - loss: 0.0671 - acc: 0.9851 - val_loss: 0.3586 - val_acc: 0.8739\n",
      "Epoch 27/40\n",
      "15000/15000 [==============================] - 5s 307us/step - loss: 0.0624 - acc: 0.9868 - val_loss: 0.3696 - val_acc: 0.8741\n",
      "Epoch 28/40\n",
      "15000/15000 [==============================] - 5s 305us/step - loss: 0.0571 - acc: 0.9885 - val_loss: 0.3761 - val_acc: 0.8741\n",
      "Epoch 29/40\n",
      "15000/15000 [==============================] - 5s 307us/step - loss: 0.0524 - acc: 0.9907 - val_loss: 0.3853 - val_acc: 0.8745\n",
      "Epoch 30/40\n",
      "15000/15000 [==============================] - 5s 306us/step - loss: 0.0486 - acc: 0.9924 - val_loss: 0.3952 - val_acc: 0.8731\n",
      "Epoch 31/40\n",
      "15000/15000 [==============================] - 5s 304us/step - loss: 0.0454 - acc: 0.9929 - val_loss: 0.4056 - val_acc: 0.8720\n",
      "Epoch 32/40\n",
      "15000/15000 [==============================] - 5s 306us/step - loss: 0.0420 - acc: 0.9939 - val_loss: 0.4173 - val_acc: 0.8703\n",
      "Epoch 33/40\n",
      "15000/15000 [==============================] - 5s 304us/step - loss: 0.0392 - acc: 0.9945 - val_loss: 0.4258 - val_acc: 0.8698\n",
      "Epoch 34/40\n",
      "15000/15000 [==============================] - 5s 305us/step - loss: 0.0365 - acc: 0.9952 - val_loss: 0.4346 - val_acc: 0.8688\n",
      "Epoch 35/40\n",
      "15000/15000 [==============================] - 5s 306us/step - loss: 0.0340 - acc: 0.9955 - val_loss: 0.4452 - val_acc: 0.8688\n",
      "Epoch 36/40\n",
      "15000/15000 [==============================] - 5s 305us/step - loss: 0.0316 - acc: 0.9959 - val_loss: 0.4572 - val_acc: 0.8677\n",
      "Epoch 37/40\n",
      "15000/15000 [==============================] - 5s 306us/step - loss: 0.0307 - acc: 0.9961 - val_loss: 0.4660 - val_acc: 0.8671\n",
      "Epoch 38/40\n",
      "15000/15000 [==============================] - 5s 307us/step - loss: 0.0272 - acc: 0.9969 - val_loss: 0.4753 - val_acc: 0.8667\n",
      "Epoch 39/40\n",
      "15000/15000 [==============================] - 5s 306us/step - loss: 0.0252 - acc: 0.9973 - val_loss: 0.4858 - val_acc: 0.8663\n",
      "Epoch 40/40\n",
      "15000/15000 [==============================] - 5s 307us/step - loss: 0.0236 - acc: 0.9979 - val_loss: 0.4937 - val_acc: 0.8667\n",
      "25000/25000 [==============================] - 1s 39us/step\n",
      "[0.5246870586776733, 0.85404]\n"
     ]
    }
   ],
   "source": [
    "history_glove3 = model_glove3.fit(partial_x_train, partial_y_train, \n",
    "                                  epochs = 40, batch_size =512, \n",
    "                                  validation_data=(X_val, y_val), verbose=1)\n",
    "\n",
    "results3 = model_glove3.evaluate(X_test_enc, y_test)\n",
    "print(results3)"
   ]
  },
  {
   "cell_type": "code",
   "execution_count": 0,
   "metadata": {
    "colab": {
     "base_uri": "https://localhost:8080/",
     "height": 295
    },
    "colab_type": "code",
    "id": "Sxua694S1q7g",
    "outputId": "080ff7bc-65c8-4c3e-f12a-527cf7913aaa"
   },
   "outputs": [
    {
     "data": {
      "image/png": "[encoded data removed]",
      "text/plain": [
       "<Figure size 432x288 with 1 Axes>"
      ]
     },
     "metadata": {
      "tags": []
     },
     "output_type": "display_data"
    }
   ],
   "source": [
    "import matplotlib.pyplot as plt\n",
    "\n",
    "history_dict = history_glove3.history\n",
    "\n",
    "acc = history_dict['acc']\n",
    "val_acc = history_dict['val_acc']\n",
    "loss = history_dict['loss']\n",
    "val_loss = history_dict['val_loss']\n",
    "\n",
    "epochs = range(1, len(acc) + 1)\n",
    "\n",
    "plt.plot(epochs, loss, 'bo', label='Training loss')\n",
    "plt.plot(epochs, val_loss, 'b', label='Validation loss')\n",
    "plt.title('Training and validation loss')\n",
    "plt.xlabel('Epochs')\n",
    "plt.ylabel('Loss')\n",
    "plt.legend()\n",
    "\n",
    "plt.show()"
   ]
  },
  {
   "cell_type": "code",
   "execution_count": 0,
   "metadata": {
    "colab": {},
    "colab_type": "code",
    "id": "blpbmemp2rs0"
   },
   "outputs": [],
   "source": []
  }
 ],
 "metadata": {
  "accelerator": "GPU",
  "colab": {
   "collapsed_sections": [],
   "name": "lab4_text_classification.ipynb",
   "provenance": [],
   "toc_visible": true
  },
  "kernelspec": {
   "display_name": "Python 3",
   "language": "python",
   "name": "python3"
  },
  "language_info": {
   "codemirror_mode": {
    "name": "ipython",
    "version": 3
   },
   "file_extension": ".py",
   "mimetype": "text/x-python",
   "name": "python",
   "nbconvert_exporter": "python",
   "pygments_lexer": "ipython3",
   "version": "3.7.6"
  }
 },
 "nbformat": 4,
 "nbformat_minor": 1
}
