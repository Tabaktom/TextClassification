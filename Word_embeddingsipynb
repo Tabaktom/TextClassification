{
 "cells": [
  {
   "cell_type": "code",
   "execution_count": 0,
   "metadata": {
    "colab": {
     "base_uri": "https://localhost:8080/",
     "height": 216
    },
    "colab_type": "code",
    "id": "XlgEG5Qv_CCA",
    "outputId": "0e4cb340-006c-4cff-a0de-37d8634fce44"
   },
   "outputs": [
    {
     "name": "stderr",
     "output_type": "stream",
     "text": [
      "Using TensorFlow backend.\n"
     ]
    },
    {
     "data": {
      "text/html": [
       "<p style=\"color: red;\">\n",
       "The default version of TensorFlow in Colab will soon switch to TensorFlow 2.x.<br>\n",
       "We recommend you <a href=\"https://www.tensorflow.org/guide/migrate\" target=\"_blank\">upgrade</a> now \n",
       "or ensure your notebook will continue to use TensorFlow 1.x via the <code>%tensorflow_version 1.x</code> magic:\n",
       "<a href=\"https://colab.research.google.com/notebooks/tensorflow_version.ipynb\" target=\"_blank\">more info</a>.</p>\n"
      ],
      "text/plain": [
       "<IPython.core.display.HTML object>"
      ]
     },
     "metadata": {
      "tags": []
     },
     "output_type": "display_data"
    },
    {
     "name": "stdout",
     "output_type": "stream",
     "text": [
      "[nltk_data] Downloading package punkt to /root/nltk_data...\n",
      "[nltk_data]   Unzipping tokenizers/punkt.zip.\n",
      "[nltk_data] Downloading package gutenberg to /root/nltk_data...\n",
      "[nltk_data]   Unzipping corpora/gutenberg.zip.\n",
      "[nltk_data] Downloading package stopwords to /root/nltk_data...\n",
      "[nltk_data]   Unzipping corpora/stopwords.zip.\n",
      "16498\n"
     ]
    }
   ],
   "source": [
    "# Import Packages and Corpus\n",
    "import nltk\n",
    "import random\n",
    "import string\n",
    "import numpy as np\n",
    "import matplotlib.pyplot as plt\n",
    "from pandas import DataFrame\n",
    "from IPython.display import SVG\n",
    "from nltk.corpus import gutenberg, stopwords \n",
    "\n",
    "from keras.preprocessing import text\n",
    "from keras.preprocessing.text import text_to_word_sequence\n",
    "from keras.preprocessing.sequence import skipgrams\n",
    "from keras.layers import Dot, Input\n",
    "from keras.layers.core import Dense, Reshape\n",
    "from keras.layers.embeddings import Embedding\n",
    "from keras.models import Model\n",
    "from keras.utils import plot_model, vis_utils\n",
    "from sklearn.metrics.pairwise import cosine_similarity\n",
    "from sklearn.manifold import TSNE\n",
    "\n",
    "\n",
    "nltk.download('punkt')\n",
    "nltk.download('gutenberg')\n",
    "nltk.download('stopwords')\n",
    "\n",
    "stop_words = set(stopwords.words('english')) \n",
    "\n",
    "# Train Data - 3 documents form the Gusten corpus\n",
    "austen = gutenberg.sents('austen-sense.txt') + gutenberg.sents('austen-emma.txt')\n",
    "austen = austen + gutenberg.sents('austen-persuasion.txt') \n",
    "# Sanity Check\n",
    "print(len(austen))"
   ]
  },
  {
   "cell_type": "code",
   "execution_count": 0,
   "metadata": {
    "colab": {},
    "colab_type": "code",
    "id": "_wZof4zr_OZ4"
   },
   "outputs": [],
   "source": [
    "def preprocess(word_list):\n",
    "  sequence = ' '.join(word for word in word_list)\n",
    "  lower_words = text_to_word_sequence(sequence, filters=string.punctuation, lower=True, split=' ')\n",
    "  Fsentences = [] \n",
    "  for word in lower_words:\n",
    "    if word not in stop_words and not word.isdigit():\n",
    "      Fsentences.append(word)\n",
    "  return ' '.join(word for word in Fsentences)     "
   ]
  },
  {
   "cell_type": "code",
   "execution_count": 0,
   "metadata": {
    "colab": {
     "base_uri": "https://localhost:8080/",
     "height": 111
    },
    "colab_type": "code",
    "id": "9rcnXA_r_ZnV",
    "outputId": "ad77ab5f-d4bb-4b41-9301-b857a6ed72e5"
   },
   "outputs": [
    {
     "name": "stdout",
     "output_type": "stream",
     "text": [
      "Length of processed corpus: 13927\n",
      "Processed line: therefore succession norland estate really important sisters fortune independent might arise father inheriting property could small\n"
     ]
    }
   ],
   "source": [
    "Ncorpus = []\n",
    "for i in range(len(austen)):\n",
    "  Csent = preprocess(austen[i])\n",
    "  # Removing sentence which only contains less or equal to 2 words\n",
    "  if len(Csent.split(' ')) > 2:\n",
    "    Ncorpus.append(Csent)\n",
    "    \n",
    "# Sanity Check\n",
    "print('Length of processed corpus:', len(Ncorpus))\n",
    "print('Processed line:', Ncorpus[10])"
   ]
  },
  {
   "cell_type": "markdown",
   "metadata": {
    "colab_type": "text",
    "id": "RqK0jAMIp6KK"
   },
   "source": [
    "Create Corpus vocab and preapration of dataset"
   ]
  },
  {
   "cell_type": "code",
   "execution_count": 0,
   "metadata": {
    "colab": {
     "base_uri": "https://localhost:8080/",
     "height": 190
    },
    "colab_type": "code",
    "id": "D4hJmNPg_grg",
    "outputId": "e9a2eb68-92c5-41c6-c778-8592853c645e"
   },
   "outputs": [
    {
     "name": "stdout",
     "output_type": "stream",
     "text": [
      "Number of unique words: 10104\n",
      "\n",
      "Sample word2idx:  [('captures', 9242), ('revolving', 6358), ('investigation', 5439), ('repent', 2591), ('relinquished', 5537), ('abominate', 10006), ('gravely', 2123), ('consulting', 3651), ('exquisitely', 10044), ('calculate', 4135), ('sup', 7663), ('implanted', 8468), ('floated', 8157), ('scissors', 3428), ('robin', 8357), ('elegantly', 4872), ('beheld', 3824), ('justification', 4599), ('relinquishment', 9238), ('patches', 7110), ('outrage', 8420)]\n",
      "\n",
      "Sample idx2word: [(1, 'could'), (2, 'would'), (3, 'mr'), (4, 'mrs'), (5, 'must'), (6, 'said'), (7, 'one'), (8, 'much'), (9, 'miss'), (10, 'every')]\n",
      "\n",
      "Sample normalized corpus: ['sense sensibility jane austen', 'family dashwood long settled sussex', 'estate large residence norland park centre property many generations lived respectable manner engage general good opinion surrounding acquaintance']\n",
      "\n",
      "Above sentence as a list of ids: [[305, 1379, 75, 4297], [108, 101, 57, 333, 2588], [1022, 405, 1627, 597, 554, 2784, 1023, 66, 4298, 512, 768, 160, 1164, 199, 15, 190, 3043, 147]]\n"
     ]
    }
   ],
   "source": [
    "# Creating the Corpus Vocabulary and Preparing the Dataset\n",
    "t = text.Tokenizer()\n",
    "t.fit_on_texts(Ncorpus)\n",
    "# zero for <PAD>\n",
    "word2idx = t.word_index\n",
    "idx2word = t.index_word\n",
    "sents_as_ids = t.texts_to_sequences(Ncorpus)\n",
    "\n",
    "vocab_size = len(word2idx.values()) + 1 \n",
    "embed_size = 100\n",
    "\n",
    "# Sanity Check\n",
    "print('Number of unique words:', len(word2idx))\n",
    "print('\\nSample word2idx: ', random.choices(list(word2idx.items()), k=21))\n",
    "print('\\nSample idx2word:', list(idx2word.items())[:10])\n",
    "print('\\nSample normalized corpus:', Ncorpus[:3])\n",
    "print('\\nAbove sentence as a list of ids:' , sents_as_ids[:3])"
   ]
  },
  {
   "cell_type": "code",
   "execution_count": 0,
   "metadata": {
    "colab": {
     "base_uri": "https://localhost:8080/",
     "height": 425
    },
    "colab_type": "code",
    "id": "IYaXyP9N_i5f",
    "outputId": "1771664d-0fe3-451f-fa4c-4909d92800f1"
   },
   "outputs": [
    {
     "name": "stdout",
     "output_type": "stream",
     "text": [
      "(jane (75), sense (305)) -> 1\n",
      "(sensibility (1379), austen (4297)) -> 1\n",
      "(austen (4297), length (1412)) -> 0\n",
      "(sensibility (1379), jane (75)) -> 1\n",
      "(austen (4297), jane (75)) -> 1\n",
      "(jane (75), bout (7238)) -> 0\n",
      "(austen (4297), perplexity (2331)) -> 0\n",
      "(sense (305), jane (75)) -> 1\n",
      "(sense (305), began (218)) -> 0\n",
      "(sense (305), motives (1900)) -> 0\n",
      "(jane (75), sensibility (1379)) -> 1\n",
      "(jane (75), inconveniently (7639)) -> 0\n",
      "(sense (305), beg (1050)) -> 0\n",
      "(sensibility (1379), concerning (3958)) -> 0\n",
      "(austen (4297), sensibility (1379)) -> 1\n",
      "(jane (75), imitate (7476)) -> 0\n",
      "(austen (4297), informed (1171)) -> 0\n",
      "(austen (4297), sense (305)) -> 1\n",
      "(sensibility (1379), throughout (3241)) -> 0\n",
      "(jane (75), austen (4297)) -> 1\n",
      "(sensibility (1379), commonplace (4223)) -> 0\n",
      "(sense (305), austen (4297)) -> 1\n",
      "(sense (305), sensibility (1379)) -> 1\n",
      "(sensibility (1379), sense (305)) -> 1\n"
     ]
    }
   ],
   "source": [
    "# Generating training instances\n",
    "skip_grams = [skipgrams(sent, vocabulary_size=vocab_size, window_size=5) for sent in sents_as_ids]\n",
    "\n",
    "# Sanity Check\n",
    "pairs, labels = skip_grams[0][0], skip_grams[0][1]\n",
    "for i in range(len(pairs)):\n",
    "  print('({:s} ({:d}), {:s} ({:d})) -> {:d}'.format(\n",
    "  # the first word and its index\n",
    "  idx2word[pairs[i][0]], pairs[i][0],\n",
    "  # the second word and its index\n",
    "  idx2word[pairs[i][1]], pairs[i][1],\n",
    "  # the label\n",
    "  labels[i]))"
   ]
  },
  {
   "cell_type": "markdown",
   "metadata": {
    "colab_type": "text",
    "id": "_LCMFZ_4rUbP"
   },
   "source": [
    "# Building neural network for skip-gram"
   ]
  },
  {
   "cell_type": "code",
   "execution_count": 0,
   "metadata": {
    "colab": {
     "base_uri": "https://localhost:8080/",
     "height": 598
    },
    "colab_type": "code",
    "id": "EMNCLj8f_l5A",
    "outputId": "11470a0f-2a59-4e76-e964-d69098777d6f"
   },
   "outputs": [
    {
     "name": "stdout",
     "output_type": "stream",
     "text": [
      "WARNING:tensorflow:From /usr/local/lib/python3.6/dist-packages/keras/backend/tensorflow_backend.py:66: The name tf.get_default_graph is deprecated. Please use tf.compat.v1.get_default_graph instead.\n",
      "\n",
      "WARNING:tensorflow:From /usr/local/lib/python3.6/dist-packages/keras/backend/tensorflow_backend.py:541: The name tf.placeholder is deprecated. Please use tf.compat.v1.placeholder instead.\n",
      "\n",
      "WARNING:tensorflow:From /usr/local/lib/python3.6/dist-packages/keras/backend/tensorflow_backend.py:4432: The name tf.random_uniform is deprecated. Please use tf.random.uniform instead.\n",
      "\n",
      "WARNING:tensorflow:From /usr/local/lib/python3.6/dist-packages/keras/optimizers.py:793: The name tf.train.Optimizer is deprecated. Please use tf.compat.v1.train.Optimizer instead.\n",
      "\n",
      "Model: \"model_1\"\n",
      "__________________________________________________________________________________________________\n",
      "Layer (type)                    Output Shape         Param #     Connected to                     \n",
      "==================================================================================================\n",
      "input_1 (InputLayer)            (None, 1)            0                                            \n",
      "__________________________________________________________________________________________________\n",
      "input_2 (InputLayer)            (None, 1)            0                                            \n",
      "__________________________________________________________________________________________________\n",
      "target_embed_layer (Embedding)  (None, 1, 100)       1010500     input_1[0][0]                    \n",
      "__________________________________________________________________________________________________\n",
      "context_embed_layer (Embedding) (None, 1, 100)       1010500     input_2[0][0]                    \n",
      "__________________________________________________________________________________________________\n",
      "reshape_1 (Reshape)             (None, 100)          0           target_embed_layer[0][0]         \n",
      "__________________________________________________________________________________________________\n",
      "reshape_2 (Reshape)             (None, 100)          0           context_embed_layer[0][0]        \n",
      "__________________________________________________________________________________________________\n",
      "dot_1 (Dot)                     (None, 1)            0           reshape_1[0][0]                  \n",
      "                                                                 reshape_2[0][0]                  \n",
      "__________________________________________________________________________________________________\n",
      "dense_1 (Dense)                 (None, 1)            2           dot_1[0][0]                      \n",
      "==================================================================================================\n",
      "Total params: 2,021,002\n",
      "Trainable params: 2,021,002\n",
      "Non-trainable params: 0\n",
      "__________________________________________________________________________________________________\n"
     ]
    }
   ],
   "source": [
    "target_word = Input((1,), dtype='int32')\n",
    "target_embedding = Embedding(vocab_size, \n",
    "                             embed_size, \n",
    "                             name='target_embed_layer',\n",
    "                             embeddings_initializer='glorot_uniform',\n",
    "                             input_length=1)(target_word)\n",
    "target_input = Reshape((embed_size, ))(target_embedding)\n",
    "context_word = Input((1,), dtype='int32')\n",
    "context_embedding = Embedding(vocab_size, embed_size, name='context_embed_layer',\n",
    "                              embeddings_initializer='glorot_uniform',\n",
    "                              input_length=1)(context_word)\n",
    "context_input = Reshape((embed_size, ))(context_embedding)\n",
    "merged_inputs = Dot(axes=-1, normalize=False)([target_input, context_input])\n",
    "label = Dense(units=1, \n",
    "              kernel_initializer='glorot_uniform',\n",
    "              activation='sigmoid')(merged_inputs)\n",
    "\n",
    "model = Model(inputs=[target_word, context_word], outputs=[label])\n",
    "\n",
    "model.compile(loss='mean_squared_error', optimizer='rmsprop')\n",
    "\n",
    "# Sanity Check\n",
    "model.summary()"
   ]
  },
  {
   "cell_type": "code",
   "execution_count": 0,
   "metadata": {
    "colab": {
     "base_uri": "https://localhost:8080/",
     "height": 839
    },
    "colab_type": "code",
    "id": "_oiYY_DL_oNp",
    "outputId": "61cdbacd-1f32-4032-bec2-8948fb056ee1"
   },
   "outputs": [
    {
     "name": "stdout",
     "output_type": "stream",
     "text": [
      "Processed 0 sentences\n",
      "WARNING:tensorflow:From /usr/local/lib/python3.6/dist-packages/keras/backend/tensorflow_backend.py:1033: The name tf.assign_add is deprecated. Please use tf.compat.v1.assign_add instead.\n",
      "\n",
      "WARNING:tensorflow:From /usr/local/lib/python3.6/dist-packages/keras/backend/tensorflow_backend.py:1020: The name tf.assign is deprecated. Please use tf.compat.v1.assign instead.\n",
      "\n",
      "WARNING:tensorflow:From /usr/local/lib/python3.6/dist-packages/keras/backend/tensorflow_backend.py:3005: The name tf.Session is deprecated. Please use tf.compat.v1.Session instead.\n",
      "\n",
      "WARNING:tensorflow:From /usr/local/lib/python3.6/dist-packages/keras/backend/tensorflow_backend.py:190: The name tf.get_default_session is deprecated. Please use tf.compat.v1.get_default_session instead.\n",
      "\n",
      "WARNING:tensorflow:From /usr/local/lib/python3.6/dist-packages/keras/backend/tensorflow_backend.py:197: The name tf.ConfigProto is deprecated. Please use tf.compat.v1.ConfigProto instead.\n",
      "\n",
      "WARNING:tensorflow:From /usr/local/lib/python3.6/dist-packages/keras/backend/tensorflow_backend.py:207: The name tf.global_variables is deprecated. Please use tf.compat.v1.global_variables instead.\n",
      "\n",
      "WARNING:tensorflow:From /usr/local/lib/python3.6/dist-packages/keras/backend/tensorflow_backend.py:216: The name tf.is_variable_initialized is deprecated. Please use tf.compat.v1.is_variable_initialized instead.\n",
      "\n",
      "WARNING:tensorflow:From /usr/local/lib/python3.6/dist-packages/keras/backend/tensorflow_backend.py:223: The name tf.variables_initializer is deprecated. Please use tf.compat.v1.variables_initializer instead.\n",
      "\n",
      "Processed 5000 sentences\n",
      "Processed 10000 sentences\n",
      "Processed all 13926 sentences\n",
      "Epoch: 1 Loss: 2400.2854716442525 \n",
      "\n",
      "Processed 0 sentences\n",
      "Processed 5000 sentences\n",
      "Processed 10000 sentences\n",
      "Processed all 13926 sentences\n",
      "Epoch: 2 Loss: 1961.2278094263747 \n",
      "\n",
      "Processed 0 sentences\n",
      "Processed 5000 sentences\n",
      "Processed 10000 sentences\n",
      "Processed all 13926 sentences\n",
      "Epoch: 3 Loss: 1878.4176778041292 \n",
      "\n",
      "Processed 0 sentences\n",
      "Processed 5000 sentences\n",
      "Processed 10000 sentences\n",
      "Processed all 13926 sentences\n",
      "Epoch: 4 Loss: 1834.2059173785383 \n",
      "\n",
      "Processed 0 sentences\n",
      "Processed 5000 sentences\n",
      "Processed 10000 sentences\n",
      "Processed all 13926 sentences\n",
      "Epoch: 5 Loss: 1813.3783828822197 \n",
      "\n"
     ]
    }
   ],
   "source": [
    "# Train the model\n",
    "for epoch in range(1, 6):\n",
    "  epoch_loss = 0\n",
    "  # in each epoch, train all the sentences, one per iteration=> batch_size = num_sents\n",
    "  for i, sent_examples in enumerate(skip_grams):\n",
    "    target_wds = np.array([pair[0] for pair in sent_examples[0]], dtype='int32')\n",
    "    context_wds = np.array([pair[1] for pair in sent_examples[0]], dtype='int32')\n",
    "    labels = np.array(sent_examples[1], dtype='int32')\n",
    "    X = [target_wds, context_wds]\n",
    "    Y = labels\n",
    "    if i % 5000 == 0: # after 5000 sentences i.e. 5000 iterations\n",
    "      print('Processed %d sentences' %i)\n",
    "    epoch_loss += model.train_on_batch(X, Y)\n",
    "  print('Processed all %d sentences' %i)\n",
    "  print('Epoch:', epoch, 'Loss:', epoch_loss, '\\n')"
   ]
  },
  {
   "cell_type": "code",
   "execution_count": 0,
   "metadata": {
    "colab": {
     "base_uri": "https://localhost:8080/",
     "height": 255
    },
    "colab_type": "code",
    "id": "bsQCnXaT_qJr",
    "outputId": "6118c02d-751f-4056-9ff7-058a9a4bbbd9"
   },
   "outputs": [
    {
     "name": "stdout",
     "output_type": "stream",
     "text": [
      "(10104, 100)\n",
      "             0         1         2   ...        97        98        99\n",
      "could -0.000964 -0.029424  0.130153  ...  0.034465  0.139711 -0.182901\n",
      "would -0.042396 -0.076731 -0.174543  ...  0.000954 -0.150704 -0.282044\n",
      "mr    -0.084814  0.044369 -0.023342  ...  0.085666 -0.088126 -0.162431\n",
      "mrs   -0.067577  0.061958  0.030435  ...  0.061493 -0.307603 -0.191542\n",
      "must  -0.025393  0.109750  0.098294  ...  0.034803 -0.087551 -0.071194\n",
      "said  -0.043349 -0.054695  0.079312  ...  0.040824  0.030287 -0.235119\n",
      "one    0.028626 -0.049119  0.129968  ...  0.045919  0.103490 -0.158919\n",
      "much   0.059237  0.271311  0.095030  ...  0.040019 -0.009000 -0.195685\n",
      "miss   0.147794  0.218513 -0.111300  ... -0.078598  0.070679 -0.155426\n",
      "every -0.114780 -0.010442  0.021867  ... -0.168410  0.134021  0.121020\n",
      "\n",
      "[10 rows x 100 columns]\n"
     ]
    }
   ],
   "source": [
    "# Get the word embedding\n",
    "word_embeddings = model.get_layer('target_embed_layer').get_weights()[0][1:]\n",
    "\n",
    "# Sanity Check\n",
    "print(word_embeddings.shape)\n",
    "print(DataFrame(word_embeddings, index=idx2word.values()).head(10))"
   ]
  },
  {
   "cell_type": "code",
   "execution_count": 0,
   "metadata": {
    "colab": {
     "base_uri": "https://localhost:8080/",
     "height": 34
    },
    "colab_type": "code",
    "id": "yq4XD7qC_sDn",
    "outputId": "7b0da22b-74fc-4cac-e805-8bb94c394e15"
   },
   "outputs": [
    {
     "name": "stdout",
     "output_type": "stream",
     "text": [
      "(10104, 10104)\n"
     ]
    }
   ],
   "source": [
    "# Measuring Similarity Between Word Pairs\n",
    "similarity_matrix = cosine_similarity(word_embeddings)\n",
    "\n",
    "# Check\n",
    "print(similarity_matrix.shape)"
   ]
  },
  {
   "cell_type": "code",
   "execution_count": 0,
   "metadata": {
    "colab": {
     "base_uri": "https://localhost:8080/",
     "height": 74
    },
    "colab_type": "code",
    "id": "SsazGksH_uEW",
    "outputId": "00538266-1b30-4552-af9a-3cebb2be938c"
   },
   "outputs": [
    {
     "name": "stdout",
     "output_type": "stream",
     "text": [
      "{'man': ['satirical', 'existed', 'safest', 'connoisseur', 'son'], 'love': ['viewing', 'whirling', 'figuratively', 'carelessly', 'sonnet'], 'hatred': ['unite', 'modestly', 'slope', 'several', 'grudge'], 'woman': ['quieter', 'young', 'quarters', 'meet', 'elizabeth'], 'wisdom': ['innocence', 'stricken', 'unkind', 'repast', 'graces'], 'kindness': ['anne', 'sight', 'get', 'politeness', 'grandson'], 'god': ['toilsome', 'blocked', 'sarcastically', 'consequent', 'option'], 'folly': ['combine', 'shifts', 'west', 'unattended', 'fluctuating'], 'fool': ['killed', 'overhearing', 'hymen', 'contriving', 'folks']}\n"
     ]
    }
   ],
   "source": [
    "# Exploring and Visualizing your Word Embeddings using t-SNE\n",
    "search_items = ['man', 'love', 'hatred', 'woman', 'wisdom', 'kindness', 'god', 'man', 'folly', 'fool']\n",
    "similar_words = {term: [idx2word[idx] for idx in (-1 * similarity_matrix[word2idx[term]-1]).argsort()[1:6] + 1]\n",
    "                 for term in search_items}\n",
    "\n",
    "# Sanity Check\n",
    "print(similar_words)"
   ]
  },
  {
   "cell_type": "code",
   "execution_count": 0,
   "metadata": {
    "colab": {
     "base_uri": "https://localhost:8080/",
     "height": 523
    },
    "colab_type": "code",
    "id": "VcZQqsST_w3Z",
    "outputId": "99d7b51c-3574-48e9-e7ad-9f9e23607313"
   },
   "outputs": [
    {
     "data": {
      "image/png": "[encoded data removed]",
      "text/plain": [
       "<Figure size 1008x576 with 1 Axes>"
      ]
     },
     "metadata": {
      "tags": []
     },
     "output_type": "display_data"
    }
   ],
   "source": [
    "# Plot the words in the dictionary above using t-SNE \n",
    "tsne = TSNE(perplexity=3, n_components=2, init='pca', n_iter=5000, method='exact')\n",
    "plot_only = 50\n",
    "T = tsne.fit_transform(word_embeddings[:plot_only, :])\n",
    "labels = [idx2word[i+1] for i in range(plot_only)]\n",
    "plt.figure(figsize=(14, 8))\n",
    "plt.scatter(T[:, 0], T[:, 1])\n",
    "for label, x, y in zip(labels, T[:, 0], T[:, 1]):\n",
    "    plt.annotate(label, xy=(x+1, y+1), xytext=(0, 0), \n",
    "                 textcoords='offset points', ha='right',va='bottom')"
   ]
  },
  {
   "cell_type": "code",
   "execution_count": 0,
   "metadata": {
    "colab": {},
    "colab_type": "code",
    "id": "xD5Pb3QaDXfx"
   },
   "outputs": [],
   "source": []
  }
 ],
 "metadata": {
  "accelerator": "GPU",
  "colab": {
   "collapsed_sections": [],
   "name": "NN_nlp_lab1A.ipynb",
   "provenance": []
  },
  "kernelspec": {
   "display_name": "Python 3",
   "language": "python",
   "name": "python3"
  },
  "language_info": {
   "codemirror_mode": {
    "name": "ipython",
    "version": 3
   },
   "file_extension": ".py",
   "mimetype": "text/x-python",
   "name": "python",
   "nbconvert_exporter": "python",
   "pygments_lexer": "ipython3",
   "version": "3.7.6"
  }
 },
 "nbformat": 4,
 "nbformat_minor": 1
}
